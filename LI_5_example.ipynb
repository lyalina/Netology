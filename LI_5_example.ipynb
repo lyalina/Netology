{
 "cells": [
  {
   "cell_type": "markdown",
   "metadata": {},
   "source": [
    "# ДЗ Пример влияния лишних признаков на качество модели"
   ]
  },
  {
   "cell_type": "code",
   "execution_count": 45,
   "metadata": {},
   "outputs": [],
   "source": [
    "import numpy as np\n",
    "import pandas as pd\n",
    "import seaborn as sns\n",
    "import warnings \n",
    "warnings.filterwarnings(\"ignore\") \n",
    "\n",
    "from sklearn.linear_model import LinearRegression"
   ]
  },
  {
   "cell_type": "markdown",
   "metadata": {},
   "source": [
    "Генерируем датасет и признаки. Задаем значение целевой переменной через функцию:  \n",
    "\n",
    "**продажи магазина(revenue) в день  = средний чек (average order value -aov) * количество покупателей (traffic)**\n",
    "\n",
    "в датесете будет еще один дополнительный признак\n",
    "\n",
    "cost -  расходы\n",
    "\n"
   ]
  },
  {
   "cell_type": "code",
   "execution_count": 46,
   "metadata": {},
   "outputs": [
    {
     "data": {
      "text/html": [
       "<div>\n",
       "<style scoped>\n",
       "    .dataframe tbody tr th:only-of-type {\n",
       "        vertical-align: middle;\n",
       "    }\n",
       "\n",
       "    .dataframe tbody tr th {\n",
       "        vertical-align: top;\n",
       "    }\n",
       "\n",
       "    .dataframe thead th {\n",
       "        text-align: right;\n",
       "    }\n",
       "</style>\n",
       "<table border=\"1\" class=\"dataframe\">\n",
       "  <thead>\n",
       "    <tr style=\"text-align: right;\">\n",
       "      <th></th>\n",
       "      <th>cost</th>\n",
       "      <th>traffic</th>\n",
       "      <th>aov</th>\n",
       "      <th>revenue</th>\n",
       "    </tr>\n",
       "  </thead>\n",
       "  <tbody>\n",
       "    <tr>\n",
       "      <th>0</th>\n",
       "      <td>142</td>\n",
       "      <td>178</td>\n",
       "      <td>184</td>\n",
       "      <td>33052</td>\n",
       "    </tr>\n",
       "    <tr>\n",
       "      <th>1</th>\n",
       "      <td>504</td>\n",
       "      <td>604</td>\n",
       "      <td>294</td>\n",
       "      <td>177876</td>\n",
       "    </tr>\n",
       "    <tr>\n",
       "      <th>2</th>\n",
       "      <td>193</td>\n",
       "      <td>956</td>\n",
       "      <td>217</td>\n",
       "      <td>207752</td>\n",
       "    </tr>\n",
       "    <tr>\n",
       "      <th>3</th>\n",
       "      <td>296</td>\n",
       "      <td>220</td>\n",
       "      <td>148</td>\n",
       "      <td>32860</td>\n",
       "    </tr>\n",
       "    <tr>\n",
       "      <th>4</th>\n",
       "      <td>407</td>\n",
       "      <td>813</td>\n",
       "      <td>176</td>\n",
       "      <td>143388</td>\n",
       "    </tr>\n",
       "  </tbody>\n",
       "</table>\n",
       "</div>"
      ],
      "text/plain": [
       "   cost  traffic  aov  revenue\n",
       "0   142      178  184    33052\n",
       "1   504      604  294   177876\n",
       "2   193      956  217   207752\n",
       "3   296      220  148    32860\n",
       "4   407      813  176   143388"
      ]
     },
     "execution_count": 46,
     "metadata": {},
     "output_type": "execute_result"
    }
   ],
   "source": [
    "\n",
    "n_samples = 1000\n",
    "\n",
    "aov = np.random.choice(200, n_samples) + 100     \n",
    "traffic = np.random.choice(1000, n_samples) + 1\n",
    "cost = np.random.choice(500, n_samples) + 10\n",
    "\n",
    "revenue = aov * traffic  + 300  #выручка магазина   \n",
    "\n",
    "data = pd.DataFrame({'cost': cost, 'traffic': traffic, 'aov': aov, 'revenue': revenue})\n",
    "data.head(5)"
   ]
  },
  {
   "cell_type": "markdown",
   "metadata": {},
   "source": [
    "строим модель линейной регресси по созданному датасету"
   ]
  },
  {
   "cell_type": "code",
   "execution_count": 47,
   "metadata": {},
   "outputs": [
    {
     "name": "stdout",
     "output_type": "stream",
     "text": [
      "Weights: [ -1.25368193 197.1257485  512.92736005]\n",
      "Bias: -101090.05845893813\n",
      "Error: 12355.562246908568\n"
     ]
    }
   ],
   "source": [
    "from sklearn.metrics import mean_absolute_error\n",
    "\n",
    "X = data[['cost', 'traffic', 'aov']]\n",
    "y = data['revenue']\n",
    "reg = LinearRegression().fit(X, y)\n",
    "print('Weights: {}'.format(reg.coef_))\n",
    "print('Bias: {}'.format(reg.intercept_))\n",
    "\n",
    "pred_values = reg.predict(data[['cost', 'traffic', 'aov']])\n",
    "print('Error: {}'.format(mean_absolute_error(pred_values, y)))"
   ]
  },
  {
   "cell_type": "markdown",
   "metadata": {},
   "source": [
    "по модели получили вес для каждого из признаков \n",
    "  \n",
    "+ cost -1.25368193    - вес незначительный, но тем не менее влияет на предсказанное значение\n",
    "\n",
    "+ traffic  197.1257485 \n",
    "\n",
    "+ revenue  512.92736005"
   ]
  },
  {
   "cell_type": "code",
   "execution_count": 48,
   "metadata": {},
   "outputs": [
    {
     "data": {
      "text/plain": [
       "92864.5"
      ]
     },
     "execution_count": 48,
     "metadata": {},
     "output_type": "execute_result"
    }
   ],
   "source": [
    "y.median()"
   ]
  },
  {
   "cell_type": "markdown",
   "metadata": {},
   "source": [
    "постром еще одну модель, но используем только значимые признаки:"
   ]
  },
  {
   "cell_type": "code",
   "execution_count": 49,
   "metadata": {
    "scrolled": true
   },
   "outputs": [
    {
     "name": "stdout",
     "output_type": "stream",
     "text": [
      "Weights: [197.14062877 512.81348869]\n",
      "Bias: -101395.91836649382\n",
      "Error: 12354.930906074345\n"
     ]
    }
   ],
   "source": [
    "X = data[['traffic', 'aov']]\n",
    "y = data['revenue']\n",
    "reg = LinearRegression().fit(X, y)\n",
    "print('Weights: {}'.format(reg.coef_))\n",
    "print('Bias: {}'.format(reg.intercept_))\n",
    "\n",
    "pred_values = reg.predict(data[['traffic', 'aov']])\n",
    "print('Error: {}'.format(mean_absolute_error(pred_values, y)))"
   ]
  },
  {
   "cell_type": "markdown",
   "metadata": {},
   "source": [
    "по модели получили вес для каждого из признаков \n",
    "\n",
    "+ traffic  197.14062877 \n",
    "\n",
    "+ revenue  512.81348869\n",
    "\n",
    "Веса и ошибка почти не изменились "
   ]
  },
  {
   "cell_type": "markdown",
   "metadata": {},
   "source": [
    "Рассчитаем вручную признак \"продажи (revenue_m)\" и построим модель только от этого признакак"
   ]
  },
  {
   "cell_type": "code",
   "execution_count": 50,
   "metadata": {},
   "outputs": [
    {
     "data": {
      "text/html": [
       "<div>\n",
       "<style scoped>\n",
       "    .dataframe tbody tr th:only-of-type {\n",
       "        vertical-align: middle;\n",
       "    }\n",
       "\n",
       "    .dataframe tbody tr th {\n",
       "        vertical-align: top;\n",
       "    }\n",
       "\n",
       "    .dataframe thead th {\n",
       "        text-align: right;\n",
       "    }\n",
       "</style>\n",
       "<table border=\"1\" class=\"dataframe\">\n",
       "  <thead>\n",
       "    <tr style=\"text-align: right;\">\n",
       "      <th></th>\n",
       "      <th>cost</th>\n",
       "      <th>traffic</th>\n",
       "      <th>aov</th>\n",
       "      <th>revenue</th>\n",
       "      <th>revenue_m</th>\n",
       "    </tr>\n",
       "  </thead>\n",
       "  <tbody>\n",
       "    <tr>\n",
       "      <th>0</th>\n",
       "      <td>142</td>\n",
       "      <td>178</td>\n",
       "      <td>184</td>\n",
       "      <td>33052</td>\n",
       "      <td>32752</td>\n",
       "    </tr>\n",
       "    <tr>\n",
       "      <th>1</th>\n",
       "      <td>504</td>\n",
       "      <td>604</td>\n",
       "      <td>294</td>\n",
       "      <td>177876</td>\n",
       "      <td>177576</td>\n",
       "    </tr>\n",
       "    <tr>\n",
       "      <th>2</th>\n",
       "      <td>193</td>\n",
       "      <td>956</td>\n",
       "      <td>217</td>\n",
       "      <td>207752</td>\n",
       "      <td>207452</td>\n",
       "    </tr>\n",
       "    <tr>\n",
       "      <th>3</th>\n",
       "      <td>296</td>\n",
       "      <td>220</td>\n",
       "      <td>148</td>\n",
       "      <td>32860</td>\n",
       "      <td>32560</td>\n",
       "    </tr>\n",
       "    <tr>\n",
       "      <th>4</th>\n",
       "      <td>407</td>\n",
       "      <td>813</td>\n",
       "      <td>176</td>\n",
       "      <td>143388</td>\n",
       "      <td>143088</td>\n",
       "    </tr>\n",
       "  </tbody>\n",
       "</table>\n",
       "</div>"
      ],
      "text/plain": [
       "   cost  traffic  aov  revenue  revenue_m\n",
       "0   142      178  184    33052      32752\n",
       "1   504      604  294   177876     177576\n",
       "2   193      956  217   207752     207452\n",
       "3   296      220  148    32860      32560\n",
       "4   407      813  176   143388     143088"
      ]
     },
     "execution_count": 50,
     "metadata": {},
     "output_type": "execute_result"
    }
   ],
   "source": [
    "# Создаем новый признак\n",
    "data['revenue_m'] = data['traffic'] * data['aov']\n",
    "data.head(5)"
   ]
  },
  {
   "cell_type": "code",
   "execution_count": 51,
   "metadata": {},
   "outputs": [
    {
     "name": "stdout",
     "output_type": "stream",
     "text": [
      "Weights: [1.]\n",
      "Bias: 300.0000000000291\n",
      "Error: 1.8416528746456608e-11\n"
     ]
    }
   ],
   "source": [
    "X = data[['revenue_m']]\n",
    "y = data['revenue']\n",
    "reg = LinearRegression().fit(X, y)\n",
    "print('Weights: {}'.format(reg.coef_))\n",
    "print('Bias: {}'.format(reg.intercept_))\n",
    "\n",
    "pred_values = reg.predict(data[['revenue_m']])\n",
    "print('Error: {}'.format(mean_absolute_error(pred_values, y)))"
   ]
  },
  {
   "cell_type": "markdown",
   "metadata": {},
   "source": [
    "По одному признаку модель правильно определила сдвиг в исходно заданной функции:\n",
    "\n",
    "Вес единственного признака:\n",
    "Weights: [1.]\n",
    "\n",
    "Сдвиг равен заданному значению 300:\n",
    "Bias: 300.00000000001455\n",
    "\n",
    "Ошибка близка к 0\n",
    "Error: 4.566231837088708e-12\n"
   ]
  },
  {
   "cell_type": "code",
   "execution_count": 52,
   "metadata": {},
   "outputs": [
    {
     "data": {
      "text/plain": [
       "92864.5"
      ]
     },
     "execution_count": 52,
     "metadata": {},
     "output_type": "execute_result"
    }
   ],
   "source": [
    "y.median()"
   ]
  },
  {
   "cell_type": "code",
   "execution_count": null,
   "metadata": {},
   "outputs": [],
   "source": []
  }
 ],
 "metadata": {
  "kernelspec": {
   "display_name": "Python 3",
   "language": "python",
   "name": "python3"
  },
  "language_info": {
   "codemirror_mode": {
    "name": "ipython",
    "version": 3
   },
   "file_extension": ".py",
   "mimetype": "text/x-python",
   "name": "python",
   "nbconvert_exporter": "python",
   "pygments_lexer": "ipython3",
   "version": "3.7.4"
  }
 },
 "nbformat": 4,
 "nbformat_minor": 4
}
