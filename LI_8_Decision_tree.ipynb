{
 "cells": [
  {
   "cell_type": "markdown",
   "metadata": {},
   "source": [
    "### ДЗ Дерево решений"
   ]
  },
  {
   "cell_type": "code",
   "execution_count": 1,
   "metadata": {},
   "outputs": [
    {
     "name": "stderr",
     "output_type": "stream",
     "text": [
      "e:\\Users\\lyalina_ia\\AppData\\Local\\Continuum\\anaconda3\\lib\\site-packages\\statsmodels\\tools\\_testing.py:19: FutureWarning: pandas.util.testing is deprecated. Use the functions in the public API at pandas.testing instead.\n",
      "  import pandas.util.testing as tm\n"
     ]
    }
   ],
   "source": [
    "from sklearn.datasets import load_iris\n",
    "import pandas as pd\n",
    "from matplotlib import pyplot as plt\n",
    "%matplotlib inline\n",
    "import seaborn as sns\n",
    "import numpy as np\n",
    "from collections import Counter"
   ]
  },
  {
   "cell_type": "markdown",
   "metadata": {},
   "source": [
    "Функция для расчета энтропийного коэффициента"
   ]
  },
  {
   "cell_type": "code",
   "execution_count": 2,
   "metadata": {},
   "outputs": [],
   "source": [
    "def HEntropy(l):\n",
    "    length = len(l)\n",
    "    cnt = Counter(l)\n",
    "    \n",
    "    ent = 0\n",
    "    for cl in cnt.values():\n",
    "        p = cl / length\n",
    "        l2 = np.log2(p)\n",
    "        it = -p * l2\n",
    "        ent += it\n",
    "    \n",
    "    return ent"
   ]
  },
  {
   "cell_type": "markdown",
   "metadata": {},
   "source": [
    "Функция для расчета коэффициента Джини"
   ]
  },
  {
   "cell_type": "code",
   "execution_count": 3,
   "metadata": {},
   "outputs": [],
   "source": [
    "def HGini(l):\n",
    "    length = len(l)\n",
    "    cnt = Counter(l)\n",
    "    \n",
    "    gini = 0\n",
    "    for cl in cnt.values():\n",
    "        p_1 = cl / length\n",
    "        p_2 = (1 - p_1)\n",
    "        it = p_1 * p_2\n",
    "        gini += it\n",
    "    \n",
    "    return gini"
   ]
  },
  {
   "cell_type": "markdown",
   "metadata": {},
   "source": [
    "Функция для расчета критерия информативности"
   ]
  },
  {
   "cell_type": "code",
   "execution_count": 4,
   "metadata": {},
   "outputs": [],
   "source": [
    "def IG(H, l, i):\n",
    "    left_l = l[:i]\n",
    "    right_l = l[i:]\n",
    "    return H(l) - (len(left_l) / len(l)) * H(left_l) - (len(right_l) / len(l)) * H(right_l)"
   ]
  },
  {
   "cell_type": "markdown",
   "metadata": {},
   "source": [
    "Расчет критерия информативности для заданного разбиения переменной"
   ]
  },
  {
   "cell_type": "code",
   "execution_count": 5,
   "metadata": {},
   "outputs": [],
   "source": [
    "def test_H(H, l):\n",
    "    #print(\"{:5} {:3}   {:4} {:4} {:4}\".format(\"#\",\"l\",\"IG\",\"Hl\",\"Hr\"))\n",
    "    #print(\"-\"*24)\n",
    "    dfIG = []\n",
    "    for i in range(1,len(l)):\n",
    "\n",
    "        #print(\"{:2}. {:3}   {:.2f} {:.2f} {:.2f}\".format(i, l.iloc[i], IG(H, l, i), H(l[:i]), H(l[i:])))\n",
    "        dfIG.append([i,IG(H, l, i)])\n",
    "\n",
    "    return dfIG"
   ]
  },
  {
   "cell_type": "markdown",
   "metadata": {},
   "source": [
    "Функция построения дерева решений: \n",
    "    по выбранному признаку сортируем датасет, передаем отсортированный массив значений переменной, последовательно проверяем точку разбиения переданного массива. Определяем шаг, при котором коэф. информативности максимальный, для визуализации выводим значения класса при максимальном\n",
    "    коэф. инф. и значение признака в точке разбиения, по которому проводилась сортировка.\n",
    "\n",
    "В зависимости от заданного параметра критерия информативности, будем строить дерево по энтропийному критерию и критерию Джини."
   ]
  },
  {
   "cell_type": "code",
   "execution_count": 6,
   "metadata": {},
   "outputs": [],
   "source": [
    "def DT_H(coef,y,x):\n",
    "    step_max_IG = 0\n",
    "    n = 0\n",
    "\n",
    "    print(\"{:5}   {:4}   {:4}  {:4}   {:4}\".format(\"#\",\"IG max\", \"# элемента\", \"значение класса\",  \"значение признака\"))\n",
    "    while step_max_IG < len(y):\n",
    "            n += 1\n",
    "            IG_H = test_H(coef, y[step_max_IG:])\n",
    "            IG_H = pd.DataFrame(IG_H)\n",
    "            if IG_H[1].idxmax() != 0:\n",
    "                step_max_IG += IG_H.iloc[IG_H[1].idxmax()][0].astype(int)\n",
    "            else: \n",
    "                step_max_IG =  len(y)\n",
    "            \n",
    "            print(\"Шаг {:2}.   {:.2f}    {:.0f}              {:.2f}        {:.50}\".format(\n",
    "                n, IG_H[1].max(), step_max_IG, y.iloc[step_max_IG-1], x.iloc[step_max_IG-1].to_string() ))"
   ]
  },
  {
   "cell_type": "markdown",
   "metadata": {},
   "source": [
    "Загрузми данные из набора Ирис для построения дерева решений"
   ]
  },
  {
   "cell_type": "code",
   "execution_count": 7,
   "metadata": {},
   "outputs": [],
   "source": [
    "iris = load_iris()"
   ]
  },
  {
   "cell_type": "code",
   "execution_count": 8,
   "metadata": {},
   "outputs": [],
   "source": [
    "X = pd.DataFrame(iris.data, columns=iris.feature_names)\n",
    "y = pd.DataFrame(iris.target, columns=['species'])"
   ]
  },
  {
   "cell_type": "markdown",
   "metadata": {},
   "source": [
    "Проходим по всем признакам и определяем какой из них дает максимальное значение коэф. информативности на первом шаге построения дерева.\n",
    "\n",
    "В данном случае    IG max  = 0.92    для признакак      petal width (cm) <   0.6"
   ]
  },
  {
   "cell_type": "code",
   "execution_count": 9,
   "metadata": {
    "scrolled": false
   },
   "outputs": [
    {
     "name": "stdout",
     "output_type": "stream",
     "text": [
      "Дерево решений по критерию информативности = коэф. энтропии\n",
      "  Построение дерева для признака sepal length (cm)\n",
      "#       IG max   # элемента  значение класса   значение признака\n",
      "Шаг  1.   0.60    55              0.00        sepal length (cm)    5.5\n",
      "Шаг  2.   0.20    76              1.00        sepal length (cm)    5.8\n",
      "Шаг  3.   0.12    138              1.00        sepal length (cm)    7.0\n",
      "Шаг  4.   0.00    150              2.00        sepal length (cm)    7.9\n",
      "  Построение дерева для признака sepal width (cm)\n",
      "#       IG max   # элемента  значение класса   значение признака\n",
      "Шаг  1.   0.34    71              2.00        sepal width (cm)    3.0\n",
      "Шаг  2.   0.16    113              2.00        sepal width (cm)    3.3\n",
      "Шаг  3.   0.08    140              2.00        sepal width (cm)    3.8\n",
      "Шаг  4.   0.00    150              0.00        sepal width (cm)    4.4\n",
      "  Построение дерева для признака petal length (cm)\n",
      "#       IG max   # элемента  значение класса   значение признака\n",
      "Шаг  1.   0.92    50              0.00        petal length (cm)    1.9\n",
      "Шаг  2.   0.67    100              1.00        petal length (cm)    4.9\n",
      "Шаг  3.   0.12    114              1.00        petal length (cm)    5.1\n",
      "Шаг  4.   0.00    150              2.00        petal length (cm)    6.9\n",
      "  Построение дерева для признака petal width (cm)\n",
      "#       IG max   # элемента  значение класса   значение признака\n",
      "Шаг  1.   0.92    50              0.00        petal width (cm)    0.6\n",
      "Шаг  2.   0.71    101              1.00        petal width (cm)    1.6\n",
      "Шаг  3.   0.09    112              1.00        petal width (cm)    1.8\n",
      "Шаг  4.   0.00    150              2.00        petal width (cm)    2.5\n"
     ]
    }
   ],
   "source": [
    "print('Дерево решений по критерию информативности = коэф. энтропии')\n",
    "for i  in range(len(X.columns)):\n",
    "    col = X.columns[i]\n",
    "    print('  Построение дерева для признака', X.columns[i] )\n",
    "    #сортировка по текущему признаку\n",
    "    df = pd.concat([X,y], axis=1)\n",
    "    df.sort_values(by=[col],inplace=True)\n",
    "    X = df.drop(['species'],axis = 1)\n",
    "    y = df['species']\n",
    "    DT_H(HEntropy,y,X.iloc[:, [i]])\n",
    "    \n"
   ]
  },
  {
   "cell_type": "markdown",
   "metadata": {},
   "source": [
    "Проверим как определяется коэф. для критерия Джини"
   ]
  },
  {
   "cell_type": "code",
   "execution_count": 10,
   "metadata": {},
   "outputs": [
    {
     "name": "stdout",
     "output_type": "stream",
     "text": [
      "Дерево решений по критерию информативности = коэф. Джини\n",
      "  Построение дерева для признака sepal length (cm)\n",
      "#       IG max   # элемента  значение класса   значение признака\n",
      "Шаг  1.   0.24    55              0.00        sepal length (cm)    5.5\n",
      "Шаг  2.   0.09    99              1.00        sepal length (cm)    6.2\n",
      "Шаг  3.   0.05    138              1.00        sepal length (cm)    7.0\n",
      "Шаг  4.   0.00    150              2.00        sepal length (cm)    7.9\n",
      "  Построение дерева для признака sepal width (cm)\n",
      "#       IG max   # элемента  значение класса   значение признака\n",
      "Шаг  1.   0.14    73              2.00        sepal width (cm)    3.0\n",
      "Шаг  2.   0.07    112              2.00        sepal width (cm)    3.3\n",
      "Шаг  3.   0.01    123              1.00        sepal width (cm)    3.4\n",
      "Шаг  4.   0.02    134              0.00        sepal width (cm)    3.6\n",
      "Шаг  5.   0.09    150              0.00        sepal width (cm)    4.4\n",
      "  Построение дерева для признака petal length (cm)\n",
      "#       IG max   # элемента  значение класса   значение признака\n",
      "Шаг  1.   0.33    50              0.00        petal length (cm)    1.9\n",
      "Шаг  2.   0.37    95              1.00        petal length (cm)    4.7\n",
      "Шаг  3.   0.06    106              1.00        petal length (cm)    5.0\n",
      "Шаг  4.   0.01    113              1.00        petal length (cm)    5.1\n",
      "Шаг  5.   0.00    150              2.00        petal length (cm)    6.9\n",
      "  Построение дерева для признака petal width (cm)\n",
      "#       IG max   # элемента  значение класса   значение признака\n",
      "Шаг  1.   0.33    50              0.00        petal width (cm)    0.6\n",
      "Шаг  2.   0.41    101              1.00        petal width (cm)    1.6\n",
      "Шаг  3.   0.01    104              1.00        petal width (cm)    1.7\n",
      "Шаг  4.   0.00    113              1.00        petal width (cm)    1.8\n",
      "Шаг  5.   0.00    150              2.00        petal width (cm)    2.5\n"
     ]
    }
   ],
   "source": [
    "print('Дерево решений по критерию информативности = коэф. Джини')\n",
    "for i  in range(len(X.columns)):\n",
    "    col = X.columns[i]\n",
    "    print('  Построение дерева для признака', X.columns[i] )\n",
    "    #сортировка по текущему признаку\n",
    "    df = pd.concat([X,y], axis=1)\n",
    "    df.sort_values(by=[col],inplace=True)\n",
    "    X = df.drop(['species'],axis = 1)\n",
    "    y = df['species']\n",
    "    DT_H(HGini,y,X.iloc[:, [i]]) "
   ]
  },
  {
   "cell_type": "markdown",
   "metadata": {},
   "source": [
    "Исключаем из выборки признак полученный на первом шаге, строим дерево для разделения остальных элементов.\n",
    "\n",
    "В данном случае на втором шаге лучший результат (IG max = 0.66) показывает разбиение по признаку petal length (cm)  <  4.7"
   ]
  },
  {
   "cell_type": "code",
   "execution_count": 23,
   "metadata": {},
   "outputs": [
    {
     "name": "stdout",
     "output_type": "stream",
     "text": [
      "Дерево решений по критерию информативности = коэф. энтропии\n",
      "Выбор второго признака для разбиения\n",
      "  Построение дерева для признака sepal length (cm)\n",
      "#       IG max   # элемента  значение класса   значение признака\n",
      "Шаг  1.   0.17    48              1.00        sepal length (cm)    6.2\n",
      "Шаг  2.   0.12    88              1.00        sepal length (cm)    7.0\n",
      "Шаг  3.   0.00    100              2.00        sepal length (cm)    7.9\n",
      "  Построение дерева для признака sepal width (cm)\n",
      "#       IG max   # элемента  значение класса   значение признака\n",
      "Шаг  1.   0.08    60              1.00        sepal width (cm)    3.0\n",
      "Шаг  2.   0.10    67              2.00        sepal width (cm)    3.0\n",
      "Шаг  3.   0.09    96              1.00        sepal width (cm)    3.4\n",
      "Шаг  4.   0.00    100              2.00        sepal width (cm)    3.8\n",
      "  Построение дерева для признака petal length (cm)\n",
      "#       IG max   # элемента  значение класса   значение признака\n",
      "Шаг  1.   0.66    45              1.00        petal length (cm)    4.7\n",
      "Шаг  2.   0.19    55              1.00        petal length (cm)    5.0\n",
      "Шаг  3.   0.05    66              1.00        petal length (cm)    5.1\n",
      "Шаг  4.   0.00    100              2.00        petal length (cm)    6.9\n"
     ]
    }
   ],
   "source": [
    "print('Дерево решений по критерию информативности = коэф. энтропии')\n",
    "print('Выбор второго признака для разбиения')\n",
    "\n",
    "df1 = pd.concat([X,y], axis=1)\n",
    "X1 = df1.loc[df1['petal width (cm)'] > 0.6]\n",
    "y1 = X1['species']\n",
    "\n",
    "X1 = X1.drop(['petal width (cm)','species'],axis = 1)\n",
    "\n",
    "for i  in range(len(X1.columns)):\n",
    "    col = X1.columns[i]\n",
    "    print('  Построение дерева для признака', X1.columns[i] )\n",
    "    #сортировка по текущему признаку\n",
    "    df1 = pd.concat([X1,y1], axis=1)\n",
    "    df1.sort_values(by=[col],inplace=True)\n",
    "    X1 = df1.drop(['species'],axis = 1)\n",
    "    y1 = df1['species']\n",
    "    DT_H(HEntropy,y1,X1.iloc[:, [i]])\n",
    "    "
   ]
  },
  {
   "cell_type": "code",
   "execution_count": null,
   "metadata": {},
   "outputs": [],
   "source": []
  },
  {
   "cell_type": "code",
   "execution_count": null,
   "metadata": {},
   "outputs": [],
   "source": []
  },
  {
   "cell_type": "markdown",
   "metadata": {},
   "source": [
    "Для сравнения визуализируем дерево решения с использованием библиотеки DecisionTreeClassifier"
   ]
  },
  {
   "cell_type": "code",
   "execution_count": 12,
   "metadata": {},
   "outputs": [
    {
     "data": {
      "text/plain": [
       "DecisionTreeClassifier(max_depth=2)"
      ]
     },
     "execution_count": 12,
     "metadata": {},
     "output_type": "execute_result"
    }
   ],
   "source": [
    "from sklearn.tree import DecisionTreeClassifier\n",
    "clf = DecisionTreeClassifier(max_depth=2)\n",
    "clf.fit(X, y)"
   ]
  },
  {
   "cell_type": "code",
   "execution_count": 13,
   "metadata": {},
   "outputs": [],
   "source": [
    "from sklearn.tree import export_graphviz\n",
    "\n",
    "def get_tree_dot_view(clf, feature_names=None, class_names=None):\n",
    "    print(export_graphviz(clf, out_file=None, filled=True, feature_names=feature_names, class_names=class_names))"
   ]
  },
  {
   "cell_type": "code",
   "execution_count": 14,
   "metadata": {},
   "outputs": [
    {
     "data": {
      "text/plain": [
       "DecisionTreeClassifier(max_depth=3)"
      ]
     },
     "execution_count": 14,
     "metadata": {},
     "output_type": "execute_result"
    }
   ],
   "source": [
    "clf = DecisionTreeClassifier(max_depth=3)\n",
    "clf.fit(X, y)"
   ]
  },
  {
   "cell_type": "code",
   "execution_count": 15,
   "metadata": {},
   "outputs": [
    {
     "name": "stdout",
     "output_type": "stream",
     "text": [
      "digraph Tree {\n",
      "node [shape=box, style=\"filled\", color=\"black\"] ;\n",
      "0 [label=\"petal length (cm) <= 2.45\\ngini = 0.667\\nsamples = 150\\nvalue = [50, 50, 50]\\nclass = setosa\", fillcolor=\"#ffffff\"] ;\n",
      "1 [label=\"gini = 0.0\\nsamples = 50\\nvalue = [50, 0, 0]\\nclass = setosa\", fillcolor=\"#e58139\"] ;\n",
      "0 -> 1 [labeldistance=2.5, labelangle=45, headlabel=\"True\"] ;\n",
      "2 [label=\"petal width (cm) <= 1.75\\ngini = 0.5\\nsamples = 100\\nvalue = [0, 50, 50]\\nclass = versicolor\", fillcolor=\"#ffffff\"] ;\n",
      "0 -> 2 [labeldistance=2.5, labelangle=-45, headlabel=\"False\"] ;\n",
      "3 [label=\"petal length (cm) <= 4.95\\ngini = 0.168\\nsamples = 54\\nvalue = [0, 49, 5]\\nclass = versicolor\", fillcolor=\"#4de88e\"] ;\n",
      "2 -> 3 ;\n",
      "4 [label=\"gini = 0.041\\nsamples = 48\\nvalue = [0, 47, 1]\\nclass = versicolor\", fillcolor=\"#3de684\"] ;\n",
      "3 -> 4 ;\n",
      "5 [label=\"gini = 0.444\\nsamples = 6\\nvalue = [0, 2, 4]\\nclass = virginica\", fillcolor=\"#c09cf2\"] ;\n",
      "3 -> 5 ;\n",
      "6 [label=\"petal length (cm) <= 4.85\\ngini = 0.043\\nsamples = 46\\nvalue = [0, 1, 45]\\nclass = virginica\", fillcolor=\"#843de6\"] ;\n",
      "2 -> 6 ;\n",
      "7 [label=\"gini = 0.444\\nsamples = 3\\nvalue = [0, 1, 2]\\nclass = virginica\", fillcolor=\"#c09cf2\"] ;\n",
      "6 -> 7 ;\n",
      "8 [label=\"gini = 0.0\\nsamples = 43\\nvalue = [0, 0, 43]\\nclass = virginica\", fillcolor=\"#8139e5\"] ;\n",
      "6 -> 8 ;\n",
      "}\n"
     ]
    }
   ],
   "source": [
    "get_tree_dot_view(clf, list(X.columns), iris.target_names)"
   ]
  },
  {
   "cell_type": "markdown",
   "metadata": {},
   "source": [
    "![text](tree.png)"
   ]
  },
  {
   "cell_type": "code",
   "execution_count": null,
   "metadata": {},
   "outputs": [],
   "source": []
  }
 ],
 "metadata": {
  "kernelspec": {
   "display_name": "Python 3",
   "language": "python",
   "name": "python3"
  },
  "language_info": {
   "codemirror_mode": {
    "name": "ipython",
    "version": 3
   },
   "file_extension": ".py",
   "mimetype": "text/x-python",
   "name": "python",
   "nbconvert_exporter": "python",
   "pygments_lexer": "ipython3",
   "version": "3.7.4"
  }
 },
 "nbformat": 4,
 "nbformat_minor": 2
}
