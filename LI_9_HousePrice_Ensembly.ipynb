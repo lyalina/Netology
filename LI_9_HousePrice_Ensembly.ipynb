{
 "cells": [
  {
   "cell_type": "markdown",
   "metadata": {},
   "source": [
    "# ДЗ урок 9 Ансамблирование"
   ]
  },
  {
   "cell_type": "markdown",
   "metadata": {},
   "source": [
    "1. Теперь решаем задачу регрессии - предскажем цены на недвижимость. Использовать датасет https://www.kaggle.com/c/house-prices-advanced-regression-techniques/data (train.csv)\n",
    "2. Данных немного, поэтому необходимо использовать 10-fold кросс-валидацию для оценки качества моделей\n",
    "3. Построить случайный лес, вывести важность признаков\n",
    "4. Обучить стекинг как минимум 3х моделей, использовать хотя бы 1 линейную модель и 1 нелинейную\n",
    "5. Для валидации модели 2-го уровня использовать отдельный hold-out датасет, как на занятии\n",
    "6. Показать, что использование ансамблей моделей действительно улучшает качество (стекинг vs другие модели сравнивать на hold-out)\n",
    "7. В качестве решения:\n",
    "    Jupyter notebook с кодом, комментариями и графиками\n"
   ]
  },
  {
   "cell_type": "code",
   "execution_count": 197,
   "metadata": {},
   "outputs": [],
   "source": [
    "import pandas as pd\n",
    "import matplotlib.pyplot as plt\n",
    "import numpy as np\n",
    "\n",
    "from sklearn import linear_model\n",
    "from sklearn.metrics import mean_squared_error\n",
    "from sklearn.model_selection import train_test_split\n",
    "from sklearn.preprocessing import LabelEncoder, OneHotEncoder\n",
    "from sklearn.tree import DecisionTreeClassifier\n",
    "from sklearn.ensemble import RandomForestClassifier\n",
    "from sklearn.ensemble import BaggingClassifier\n",
    "\n",
    "import warnings\n",
    "warnings.filterwarnings(\"ignore\") \n"
   ]
  },
  {
   "cell_type": "code",
   "execution_count": 198,
   "metadata": {},
   "outputs": [],
   "source": [
    "data = pd.read_csv('data\\\\houseprice\\\\train.csv')"
   ]
  },
  {
   "cell_type": "markdown",
   "metadata": {},
   "source": [
    "### Подготовка признаков\n",
    "Удаляем незначимые признаки"
   ]
  },
  {
   "cell_type": "code",
   "execution_count": 199,
   "metadata": {},
   "outputs": [],
   "source": [
    "X = data.drop(['Id'], axis = 1) # почти пустая колонка, и сильно детальные категории\n",
    "y = data['SalePrice']"
   ]
  },
  {
   "cell_type": "code",
   "execution_count": 200,
   "metadata": {},
   "outputs": [
    {
     "name": "stdout",
     "output_type": "stream",
     "text": [
      "<class 'pandas.core.frame.DataFrame'>\n",
      "RangeIndex: 1460 entries, 0 to 1459\n",
      "Data columns (total 80 columns):\n",
      " #   Column         Non-Null Count  Dtype  \n",
      "---  ------         --------------  -----  \n",
      " 0   MSSubClass     1460 non-null   int64  \n",
      " 1   MSZoning       1460 non-null   object \n",
      " 2   LotFrontage    1201 non-null   float64\n",
      " 3   LotArea        1460 non-null   int64  \n",
      " 4   Street         1460 non-null   object \n",
      " 5   Alley          91 non-null     object \n",
      " 6   LotShape       1460 non-null   object \n",
      " 7   LandContour    1460 non-null   object \n",
      " 8   Utilities      1460 non-null   object \n",
      " 9   LotConfig      1460 non-null   object \n",
      " 10  LandSlope      1460 non-null   object \n",
      " 11  Neighborhood   1460 non-null   object \n",
      " 12  Condition1     1460 non-null   object \n",
      " 13  Condition2     1460 non-null   object \n",
      " 14  BldgType       1460 non-null   object \n",
      " 15  HouseStyle     1460 non-null   object \n",
      " 16  OverallQual    1460 non-null   int64  \n",
      " 17  OverallCond    1460 non-null   int64  \n",
      " 18  YearBuilt      1460 non-null   int64  \n",
      " 19  YearRemodAdd   1460 non-null   int64  \n",
      " 20  RoofStyle      1460 non-null   object \n",
      " 21  RoofMatl       1460 non-null   object \n",
      " 22  Exterior1st    1460 non-null   object \n",
      " 23  Exterior2nd    1460 non-null   object \n",
      " 24  MasVnrType     1452 non-null   object \n",
      " 25  MasVnrArea     1452 non-null   float64\n",
      " 26  ExterQual      1460 non-null   object \n",
      " 27  ExterCond      1460 non-null   object \n",
      " 28  Foundation     1460 non-null   object \n",
      " 29  BsmtQual       1423 non-null   object \n",
      " 30  BsmtCond       1423 non-null   object \n",
      " 31  BsmtExposure   1422 non-null   object \n",
      " 32  BsmtFinType1   1423 non-null   object \n",
      " 33  BsmtFinSF1     1460 non-null   int64  \n",
      " 34  BsmtFinType2   1422 non-null   object \n",
      " 35  BsmtFinSF2     1460 non-null   int64  \n",
      " 36  BsmtUnfSF      1460 non-null   int64  \n",
      " 37  TotalBsmtSF    1460 non-null   int64  \n",
      " 38  Heating        1460 non-null   object \n",
      " 39  HeatingQC      1460 non-null   object \n",
      " 40  CentralAir     1460 non-null   object \n",
      " 41  Electrical     1459 non-null   object \n",
      " 42  1stFlrSF       1460 non-null   int64  \n",
      " 43  2ndFlrSF       1460 non-null   int64  \n",
      " 44  LowQualFinSF   1460 non-null   int64  \n",
      " 45  GrLivArea      1460 non-null   int64  \n",
      " 46  BsmtFullBath   1460 non-null   int64  \n",
      " 47  BsmtHalfBath   1460 non-null   int64  \n",
      " 48  FullBath       1460 non-null   int64  \n",
      " 49  HalfBath       1460 non-null   int64  \n",
      " 50  BedroomAbvGr   1460 non-null   int64  \n",
      " 51  KitchenAbvGr   1460 non-null   int64  \n",
      " 52  KitchenQual    1460 non-null   object \n",
      " 53  TotRmsAbvGrd   1460 non-null   int64  \n",
      " 54  Functional     1460 non-null   object \n",
      " 55  Fireplaces     1460 non-null   int64  \n",
      " 56  FireplaceQu    770 non-null    object \n",
      " 57  GarageType     1379 non-null   object \n",
      " 58  GarageYrBlt    1379 non-null   float64\n",
      " 59  GarageFinish   1379 non-null   object \n",
      " 60  GarageCars     1460 non-null   int64  \n",
      " 61  GarageArea     1460 non-null   int64  \n",
      " 62  GarageQual     1379 non-null   object \n",
      " 63  GarageCond     1379 non-null   object \n",
      " 64  PavedDrive     1460 non-null   object \n",
      " 65  WoodDeckSF     1460 non-null   int64  \n",
      " 66  OpenPorchSF    1460 non-null   int64  \n",
      " 67  EnclosedPorch  1460 non-null   int64  \n",
      " 68  3SsnPorch      1460 non-null   int64  \n",
      " 69  ScreenPorch    1460 non-null   int64  \n",
      " 70  PoolArea       1460 non-null   int64  \n",
      " 71  PoolQC         7 non-null      object \n",
      " 72  Fence          281 non-null    object \n",
      " 73  MiscFeature    54 non-null     object \n",
      " 74  MiscVal        1460 non-null   int64  \n",
      " 75  MoSold         1460 non-null   int64  \n",
      " 76  YrSold         1460 non-null   int64  \n",
      " 77  SaleType       1460 non-null   object \n",
      " 78  SaleCondition  1460 non-null   object \n",
      " 79  SalePrice      1460 non-null   int64  \n",
      "dtypes: float64(3), int64(34), object(43)\n",
      "memory usage: 912.6+ KB\n"
     ]
    }
   ],
   "source": [
    "X.info()"
   ]
  },
  {
   "cell_type": "markdown",
   "metadata": {},
   "source": [
    "\n",
    "\n",
    "Заменяем пустые значения на новую категорию nan или 0.\n",
    "\n",
    "Категориальные признаки переводим в числовые. "
   ]
  },
  {
   "cell_type": "code",
   "execution_count": 201,
   "metadata": {},
   "outputs": [],
   "source": [
    "cat_feat = list(X.dtypes[X.dtypes == object].index)"
   ]
  },
  {
   "cell_type": "code",
   "execution_count": 202,
   "metadata": {},
   "outputs": [
    {
     "name": "stdout",
     "output_type": "stream",
     "text": [
      "MSZoning          5\n",
      "Street            2\n",
      "Alley             2\n",
      "LotShape          4\n",
      "LandContour       4\n",
      "Utilities         2\n",
      "LotConfig         5\n",
      "LandSlope         3\n",
      "Neighborhood     25\n",
      "Condition1        9\n",
      "Condition2        8\n",
      "BldgType          5\n",
      "HouseStyle        8\n",
      "RoofStyle         6\n",
      "RoofMatl          8\n",
      "Exterior1st      15\n",
      "Exterior2nd      16\n",
      "MasVnrType        4\n",
      "ExterQual         4\n",
      "ExterCond         5\n",
      "Foundation        6\n",
      "BsmtQual          4\n",
      "BsmtCond          4\n",
      "BsmtExposure      4\n",
      "BsmtFinType1      6\n",
      "BsmtFinType2      6\n",
      "Heating           6\n",
      "HeatingQC         5\n",
      "CentralAir        2\n",
      "Electrical        5\n",
      "KitchenQual       4\n",
      "Functional        7\n",
      "FireplaceQu       5\n",
      "GarageType        6\n",
      "GarageFinish      3\n",
      "GarageQual        5\n",
      "GarageCond        5\n",
      "PavedDrive        3\n",
      "PoolQC            3\n",
      "Fence             4\n",
      "MiscFeature       4\n",
      "SaleType          9\n",
      "SaleCondition     6\n",
      "dtype: int64\n"
     ]
    }
   ],
   "source": [
    "cat_nunique = X[cat_feat].nunique()\n",
    "num_feat = list(X.dtypes[X.dtypes == float].index)\n",
    "print(cat_nunique)"
   ]
  },
  {
   "cell_type": "code",
   "execution_count": 203,
   "metadata": {},
   "outputs": [],
   "source": [
    "X[cat_feat] = X[cat_feat].fillna('nan')\n",
    "X[num_feat] = X[num_feat].fillna(0)"
   ]
  },
  {
   "cell_type": "code",
   "execution_count": 204,
   "metadata": {},
   "outputs": [],
   "source": [
    "le = LabelEncoder()\n",
    "for i in range(len(cat_feat)):\n",
    "    le.fit( X[cat_feat[i]] )\n",
    "    X[cat_feat[i]] = le.transform( X[cat_feat[i]] )"
   ]
  },
  {
   "cell_type": "code",
   "execution_count": 205,
   "metadata": {},
   "outputs": [],
   "source": [
    "y = X['SalePrice']\n",
    "X = X.drop(['SalePrice'], axis = 1) "
   ]
  },
  {
   "cell_type": "markdown",
   "metadata": {},
   "source": [
    "### Разбиваем выборку \n",
    "\n",
    "X_train y_train  - данные для разбивки на 10 fold и создания стеккинга моделей \n",
    "\n",
    "для модели второго уровня holdout будет набор данных X_test, y_test\n",
    "\n",
    "для сравнения результатов и выявления значимых признаков построим дерево решений на всем наборе признаков"
   ]
  },
  {
   "cell_type": "code",
   "execution_count": 206,
   "metadata": {},
   "outputs": [
    {
     "name": "stdout",
     "output_type": "stream",
     "text": [
      "MSE:  3905105176.5958905\n",
      "SQ MSE:  62490.840741631015\n"
     ]
    }
   ],
   "source": [
    "X_train, X_test, y_train, y_test = train_test_split(X, y, test_size=0.3, random_state=800)\n",
    "\n",
    "clf_dt = DecisionTreeClassifier(max_depth=5, min_samples_leaf=20)\n",
    "clf_dt.fit(X_train, y_train)\n",
    "\n",
    "y_predict_dt = clf_dt.predict(X_test)\n",
    "mse_dt = mean_squared_error(y_test, y_predict_dt)\n",
    "sqrt_mse_dt = np.sqrt(mse_dt)\n",
    "\n",
    "print(\"MSE: \", mse_dt)\n",
    "print(\"SQ MSE: \", sqrt_mse_dt)\n"
   ]
  },
  {
   "cell_type": "markdown",
   "metadata": {},
   "source": [
    "линейная регрессия на всем наборе признаков"
   ]
  },
  {
   "cell_type": "code",
   "execution_count": 207,
   "metadata": {},
   "outputs": [
    {
     "name": "stdout",
     "output_type": "stream",
     "text": [
      "MSE:  1493959046.7031746\n",
      "SQ MSE:  38651.76641116386\n",
      "Score:  0.801799671233239\n"
     ]
    }
   ],
   "source": [
    "model = linear_model.LinearRegression()\n",
    "model.fit( X_train, y_train )\n",
    "\n",
    "y_predict_ln = model.predict(X_test)\n",
    "score_ln = model.score(X_test, y_test)\n",
    "mse_ln = mean_squared_error(y_test, y_predict_ln)\n",
    "sqrt_mse_ln = np.sqrt(mse_ln)\n",
    "\n",
    "print(\"MSE: \", mse_ln)\n",
    "print(\"SQ MSE: \", sqrt_mse_ln)\n",
    "print(\"Score: \", score_ln)"
   ]
  },
  {
   "cell_type": "markdown",
   "metadata": {},
   "source": [
    "Проверим значимость признаков, удалим неинформативные"
   ]
  },
  {
   "cell_type": "code",
   "execution_count": 208,
   "metadata": {},
   "outputs": [
    {
     "data": {
      "text/plain": [
       "array([0.        , 0.        , 0.0950841 , 0.        , 0.        ,\n",
       "       0.        , 0.04252307, 0.        , 0.        , 0.        ,\n",
       "       0.        , 0.        , 0.        , 0.        , 0.        ,\n",
       "       0.        , 0.06833754, 0.        , 0.        , 0.04748101,\n",
       "       0.        , 0.        , 0.        , 0.        , 0.        ,\n",
       "       0.        , 0.        , 0.        , 0.        , 0.        ,\n",
       "       0.        , 0.0437006 , 0.        , 0.08715928, 0.        ,\n",
       "       0.        , 0.05015358, 0.13948359, 0.        , 0.        ,\n",
       "       0.        , 0.        , 0.        , 0.04555871, 0.        ,\n",
       "       0.14372303, 0.        , 0.        , 0.04950715, 0.        ,\n",
       "       0.        , 0.        , 0.        , 0.        , 0.        ,\n",
       "       0.        , 0.04426165, 0.        , 0.        , 0.04938726,\n",
       "       0.        , 0.04657955, 0.        , 0.        , 0.        ,\n",
       "       0.04705988, 0.        , 0.        , 0.        , 0.        ,\n",
       "       0.        , 0.        , 0.        , 0.        , 0.        ,\n",
       "       0.        , 0.        , 0.        , 0.        ])"
      ]
     },
     "execution_count": 208,
     "metadata": {},
     "output_type": "execute_result"
    }
   ],
   "source": [
    " clf_dt.feature_importances_"
   ]
  },
  {
   "cell_type": "code",
   "execution_count": 209,
   "metadata": {},
   "outputs": [],
   "source": [
    "col = []\n",
    "for feat, importance in zip(X.columns, clf_dt.feature_importances_):\n",
    "    if importance <= 0: col.append(feat)\n"
   ]
  },
  {
   "cell_type": "code",
   "execution_count": 210,
   "metadata": {},
   "outputs": [],
   "source": [
    "X_cut = X.drop(col, axis = 1)    # удалим все незначимые колонки"
   ]
  },
  {
   "cell_type": "code",
   "execution_count": 211,
   "metadata": {},
   "outputs": [
    {
     "data": {
      "text/plain": [
       "([<matplotlib.axis.YTick at 0x2d01f9b9ec8>,\n",
       "  <matplotlib.axis.YTick at 0x2d027f70d88>,\n",
       "  <matplotlib.axis.YTick at 0x2d027f6aa48>,\n",
       "  <matplotlib.axis.YTick at 0x2d01f910cc8>,\n",
       "  <matplotlib.axis.YTick at 0x2d01f8fb448>,\n",
       "  <matplotlib.axis.YTick at 0x2d01f8fb188>,\n",
       "  <matplotlib.axis.YTick at 0x2d01f8f9108>,\n",
       "  <matplotlib.axis.YTick at 0x2d01f8f9808>,\n",
       "  <matplotlib.axis.YTick at 0x2d01f904148>,\n",
       "  <matplotlib.axis.YTick at 0x2d01f9048c8>,\n",
       "  <matplotlib.axis.YTick at 0x2d01f91e1c8>,\n",
       "  <matplotlib.axis.YTick at 0x2d01f91e948>,\n",
       "  <matplotlib.axis.YTick at 0x2d01f92a288>,\n",
       "  <matplotlib.axis.YTick at 0x2d01f92ac48>,\n",
       "  <matplotlib.axis.YTick at 0x2d01f91e9c8>,\n",
       "  <matplotlib.axis.YTick at 0x2d01f8fb6c8>,\n",
       "  <matplotlib.axis.YTick at 0x2d01f909888>,\n",
       "  <matplotlib.axis.YTick at 0x2d01f90f188>,\n",
       "  <matplotlib.axis.YTick at 0x2d01f90fc48>,\n",
       "  <matplotlib.axis.YTick at 0x2d01f8ad648>,\n",
       "  <matplotlib.axis.YTick at 0x2d01f892188>,\n",
       "  <matplotlib.axis.YTick at 0x2d01f892b08>,\n",
       "  <matplotlib.axis.YTick at 0x2d01f887588>,\n",
       "  <matplotlib.axis.YTick at 0x2d01f887b88>,\n",
       "  <matplotlib.axis.YTick at 0x2d01f909b88>,\n",
       "  <matplotlib.axis.YTick at 0x2d01f886148>,\n",
       "  <matplotlib.axis.YTick at 0x2d01f886bc8>,\n",
       "  <matplotlib.axis.YTick at 0x2d01f8704c8>,\n",
       "  <matplotlib.axis.YTick at 0x2d01f87f108>,\n",
       "  <matplotlib.axis.YTick at 0x2d01f87fa88>,\n",
       "  <matplotlib.axis.YTick at 0x2d01f89d508>,\n",
       "  <matplotlib.axis.YTick at 0x2d01f89db08>,\n",
       "  <matplotlib.axis.YTick at 0x2d01f89a9c8>,\n",
       "  <matplotlib.axis.YTick at 0x2d01f89d108>,\n",
       "  <matplotlib.axis.YTick at 0x2d01f886d08>,\n",
       "  <matplotlib.axis.YTick at 0x2d01f898688>,\n",
       "  <matplotlib.axis.YTick at 0x2d01f882248>,\n",
       "  <matplotlib.axis.YTick at 0x2d01f882848>,\n",
       "  <matplotlib.axis.YTick at 0x2d01f88a3c8>,\n",
       "  <matplotlib.axis.YTick at 0x2d01f88ae08>,\n",
       "  <matplotlib.axis.YTick at 0x2d01f8a8888>,\n",
       "  <matplotlib.axis.YTick at 0x2d01f89b308>,\n",
       "  <matplotlib.axis.YTick at 0x2d01f89bd48>,\n",
       "  <matplotlib.axis.YTick at 0x2d01f89bbc8>,\n",
       "  <matplotlib.axis.YTick at 0x2d01f898208>,\n",
       "  <matplotlib.axis.YTick at 0x2d01f891988>,\n",
       "  <matplotlib.axis.YTick at 0x2d01f87d288>,\n",
       "  <matplotlib.axis.YTick at 0x2d01f87dd48>,\n",
       "  <matplotlib.axis.YTick at 0x2d01f800748>,\n",
       "  <matplotlib.axis.YTick at 0x2d01f824248>,\n",
       "  <matplotlib.axis.YTick at 0x2d01f824c08>,\n",
       "  <matplotlib.axis.YTick at 0x2d01f816688>,\n",
       "  <matplotlib.axis.YTick at 0x2d01f8171c8>,\n",
       "  <matplotlib.axis.YTick at 0x2d01f824c88>,\n",
       "  <matplotlib.axis.YTick at 0x2d01f898d48>,\n",
       "  <matplotlib.axis.YTick at 0x2d01f817c48>,\n",
       "  <matplotlib.axis.YTick at 0x2d01f7f9548>,\n",
       "  <matplotlib.axis.YTick at 0x2d01f80e108>,\n",
       "  <matplotlib.axis.YTick at 0x2d01f80ea08>,\n",
       "  <matplotlib.axis.YTick at 0x2d01f809488>,\n",
       "  <matplotlib.axis.YTick at 0x2d01f809d88>,\n",
       "  <matplotlib.axis.YTick at 0x2d01f7fb948>,\n",
       "  <matplotlib.axis.YTick at 0x2d01f809dc8>,\n",
       "  <matplotlib.axis.YTick at 0x2d01f7f9688>,\n",
       "  <matplotlib.axis.YTick at 0x2d01f82f208>,\n",
       "  <matplotlib.axis.YTick at 0x2d01f826288>,\n",
       "  <matplotlib.axis.YTick at 0x2d01f826888>,\n",
       "  <matplotlib.axis.YTick at 0x2d01f815408>,\n",
       "  <matplotlib.axis.YTick at 0x2d01f815e48>,\n",
       "  <matplotlib.axis.YTick at 0x2d01f81cdc8>,\n",
       "  <matplotlib.axis.YTick at 0x2d01f81f348>,\n",
       "  <matplotlib.axis.YTick at 0x2d01f81fd88>,\n",
       "  <matplotlib.axis.YTick at 0x2d01f815d48>,\n",
       "  <matplotlib.axis.YTick at 0x2d01f82f708>,\n",
       "  <matplotlib.axis.YTick at 0x2d01f819a48>,\n",
       "  <matplotlib.axis.YTick at 0x2d01f806348>,\n",
       "  <matplotlib.axis.YTick at 0x2d01f806c08>,\n",
       "  <matplotlib.axis.YTick at 0x2d01f81b788>,\n",
       "  <matplotlib.axis.YTick at 0x2d01f7f2288>],\n",
       " [Text(0, 0, 'MSSubClass'),\n",
       "  Text(0, 0, 'MSZoning'),\n",
       "  Text(0, 0, 'LotFrontage'),\n",
       "  Text(0, 0, 'LotArea'),\n",
       "  Text(0, 0, 'Street'),\n",
       "  Text(0, 0, 'Alley'),\n",
       "  Text(0, 0, 'LotShape'),\n",
       "  Text(0, 0, 'LandContour'),\n",
       "  Text(0, 0, 'Utilities'),\n",
       "  Text(0, 0, 'LotConfig'),\n",
       "  Text(0, 0, 'LandSlope'),\n",
       "  Text(0, 0, 'Neighborhood'),\n",
       "  Text(0, 0, 'Condition1'),\n",
       "  Text(0, 0, 'Condition2'),\n",
       "  Text(0, 0, 'BldgType'),\n",
       "  Text(0, 0, 'HouseStyle'),\n",
       "  Text(0, 0, 'OverallQual'),\n",
       "  Text(0, 0, 'OverallCond'),\n",
       "  Text(0, 0, 'YearBuilt'),\n",
       "  Text(0, 0, 'YearRemodAdd'),\n",
       "  Text(0, 0, 'RoofStyle'),\n",
       "  Text(0, 0, 'RoofMatl'),\n",
       "  Text(0, 0, 'Exterior1st'),\n",
       "  Text(0, 0, 'Exterior2nd'),\n",
       "  Text(0, 0, 'MasVnrType'),\n",
       "  Text(0, 0, 'MasVnrArea'),\n",
       "  Text(0, 0, 'ExterQual'),\n",
       "  Text(0, 0, 'ExterCond'),\n",
       "  Text(0, 0, 'Foundation'),\n",
       "  Text(0, 0, 'BsmtQual'),\n",
       "  Text(0, 0, 'BsmtCond'),\n",
       "  Text(0, 0, 'BsmtExposure'),\n",
       "  Text(0, 0, 'BsmtFinType1'),\n",
       "  Text(0, 0, 'BsmtFinSF1'),\n",
       "  Text(0, 0, 'BsmtFinType2'),\n",
       "  Text(0, 0, 'BsmtFinSF2'),\n",
       "  Text(0, 0, 'BsmtUnfSF'),\n",
       "  Text(0, 0, 'TotalBsmtSF'),\n",
       "  Text(0, 0, 'Heating'),\n",
       "  Text(0, 0, 'HeatingQC'),\n",
       "  Text(0, 0, 'CentralAir'),\n",
       "  Text(0, 0, 'Electrical'),\n",
       "  Text(0, 0, '1stFlrSF'),\n",
       "  Text(0, 0, '2ndFlrSF'),\n",
       "  Text(0, 0, 'LowQualFinSF'),\n",
       "  Text(0, 0, 'GrLivArea'),\n",
       "  Text(0, 0, 'BsmtFullBath'),\n",
       "  Text(0, 0, 'BsmtHalfBath'),\n",
       "  Text(0, 0, 'FullBath'),\n",
       "  Text(0, 0, 'HalfBath'),\n",
       "  Text(0, 0, 'BedroomAbvGr'),\n",
       "  Text(0, 0, 'KitchenAbvGr'),\n",
       "  Text(0, 0, 'KitchenQual'),\n",
       "  Text(0, 0, 'TotRmsAbvGrd'),\n",
       "  Text(0, 0, 'Functional'),\n",
       "  Text(0, 0, 'Fireplaces'),\n",
       "  Text(0, 0, 'FireplaceQu'),\n",
       "  Text(0, 0, 'GarageType'),\n",
       "  Text(0, 0, 'GarageYrBlt'),\n",
       "  Text(0, 0, 'GarageFinish'),\n",
       "  Text(0, 0, 'GarageCars'),\n",
       "  Text(0, 0, 'GarageArea'),\n",
       "  Text(0, 0, 'GarageQual'),\n",
       "  Text(0, 0, 'GarageCond'),\n",
       "  Text(0, 0, 'PavedDrive'),\n",
       "  Text(0, 0, 'WoodDeckSF'),\n",
       "  Text(0, 0, 'OpenPorchSF'),\n",
       "  Text(0, 0, 'EnclosedPorch'),\n",
       "  Text(0, 0, '3SsnPorch'),\n",
       "  Text(0, 0, 'ScreenPorch'),\n",
       "  Text(0, 0, 'PoolArea'),\n",
       "  Text(0, 0, 'PoolQC'),\n",
       "  Text(0, 0, 'Fence'),\n",
       "  Text(0, 0, 'MiscFeature'),\n",
       "  Text(0, 0, 'MiscVal'),\n",
       "  Text(0, 0, 'MoSold'),\n",
       "  Text(0, 0, 'YrSold'),\n",
       "  Text(0, 0, 'SaleType'),\n",
       "  Text(0, 0, 'SaleCondition')])"
      ]
     },
     "execution_count": 211,
     "metadata": {},
     "output_type": "execute_result"
    },
    {
     "data": {
      "image/png": "[encoded data removed]",
      "text/plain": [
       "<Figure size 432x288 with 1 Axes>"
      ]
     },
     "metadata": {
      "needs_background": "light"
     },
     "output_type": "display_data"
    }
   ],
   "source": [
    "plt.barh(np.arange(len(clf_dt.feature_importances_)), clf_dt.feature_importances_)\n",
    "plt.yticks(np.arange(len(X.columns)),X.columns) "
   ]
  },
  {
   "cell_type": "markdown",
   "metadata": {},
   "source": [
    "Построим еще одну модель классификатора - случайный лес"
   ]
  },
  {
   "cell_type": "code",
   "execution_count": 212,
   "metadata": {},
   "outputs": [
    {
     "name": "stdout",
     "output_type": "stream",
     "text": [
      "Значимость признаков\n",
      "[0.01308127 0.00455605 0.04392481 0.04276263 0.         0.\n",
      " 0.         0.00494324 0.         0.00726958 0.         0.01609616\n",
      " 0.00595238 0.         0.         0.00936004 0.03827734 0.00348473\n",
      " 0.03735942 0.02295549 0.         0.         0.00311876 0.0176745\n",
      " 0.         0.02968284 0.00524845 0.         0.01160139 0.00332284\n",
      " 0.00469676 0.00900239 0.02761838 0.06464036 0.         0.\n",
      " 0.02128588 0.06979868 0.         0.01029085 0.00413518 0.00511738\n",
      " 0.03149739 0.02967825 0.         0.07007591 0.         0.\n",
      " 0.0053793  0.00445314 0.00917876 0.         0.01718605 0.01347707\n",
      " 0.         0.00393294 0.         0.00794438 0.04813899 0.0079698\n",
      " 0.         0.08887534 0.         0.         0.00431133 0.0315717\n",
      " 0.03879685 0.00782145 0.         0.00391862 0.         0.\n",
      " 0.         0.         0.         0.03464557 0.0038894  0.\n",
      " 0.        ]\n",
      "MSE:  3659063398.0570774\n",
      "SQ MSE:  60490.19257745075\n"
     ]
    }
   ],
   "source": [
    "clf_rf = RandomForestClassifier(n_estimators=10, max_depth=10, min_samples_leaf=20, max_features=0.5, n_jobs=-1)\n",
    "clf_rf.fit(X_train, y_train)   \n",
    "y_predict_rf = clf_rf.predict(X_test)\n",
    "print(\"Значимость признаков\")\n",
    "print(clf_rf.feature_importances_)  \n",
    "\n",
    "mse_rf = mean_squared_error(y_test, y_predict_rf)\n",
    "sqrt_mse_rf = np.sqrt(mse_rf)\n",
    "\n",
    "\n",
    "print(\"MSE: \", mse_rf)\n",
    "print(\"SQ MSE: \", sqrt_mse_rf)"
   ]
  },
  {
   "cell_type": "code",
   "execution_count": null,
   "metadata": {},
   "outputs": [],
   "source": []
  },
  {
   "cell_type": "code",
   "execution_count": 213,
   "metadata": {},
   "outputs": [],
   "source": [
    "col2 = []\n",
    "for feat, importance in zip(X.columns, clf_rf.feature_importances_):\n",
    "    if importance <= 0: col2.append(feat)"
   ]
  },
  {
   "cell_type": "code",
   "execution_count": 214,
   "metadata": {},
   "outputs": [],
   "source": [
    "X_cut2 = X.drop(col2, axis = 1)    # удалим все незначимые колонки"
   ]
  },
  {
   "cell_type": "markdown",
   "metadata": {},
   "source": [
    "Дерево решений и случайный лес дают разный набор значимых признаков (X_cut и X_cut2). Сравним на линейной регрессии первого уровня какой вариант лучше:"
   ]
  },
  {
   "cell_type": "code",
   "execution_count": 215,
   "metadata": {},
   "outputs": [
    {
     "name": "stdout",
     "output_type": "stream",
     "text": [
      "MSE:  1616599696.5699139\n",
      "SQ MSE:  40206.96079747777\n"
     ]
    }
   ],
   "source": [
    "X_train, X_test, y_train, y_test = train_test_split(X_cut, y, test_size=0.3, random_state=800)\n",
    "model3 = linear_model.LinearRegression()\n",
    "model3.fit( X_train, y_train )\n",
    "\n",
    "y_predict_ln3 = model3.predict(X_test)\n",
    "score_ln3 = model3.score(X_test, y_test)\n",
    "mse_ln3 = mean_squared_error(y_test, y_predict_ln3)\n",
    "sqrt_mse_ln3 = np.sqrt(mse_ln3)\n",
    "\n",
    "print(\"MSE: \", mse_ln3)\n",
    "print(\"SQ MSE: \", sqrt_mse_ln3)\n"
   ]
  },
  {
   "cell_type": "code",
   "execution_count": 216,
   "metadata": {},
   "outputs": [
    {
     "name": "stdout",
     "output_type": "stream",
     "text": [
      "MSE:  1376914396.626296\n",
      "SQ MSE:  37106.79717553505\n"
     ]
    }
   ],
   "source": [
    "X_train, X_test, y_train, y_test = train_test_split(X_cut2, y, test_size=0.3, random_state=800)\n",
    "model = linear_model.LinearRegression()\n",
    "model.fit( X_train, y_train )\n",
    "\n",
    "y_predict_ln1 = model.predict(X_test)\n",
    "score_ln1 = model.score(X_test, y_test)\n",
    "mse_ln1 = mean_squared_error(y_test, y_predict_ln1)\n",
    "sqrt_mse_ln1 = np.sqrt(mse_ln1)\n",
    "\n",
    "print(\"MSE: \", mse_ln1)\n",
    "print(\"SQ MSE: \", sqrt_mse_ln1)\n"
   ]
  },
  {
   "cell_type": "markdown",
   "metadata": {},
   "source": [
    "Будем далее использовать набор признаков X_cut2, значимость которых определил случайный лес.\n",
    "\n",
    "Посторим еще раз модели по усеченному набору признаков для сравнения с исходными:"
   ]
  },
  {
   "cell_type": "code",
   "execution_count": 217,
   "metadata": {},
   "outputs": [
    {
     "name": "stdout",
     "output_type": "stream",
     "text": [
      "MSE:  3875488834.130137\n",
      "SQ MSE:  62253.42427634111\n"
     ]
    }
   ],
   "source": [
    "clf_dt = DecisionTreeClassifier(max_depth=5, min_samples_leaf=20)\n",
    "clf_dt.fit(X_train, y_train)\n",
    "\n",
    "y_predict_dt2 = clf_dt.predict(X_test)\n",
    "mse_dt2 = mean_squared_error(y_test, y_predict_dt2)\n",
    "sqrt_mse_dt2 = np.sqrt(mse_dt2)\n",
    "\n",
    "print(\"MSE: \", mse_dt2)\n",
    "print(\"SQ MSE: \", sqrt_mse_dt2)"
   ]
  },
  {
   "cell_type": "code",
   "execution_count": 218,
   "metadata": {},
   "outputs": [
    {
     "name": "stdout",
     "output_type": "stream",
     "text": [
      "MSE:  3324146684.210046\n",
      "SQ MSE:  57655.41331228184\n"
     ]
    }
   ],
   "source": [
    "clf_rf = RandomForestClassifier(n_estimators=10, max_depth=10, min_samples_leaf=20, max_features=0.5, n_jobs=-1)\n",
    "clf_rf.fit(X_train, y_train)   \n",
    "y_predict_rf2 = clf_rf.predict(X_test)\n",
    "\n",
    "mse_rf2 = mean_squared_error(y_test, y_predict_rf2)\n",
    "sqrt_mse_rf2 = np.sqrt(mse_rf2)\n",
    "\n",
    "print(\"MSE: \", mse_rf2)\n",
    "print(\"SQ MSE: \", sqrt_mse_rf2)"
   ]
  },
  {
   "cell_type": "markdown",
   "metadata": {},
   "source": [
    "Используем беггинг на классификатора Дерево решений по 10 вариантам предсказаний"
   ]
  },
  {
   "cell_type": "code",
   "execution_count": 219,
   "metadata": {},
   "outputs": [
    {
     "name": "stdout",
     "output_type": "stream",
     "text": [
      "MSE:  4850044729.577625\n",
      "SQ MSE:  69642.26252483204\n"
     ]
    }
   ],
   "source": [
    "bag_clf = BaggingClassifier(n_estimators=10, base_estimator=DecisionTreeClassifier(), n_jobs=-1)\n",
    "bag_clf.fit(X_train, y_train)\n",
    "\n",
    "y_predict_bg = bag_clf.predict(X_test)\n",
    "mse_bg = mean_squared_error(y_test, y_predict_bg)\n",
    "sqrt_mse_bg = np.sqrt(mse_bg)\n",
    "print(\"MSE: \", mse_bg)\n",
    "print(\"SQ MSE: \", sqrt_mse_bg)"
   ]
  },
  {
   "cell_type": "markdown",
   "metadata": {},
   "source": [
    "Используем стеккинг для трех моделей:\n",
    "+ дерево решений\n",
    "+ линейная регрессия\n",
    "+ случайный лес\n",
    "\n",
    "\n",
    "y_test используем как hold out для проверки стеккинга.\n",
    "x_train разбиваем на kfold 10"
   ]
  },
  {
   "cell_type": "code",
   "execution_count": 220,
   "metadata": {},
   "outputs": [],
   "source": [
    "from sklearn.model_selection import StratifiedKFold"
   ]
  },
  {
   "cell_type": "code",
   "execution_count": 221,
   "metadata": {},
   "outputs": [
    {
     "name": "stdout",
     "output_type": "stream",
     "text": [
      "(1460, 79)\n",
      "(1460,)\n",
      "(1022, 48)\n",
      "(1022,)\n",
      "(438, 48)\n",
      "(438,)\n"
     ]
    }
   ],
   "source": [
    "print(X.shape)\n",
    "print(y.shape)\n",
    "\n",
    "print(X_train.shape)\n",
    "print(y_train.shape)\n",
    "\n",
    "print(X_test.shape)\n",
    "print(y_test.shape)"
   ]
  },
  {
   "cell_type": "code",
   "execution_count": 222,
   "metadata": {},
   "outputs": [],
   "source": [
    "def get_meta_features(clf, X_train, y_train, X_test, stack_cv):\n",
    "    meta_train = np.zeros_like(y_train, dtype=float)\n",
    "    meta_test = np.zeros_like(y_test, dtype=float)\n",
    "    \n",
    "    for i, (train_ind, test_ind) in enumerate(stack_cv.split(X_train, y_train)):\n",
    "        \n",
    "        clf.fit(X_train.iloc[train_ind], y_train.iloc[train_ind])\n",
    "        meta_train[test_ind] = clf.predict(X_train.iloc[test_ind])\n",
    "        meta_test += clf.predict(X_test)\n",
    "\n",
    "    return meta_train, meta_test / stack_cv.n_splits"
   ]
  },
  {
   "cell_type": "code",
   "execution_count": 223,
   "metadata": {},
   "outputs": [
    {
     "name": "stdout",
     "output_type": "stream",
     "text": [
      "DT features...\n",
      "Lin features...\n",
      "RF features...\n"
     ]
    }
   ],
   "source": [
    "from sklearn.model_selection import StratifiedKFold\n",
    "\n",
    "stack_cv = StratifiedKFold(n_splits=10, random_state=555)\n",
    "\n",
    "meta_train = []\n",
    "meta_test = []\n",
    "col_names = []\n",
    "\n",
    "print('DT features...')\n",
    "meta_tr, meta_te = get_meta_features(clf_dt, X_train, y_train, X_test, stack_cv)\n",
    "\n",
    "meta_train.append(meta_tr)\n",
    "meta_test.append(meta_te)\n",
    "col_names.append('DT pred')\n",
    "\n",
    "print('Lin features...')\n",
    "meta_tr, meta_te = get_meta_features(model, X_train, y_train, X_test, stack_cv)\n",
    "\n",
    "\n",
    "meta_train.append(meta_tr)\n",
    "meta_test.append(meta_te)\n",
    "col_names.append('Lin pred')\n",
    "\n",
    "print('RF features...')\n",
    "meta_tr, meta_te = get_meta_features(clf_rf, X_train, y_train, X_test, stack_cv)\n",
    "\n",
    "\n",
    "meta_train.append(meta_tr)\n",
    "meta_test.append(meta_te)\n",
    "col_names.append('RF pred')\n"
   ]
  },
  {
   "cell_type": "code",
   "execution_count": 224,
   "metadata": {},
   "outputs": [
    {
     "data": {
      "text/html": [
       "<div>\n",
       "<style scoped>\n",
       "    .dataframe tbody tr th:only-of-type {\n",
       "        vertical-align: middle;\n",
       "    }\n",
       "\n",
       "    .dataframe tbody tr th {\n",
       "        vertical-align: top;\n",
       "    }\n",
       "\n",
       "    .dataframe thead th {\n",
       "        text-align: right;\n",
       "    }\n",
       "</style>\n",
       "<table border=\"1\" class=\"dataframe\">\n",
       "  <thead>\n",
       "    <tr style=\"text-align: right;\">\n",
       "      <th></th>\n",
       "      <th>0</th>\n",
       "      <th>1</th>\n",
       "      <th>2</th>\n",
       "      <th>3</th>\n",
       "      <th>4</th>\n",
       "      <th>5</th>\n",
       "      <th>6</th>\n",
       "      <th>7</th>\n",
       "      <th>8</th>\n",
       "      <th>9</th>\n",
       "      <th>...</th>\n",
       "      <th>1012</th>\n",
       "      <th>1013</th>\n",
       "      <th>1014</th>\n",
       "      <th>1015</th>\n",
       "      <th>1016</th>\n",
       "      <th>1017</th>\n",
       "      <th>1018</th>\n",
       "      <th>1019</th>\n",
       "      <th>1020</th>\n",
       "      <th>1021</th>\n",
       "    </tr>\n",
       "  </thead>\n",
       "  <tbody>\n",
       "    <tr>\n",
       "      <th>0</th>\n",
       "      <td>200000.000000</td>\n",
       "      <td>173000.000000</td>\n",
       "      <td>155000.000000</td>\n",
       "      <td>122000.000000</td>\n",
       "      <td>190000.000000</td>\n",
       "      <td>190000.000000</td>\n",
       "      <td>250000.000000</td>\n",
       "      <td>125000.00000</td>\n",
       "      <td>192000.000000</td>\n",
       "      <td>190000.000000</td>\n",
       "      <td>...</td>\n",
       "      <td>115000.000000</td>\n",
       "      <td>140000.000000</td>\n",
       "      <td>123000.000000</td>\n",
       "      <td>190000.000000</td>\n",
       "      <td>100000.000000</td>\n",
       "      <td>239000.000000</td>\n",
       "      <td>200000.000000</td>\n",
       "      <td>145000.00000</td>\n",
       "      <td>160000.000000</td>\n",
       "      <td>290000.000000</td>\n",
       "    </tr>\n",
       "    <tr>\n",
       "      <th>1</th>\n",
       "      <td>207493.043221</td>\n",
       "      <td>198701.735017</td>\n",
       "      <td>143784.246896</td>\n",
       "      <td>207232.895483</td>\n",
       "      <td>269922.272968</td>\n",
       "      <td>202770.630502</td>\n",
       "      <td>331580.403694</td>\n",
       "      <td>59186.69096</td>\n",
       "      <td>155340.574251</td>\n",
       "      <td>191480.690654</td>\n",
       "      <td>...</td>\n",
       "      <td>146638.871594</td>\n",
       "      <td>152732.207448</td>\n",
       "      <td>109104.087825</td>\n",
       "      <td>217949.506105</td>\n",
       "      <td>129453.607669</td>\n",
       "      <td>189871.570771</td>\n",
       "      <td>306683.177873</td>\n",
       "      <td>162019.03487</td>\n",
       "      <td>107817.125218</td>\n",
       "      <td>335414.901783</td>\n",
       "    </tr>\n",
       "    <tr>\n",
       "      <th>2</th>\n",
       "      <td>155000.000000</td>\n",
       "      <td>250000.000000</td>\n",
       "      <td>139000.000000</td>\n",
       "      <td>164990.000000</td>\n",
       "      <td>290000.000000</td>\n",
       "      <td>192000.000000</td>\n",
       "      <td>260000.000000</td>\n",
       "      <td>110000.00000</td>\n",
       "      <td>155000.000000</td>\n",
       "      <td>189000.000000</td>\n",
       "      <td>...</td>\n",
       "      <td>115000.000000</td>\n",
       "      <td>145000.000000</td>\n",
       "      <td>110000.000000</td>\n",
       "      <td>178000.000000</td>\n",
       "      <td>120500.000000</td>\n",
       "      <td>190000.000000</td>\n",
       "      <td>280000.000000</td>\n",
       "      <td>147000.00000</td>\n",
       "      <td>125000.000000</td>\n",
       "      <td>260000.000000</td>\n",
       "    </tr>\n",
       "  </tbody>\n",
       "</table>\n",
       "<p>3 rows × 1022 columns</p>\n",
       "</div>"
      ],
      "text/plain": [
       "            0              1              2              3              4     \\\n",
       "0  200000.000000  173000.000000  155000.000000  122000.000000  190000.000000   \n",
       "1  207493.043221  198701.735017  143784.246896  207232.895483  269922.272968   \n",
       "2  155000.000000  250000.000000  139000.000000  164990.000000  290000.000000   \n",
       "\n",
       "            5              6             7              8              9     \\\n",
       "0  190000.000000  250000.000000  125000.00000  192000.000000  190000.000000   \n",
       "1  202770.630502  331580.403694   59186.69096  155340.574251  191480.690654   \n",
       "2  192000.000000  260000.000000  110000.00000  155000.000000  189000.000000   \n",
       "\n",
       "   ...           1012           1013           1014           1015  \\\n",
       "0  ...  115000.000000  140000.000000  123000.000000  190000.000000   \n",
       "1  ...  146638.871594  152732.207448  109104.087825  217949.506105   \n",
       "2  ...  115000.000000  145000.000000  110000.000000  178000.000000   \n",
       "\n",
       "            1016           1017           1018          1019           1020  \\\n",
       "0  100000.000000  239000.000000  200000.000000  145000.00000  160000.000000   \n",
       "1  129453.607669  189871.570771  306683.177873  162019.03487  107817.125218   \n",
       "2  120500.000000  190000.000000  280000.000000  147000.00000  125000.000000   \n",
       "\n",
       "            1021  \n",
       "0  290000.000000  \n",
       "1  335414.901783  \n",
       "2  260000.000000  \n",
       "\n",
       "[3 rows x 1022 columns]"
      ]
     },
     "execution_count": 224,
     "metadata": {},
     "output_type": "execute_result"
    }
   ],
   "source": [
    "pd.DataFrame(meta_train)"
   ]
  },
  {
   "cell_type": "code",
   "execution_count": 225,
   "metadata": {},
   "outputs": [
    {
     "data": {
      "text/html": [
       "<div>\n",
       "<style scoped>\n",
       "    .dataframe tbody tr th:only-of-type {\n",
       "        vertical-align: middle;\n",
       "    }\n",
       "\n",
       "    .dataframe tbody tr th {\n",
       "        vertical-align: top;\n",
       "    }\n",
       "\n",
       "    .dataframe thead th {\n",
       "        text-align: right;\n",
       "    }\n",
       "</style>\n",
       "<table border=\"1\" class=\"dataframe\">\n",
       "  <thead>\n",
       "    <tr style=\"text-align: right;\">\n",
       "      <th></th>\n",
       "      <th>0</th>\n",
       "      <th>1</th>\n",
       "      <th>2</th>\n",
       "      <th>3</th>\n",
       "      <th>4</th>\n",
       "      <th>5</th>\n",
       "      <th>6</th>\n",
       "      <th>7</th>\n",
       "      <th>8</th>\n",
       "      <th>9</th>\n",
       "      <th>...</th>\n",
       "      <th>428</th>\n",
       "      <th>429</th>\n",
       "      <th>430</th>\n",
       "      <th>431</th>\n",
       "      <th>432</th>\n",
       "      <th>433</th>\n",
       "      <th>434</th>\n",
       "      <th>435</th>\n",
       "      <th>436</th>\n",
       "      <th>437</th>\n",
       "    </tr>\n",
       "  </thead>\n",
       "  <tbody>\n",
       "    <tr>\n",
       "      <th>0</th>\n",
       "      <td>125900.000000</td>\n",
       "      <td>118100.000000</td>\n",
       "      <td>140800.000000</td>\n",
       "      <td>144800.000000</td>\n",
       "      <td>169450.00000</td>\n",
       "      <td>161200.000000</td>\n",
       "      <td>255500.000000</td>\n",
       "      <td>141500.000000</td>\n",
       "      <td>139700.000000</td>\n",
       "      <td>128900.000000</td>\n",
       "      <td>...</td>\n",
       "      <td>121650.000000</td>\n",
       "      <td>203050.000000</td>\n",
       "      <td>111200.000000</td>\n",
       "      <td>204500.000000</td>\n",
       "      <td>197690.000000</td>\n",
       "      <td>263000.000000</td>\n",
       "      <td>202690.000000</td>\n",
       "      <td>183200.000000</td>\n",
       "      <td>118500.000000</td>\n",
       "      <td>226540.000000</td>\n",
       "    </tr>\n",
       "    <tr>\n",
       "      <th>1</th>\n",
       "      <td>63491.396332</td>\n",
       "      <td>72587.414946</td>\n",
       "      <td>134689.361809</td>\n",
       "      <td>156005.857632</td>\n",
       "      <td>175190.33046</td>\n",
       "      <td>180618.826394</td>\n",
       "      <td>387874.371382</td>\n",
       "      <td>151159.442337</td>\n",
       "      <td>133892.669673</td>\n",
       "      <td>118211.613735</td>\n",
       "      <td>...</td>\n",
       "      <td>125790.983398</td>\n",
       "      <td>188569.854051</td>\n",
       "      <td>92704.596066</td>\n",
       "      <td>262562.340455</td>\n",
       "      <td>216240.613409</td>\n",
       "      <td>282386.855414</td>\n",
       "      <td>190749.694349</td>\n",
       "      <td>253305.330397</td>\n",
       "      <td>143878.477884</td>\n",
       "      <td>250557.289972</td>\n",
       "    </tr>\n",
       "    <tr>\n",
       "      <th>2</th>\n",
       "      <td>118700.000000</td>\n",
       "      <td>112200.000000</td>\n",
       "      <td>151600.000000</td>\n",
       "      <td>144900.000000</td>\n",
       "      <td>181300.00000</td>\n",
       "      <td>182000.000000</td>\n",
       "      <td>278500.000000</td>\n",
       "      <td>158800.000000</td>\n",
       "      <td>147500.000000</td>\n",
       "      <td>151800.000000</td>\n",
       "      <td>...</td>\n",
       "      <td>119400.000000</td>\n",
       "      <td>209400.000000</td>\n",
       "      <td>120400.000000</td>\n",
       "      <td>203900.000000</td>\n",
       "      <td>200640.000000</td>\n",
       "      <td>279000.000000</td>\n",
       "      <td>179650.000000</td>\n",
       "      <td>204250.000000</td>\n",
       "      <td>122400.000000</td>\n",
       "      <td>229990.000000</td>\n",
       "    </tr>\n",
       "  </tbody>\n",
       "</table>\n",
       "<p>3 rows × 438 columns</p>\n",
       "</div>"
      ],
      "text/plain": [
       "             0              1              2              3             4    \\\n",
       "0  125900.000000  118100.000000  140800.000000  144800.000000  169450.00000   \n",
       "1   63491.396332   72587.414946  134689.361809  156005.857632  175190.33046   \n",
       "2  118700.000000  112200.000000  151600.000000  144900.000000  181300.00000   \n",
       "\n",
       "             5              6              7              8              9    \\\n",
       "0  161200.000000  255500.000000  141500.000000  139700.000000  128900.000000   \n",
       "1  180618.826394  387874.371382  151159.442337  133892.669673  118211.613735   \n",
       "2  182000.000000  278500.000000  158800.000000  147500.000000  151800.000000   \n",
       "\n",
       "   ...            428            429            430            431  \\\n",
       "0  ...  121650.000000  203050.000000  111200.000000  204500.000000   \n",
       "1  ...  125790.983398  188569.854051   92704.596066  262562.340455   \n",
       "2  ...  119400.000000  209400.000000  120400.000000  203900.000000   \n",
       "\n",
       "             432            433            434            435            436  \\\n",
       "0  197690.000000  263000.000000  202690.000000  183200.000000  118500.000000   \n",
       "1  216240.613409  282386.855414  190749.694349  253305.330397  143878.477884   \n",
       "2  200640.000000  279000.000000  179650.000000  204250.000000  122400.000000   \n",
       "\n",
       "             437  \n",
       "0  226540.000000  \n",
       "1  250557.289972  \n",
       "2  229990.000000  \n",
       "\n",
       "[3 rows x 438 columns]"
      ]
     },
     "execution_count": 225,
     "metadata": {},
     "output_type": "execute_result"
    }
   ],
   "source": [
    "pd.DataFrame(meta_test)"
   ]
  },
  {
   "cell_type": "code",
   "execution_count": 226,
   "metadata": {},
   "outputs": [],
   "source": [
    "X_meta_train = pd.DataFrame(np.stack(meta_train, axis=1), columns=col_names)\n",
    "X_meta_test = pd.DataFrame(np.stack(meta_test, axis=1), columns=col_names)"
   ]
  },
  {
   "cell_type": "code",
   "execution_count": 227,
   "metadata": {},
   "outputs": [
    {
     "data": {
      "text/html": [
       "<div>\n",
       "<style scoped>\n",
       "    .dataframe tbody tr th:only-of-type {\n",
       "        vertical-align: middle;\n",
       "    }\n",
       "\n",
       "    .dataframe tbody tr th {\n",
       "        vertical-align: top;\n",
       "    }\n",
       "\n",
       "    .dataframe thead th {\n",
       "        text-align: right;\n",
       "    }\n",
       "</style>\n",
       "<table border=\"1\" class=\"dataframe\">\n",
       "  <thead>\n",
       "    <tr style=\"text-align: right;\">\n",
       "      <th></th>\n",
       "      <th>DT pred</th>\n",
       "      <th>Lin pred</th>\n",
       "      <th>RF pred</th>\n",
       "    </tr>\n",
       "  </thead>\n",
       "  <tbody>\n",
       "    <tr>\n",
       "      <th>0</th>\n",
       "      <td>125900.0</td>\n",
       "      <td>63491.396332</td>\n",
       "      <td>118700.0</td>\n",
       "    </tr>\n",
       "    <tr>\n",
       "      <th>1</th>\n",
       "      <td>118100.0</td>\n",
       "      <td>72587.414946</td>\n",
       "      <td>112200.0</td>\n",
       "    </tr>\n",
       "    <tr>\n",
       "      <th>2</th>\n",
       "      <td>140800.0</td>\n",
       "      <td>134689.361809</td>\n",
       "      <td>151600.0</td>\n",
       "    </tr>\n",
       "    <tr>\n",
       "      <th>3</th>\n",
       "      <td>144800.0</td>\n",
       "      <td>156005.857632</td>\n",
       "      <td>144900.0</td>\n",
       "    </tr>\n",
       "    <tr>\n",
       "      <th>4</th>\n",
       "      <td>169450.0</td>\n",
       "      <td>175190.330460</td>\n",
       "      <td>181300.0</td>\n",
       "    </tr>\n",
       "    <tr>\n",
       "      <th>...</th>\n",
       "      <td>...</td>\n",
       "      <td>...</td>\n",
       "      <td>...</td>\n",
       "    </tr>\n",
       "    <tr>\n",
       "      <th>433</th>\n",
       "      <td>263000.0</td>\n",
       "      <td>282386.855414</td>\n",
       "      <td>279000.0</td>\n",
       "    </tr>\n",
       "    <tr>\n",
       "      <th>434</th>\n",
       "      <td>202690.0</td>\n",
       "      <td>190749.694349</td>\n",
       "      <td>179650.0</td>\n",
       "    </tr>\n",
       "    <tr>\n",
       "      <th>435</th>\n",
       "      <td>183200.0</td>\n",
       "      <td>253305.330397</td>\n",
       "      <td>204250.0</td>\n",
       "    </tr>\n",
       "    <tr>\n",
       "      <th>436</th>\n",
       "      <td>118500.0</td>\n",
       "      <td>143878.477884</td>\n",
       "      <td>122400.0</td>\n",
       "    </tr>\n",
       "    <tr>\n",
       "      <th>437</th>\n",
       "      <td>226540.0</td>\n",
       "      <td>250557.289972</td>\n",
       "      <td>229990.0</td>\n",
       "    </tr>\n",
       "  </tbody>\n",
       "</table>\n",
       "<p>438 rows × 3 columns</p>\n",
       "</div>"
      ],
      "text/plain": [
       "      DT pred       Lin pred   RF pred\n",
       "0    125900.0   63491.396332  118700.0\n",
       "1    118100.0   72587.414946  112200.0\n",
       "2    140800.0  134689.361809  151600.0\n",
       "3    144800.0  156005.857632  144900.0\n",
       "4    169450.0  175190.330460  181300.0\n",
       "..        ...            ...       ...\n",
       "433  263000.0  282386.855414  279000.0\n",
       "434  202690.0  190749.694349  179650.0\n",
       "435  183200.0  253305.330397  204250.0\n",
       "436  118500.0  143878.477884  122400.0\n",
       "437  226540.0  250557.289972  229990.0\n",
       "\n",
       "[438 rows x 3 columns]"
      ]
     },
     "execution_count": 227,
     "metadata": {},
     "output_type": "execute_result"
    }
   ],
   "source": [
    "X_meta_test"
   ]
  },
  {
   "cell_type": "code",
   "execution_count": 228,
   "metadata": {},
   "outputs": [
    {
     "data": {
      "text/html": [
       "<div>\n",
       "<style scoped>\n",
       "    .dataframe tbody tr th:only-of-type {\n",
       "        vertical-align: middle;\n",
       "    }\n",
       "\n",
       "    .dataframe tbody tr th {\n",
       "        vertical-align: top;\n",
       "    }\n",
       "\n",
       "    .dataframe thead th {\n",
       "        text-align: right;\n",
       "    }\n",
       "</style>\n",
       "<table border=\"1\" class=\"dataframe\">\n",
       "  <thead>\n",
       "    <tr style=\"text-align: right;\">\n",
       "      <th></th>\n",
       "      <th>DT pred</th>\n",
       "      <th>Lin pred</th>\n",
       "      <th>RF pred</th>\n",
       "    </tr>\n",
       "  </thead>\n",
       "  <tbody>\n",
       "    <tr>\n",
       "      <th>0</th>\n",
       "      <td>200000.0</td>\n",
       "      <td>207493.043221</td>\n",
       "      <td>155000.0</td>\n",
       "    </tr>\n",
       "    <tr>\n",
       "      <th>1</th>\n",
       "      <td>173000.0</td>\n",
       "      <td>198701.735017</td>\n",
       "      <td>250000.0</td>\n",
       "    </tr>\n",
       "    <tr>\n",
       "      <th>2</th>\n",
       "      <td>155000.0</td>\n",
       "      <td>143784.246896</td>\n",
       "      <td>139000.0</td>\n",
       "    </tr>\n",
       "    <tr>\n",
       "      <th>3</th>\n",
       "      <td>122000.0</td>\n",
       "      <td>207232.895483</td>\n",
       "      <td>164990.0</td>\n",
       "    </tr>\n",
       "    <tr>\n",
       "      <th>4</th>\n",
       "      <td>190000.0</td>\n",
       "      <td>269922.272968</td>\n",
       "      <td>290000.0</td>\n",
       "    </tr>\n",
       "    <tr>\n",
       "      <th>...</th>\n",
       "      <td>...</td>\n",
       "      <td>...</td>\n",
       "      <td>...</td>\n",
       "    </tr>\n",
       "    <tr>\n",
       "      <th>1017</th>\n",
       "      <td>239000.0</td>\n",
       "      <td>189871.570771</td>\n",
       "      <td>190000.0</td>\n",
       "    </tr>\n",
       "    <tr>\n",
       "      <th>1018</th>\n",
       "      <td>200000.0</td>\n",
       "      <td>306683.177873</td>\n",
       "      <td>280000.0</td>\n",
       "    </tr>\n",
       "    <tr>\n",
       "      <th>1019</th>\n",
       "      <td>145000.0</td>\n",
       "      <td>162019.034870</td>\n",
       "      <td>147000.0</td>\n",
       "    </tr>\n",
       "    <tr>\n",
       "      <th>1020</th>\n",
       "      <td>160000.0</td>\n",
       "      <td>107817.125218</td>\n",
       "      <td>125000.0</td>\n",
       "    </tr>\n",
       "    <tr>\n",
       "      <th>1021</th>\n",
       "      <td>290000.0</td>\n",
       "      <td>335414.901783</td>\n",
       "      <td>260000.0</td>\n",
       "    </tr>\n",
       "  </tbody>\n",
       "</table>\n",
       "<p>1022 rows × 3 columns</p>\n",
       "</div>"
      ],
      "text/plain": [
       "       DT pred       Lin pred   RF pred\n",
       "0     200000.0  207493.043221  155000.0\n",
       "1     173000.0  198701.735017  250000.0\n",
       "2     155000.0  143784.246896  139000.0\n",
       "3     122000.0  207232.895483  164990.0\n",
       "4     190000.0  269922.272968  290000.0\n",
       "...        ...            ...       ...\n",
       "1017  239000.0  189871.570771  190000.0\n",
       "1018  200000.0  306683.177873  280000.0\n",
       "1019  145000.0  162019.034870  147000.0\n",
       "1020  160000.0  107817.125218  125000.0\n",
       "1021  290000.0  335414.901783  260000.0\n",
       "\n",
       "[1022 rows x 3 columns]"
      ]
     },
     "execution_count": 228,
     "metadata": {},
     "output_type": "execute_result"
    }
   ],
   "source": [
    "X_meta_train"
   ]
  },
  {
   "cell_type": "markdown",
   "metadata": {},
   "source": [
    "Полученные метапризнаки используем как входные данные для модели второго уровня. Для модели второго уровня используем линейную регрессию:\n",
    "+ обучаем на метапризнаках X_meta_train и исходных значениях целевой переменной для этой выборки y_train \n",
    "+ предсказываем по обученной модели и признаку для тестовой выборки и сравниваем с исходным значением тестовой выборки"
   ]
  },
  {
   "cell_type": "code",
   "execution_count": 229,
   "metadata": {},
   "outputs": [],
   "source": [
    "model2 = linear_model.LinearRegression()\n",
    "model2.fit( X_meta_train, y_train )   #обучаем на метадапризнаках\n",
    "y_predict_2 = model2.predict(X_meta_test)  #предсказываем по метапринаку\n",
    "score_ln2 = model2.score(X_meta_test, y_test)\n",
    "mse_2 = mean_squared_error(y_test, y_predict_2)\n",
    "sqrt_mse_2 = np.sqrt(mse_2)"
   ]
  },
  {
   "cell_type": "code",
   "execution_count": 230,
   "metadata": {},
   "outputs": [
    {
     "name": "stdout",
     "output_type": "stream",
     "text": [
      "MSE:  1347814816.0341609\n",
      "SQ MSE:  36712.597511401465\n",
      "Score: 0.8211883115242061\n"
     ]
    }
   ],
   "source": [
    "print(\"MSE: \",mse_2)\n",
    "print(\"SQ MSE: \",sqrt_mse_2)\n",
    "print(\"Score:\",score_ln2)"
   ]
  },
  {
   "cell_type": "code",
   "execution_count": 231,
   "metadata": {
    "scrolled": true
   },
   "outputs": [
    {
     "data": {
      "image/png": "[encoded data removed]",
      "text/plain": [
       "<Figure size 432x288 with 1 Axes>"
      ]
     },
     "metadata": {
      "needs_background": "light"
     },
     "output_type": "display_data"
    }
   ],
   "source": [
    "plt.scatter(y_test, y_predict_dt, label = 'Decision Tree 1st lvl' )\n",
    "plt.scatter(y_test, y_predict_rf2, label = 'Random Forest 1st lvl' )\n",
    "plt.scatter(y_test, y_predict_ln, color = 'r' , alpha = 0.5, label = 'LinearRegression 1st lvl' )\n",
    "plt.scatter(y_test, y_predict_2, color = 'g' , alpha = 0.3, label = 'LinearRegression 2st lvl' )\n",
    "\n",
    "plt.legend()\n",
    "plt.show()"
   ]
  },
  {
   "cell_type": "code",
   "execution_count": null,
   "metadata": {},
   "outputs": [],
   "source": []
  },
  {
   "cell_type": "code",
   "execution_count": 232,
   "metadata": {},
   "outputs": [
    {
     "data": {
      "text/plain": [
       "<matplotlib.axes._subplots.AxesSubplot at 0x2d01f68d708>"
      ]
     },
     "execution_count": 232,
     "metadata": {},
     "output_type": "execute_result"
    },
    {
     "data": {
      "image/png": "[encoded data removed]",
      "text/plain": [
       "<Figure size 432x288 with 1 Axes>"
      ]
     },
     "metadata": {
      "needs_background": "light"
     },
     "output_type": "display_data"
    }
   ],
   "source": [
    "rez = pd.Series([sqrt_mse_dt,sqrt_mse_dt2,sqrt_mse_ln,sqrt_mse_ln1,sqrt_mse_rf, sqrt_mse_rf2,sqrt_mse_bg, sqrt_mse_2], \n",
    "          index=['Decision Tree 1st lvl','Decision Tree 1st lvl - cut','LinearRegression 1st lvl','LinearRegression 1st lvl - cut','RandomForest','RandomForest - cut','Bagging DT','LinearRegression 2st lvl'])\n",
    "rez.plot(kind='barh')\n"
   ]
  },
  {
   "cell_type": "code",
   "execution_count": 233,
   "metadata": {},
   "outputs": [
    {
     "data": {
      "text/plain": [
       "Decision Tree 1st lvl             62490.840742\n",
       "Decision Tree 1st lvl - cut       62253.424276\n",
       "LinearRegression 1st lvl          38651.766411\n",
       "LinearRegression 1st lvl - cut    37106.797176\n",
       "RandomForest                      60490.192577\n",
       "RandomForest - cut                57655.413312\n",
       "Bagging DT                        69642.262525\n",
       "LinearRegression 2st lvl          36712.597511\n",
       "dtype: float64"
      ]
     },
     "execution_count": 233,
     "metadata": {},
     "output_type": "execute_result"
    }
   ],
   "source": [
    "rez"
   ]
  },
  {
   "cell_type": "markdown",
   "metadata": {},
   "source": [
    "## Выводы:\n",
    "\n",
    "\n",
    "1. Дерево решений и случайный лес дали разные оценки значимости признаков\n",
    "2. Линейная регрессия первого уровня значительно лучше остальных нелинейных моделей. Линейная регрессия только по значимым признакам лучше линейной регрессии по всем признакам\n",
    "3. Использование стеккиннга линейной и нелинейных моделей позволило улучшить результат для линейной модели второго уровня.\n",
    "4. Из нелинейных моделей лучше всего показал результат RandomForest"
   ]
  },
  {
   "cell_type": "code",
   "execution_count": null,
   "metadata": {},
   "outputs": [],
   "source": []
  }
 ],
 "metadata": {
  "kernelspec": {
   "display_name": "Python 3",
   "language": "python",
   "name": "python3"
  },
  "language_info": {
   "codemirror_mode": {
    "name": "ipython",
    "version": 3
   },
   "file_extension": ".py",
   "mimetype": "text/x-python",
   "name": "python",
   "nbconvert_exporter": "python",
   "pygments_lexer": "ipython3",
   "version": "3.7.4"
  }
 },
 "nbformat": 4,
 "nbformat_minor": 2
}
