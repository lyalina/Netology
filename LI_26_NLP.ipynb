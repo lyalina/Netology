{
  "nbformat": 4,
  "nbformat_minor": 0,
  "metadata": {
    "accelerator": "GPU",
    "colab": {
      "name": "LI_26_NLP.ipynb",
      "provenance": [],
      "collapsed_sections": []
    },
    "kernelspec": {
      "display_name": "Python 3",
      "name": "python3"
    }
  },
  "cells": [
    {
      "cell_type": "markdown",
      "metadata": {
        "id": "D9IXMguJPwoU"
      },
      "source": [
        "### ДЗ NLP 2"
      ]
    },
    {
      "cell_type": "markdown",
      "metadata": {
        "id": "A1JNc5b8PusC"
      },
      "source": [
        "Разбейте всю коллекцию отзывов на предложения. Лемматизируйте все слова.\n",
        "Обучите по коллекции предложений word2vec\n",
        "\n",
        "Приведите несколько удачных и неудачных примеров решения стандартных текстов для word2vec:\n",
        "\n",
        "- тест на определение ближайших слов\n",
        "- тест на аналогии (мужчина – король : женщина – королева)\n",
        "- тест на определение лишнего слова.\n",
        "\n",
        "\n",
        "Постройте несколько визуализаций:\n",
        "\n",
        "  - TSNE для топ-100 (или топ-500) слов и найдите осмысленные кластеры слов\n",
        "  - задайте координаты для нового пространства следующим образом: одна ось описывает отношение \"плохо – хорошо\", вторая – \"медленно – быстро\" и найдите координаты названий банков в этих координатах. Более формально: берем вектор слова \"хорошо\", вычитаем из него вектор слова \"плохо\", получаем новый вектор, который описывает разницу между хорошими и плохими словами. Берем вектор слова \"сбербанк\" и умножаем его на этот новый вектор – получаем координату по первой оси. Аналогично – для второй оси. Две координаты уже можно нарисовать на плоскости."
      ]
    },
    {
      "cell_type": "markdown",
      "metadata": {
        "id": "errqCLlOEUUV"
      },
      "source": [
        "### Подготовка текста"
      ]
    },
    {
      "cell_type": "code",
      "metadata": {
        "colab": {
          "base_uri": "https://localhost:8080/"
        },
        "id": "pt7wwUxqPrit",
        "outputId": "c82e01cc-c4fb-4050-c217-0a7e9a6e8aaa"
      },
      "source": [
        "import json\n",
        "\n",
        "import bz2\n",
        "import regex\n",
        "from tqdm import tqdm\n",
        "from scipy import sparse\n",
        "import pandas as pd\n",
        "import numpy as np\n",
        "import nltk\n",
        "import matplotlib.pyplot as plt\n",
        "import seaborn as sns\n",
        "from sklearn.decomposition import PCA\n",
        "from collections import Counter\n",
        "\n",
        "import warnings\n",
        "warnings.filterwarnings(\"ignore\")\n",
        "\n",
        "\n",
        "%matplotlib inline\n",
        "%pylab inline"
      ],
      "execution_count": 1,
      "outputs": [
        {
          "output_type": "stream",
          "text": [
            "Populating the interactive namespace from numpy and matplotlib\n"
          ],
          "name": "stdout"
        }
      ]
    },
    {
      "cell_type": "code",
      "metadata": {
        "id": "AVxLefOlxBk0",
        "colab": {
          "base_uri": "https://localhost:8080/"
        },
        "outputId": "2d6eecea-5d78-48d2-c9ae-6ef930aa4995"
      },
      "source": [
        "!pip3 install pymorphy2"
      ],
      "execution_count": 2,
      "outputs": [
        {
          "output_type": "stream",
          "text": [
            "Requirement already satisfied: pymorphy2 in /usr/local/lib/python3.7/dist-packages (0.9.1)\n",
            "Requirement already satisfied: dawg-python>=0.7.1 in /usr/local/lib/python3.7/dist-packages (from pymorphy2) (0.7.2)\n",
            "Requirement already satisfied: pymorphy2-dicts-ru<3.0,>=2.4 in /usr/local/lib/python3.7/dist-packages (from pymorphy2) (2.4.417127.4579844)\n",
            "Requirement already satisfied: docopt>=0.6 in /usr/local/lib/python3.7/dist-packages (from pymorphy2) (0.6.2)\n"
          ],
          "name": "stdout"
        }
      ]
    },
    {
      "cell_type": "code",
      "metadata": {
        "colab": {
          "base_uri": "https://localhost:8080/"
        },
        "id": "yK3pVRgr69_2",
        "outputId": "e5023da8-fa90-4907-9862-2c60976807b4"
      },
      "source": [
        "!pip install rusenttokenize"
      ],
      "execution_count": 3,
      "outputs": [
        {
          "output_type": "stream",
          "text": [
            "Requirement already satisfied: rusenttokenize in /usr/local/lib/python3.7/dist-packages (0.0.5)\n"
          ],
          "name": "stdout"
        }
      ]
    },
    {
      "cell_type": "code",
      "metadata": {
        "colab": {
          "base_uri": "https://localhost:8080/"
        },
        "id": "7I2BDFF8P_o8",
        "outputId": "cd1ed4f2-1030-4e0f-aaaa-38cd72f17b61"
      },
      "source": [
        "\n",
        "responses = []\n",
        "with bz2.BZ2File('/content/drive/MyDrive/ML/nlp/banki_responses.json.bz2', 'r') as thefile:\n",
        "    for row in tqdm(thefile):\n",
        "        resp = json.loads(row)\n",
        "        if not resp['rating_not_checked'] and (len(resp['text'].split()) > 0):\n",
        "            responses.append(resp)"
      ],
      "execution_count": 4,
      "outputs": [
        {
          "output_type": "stream",
          "text": [
            "201030it [01:24, 2383.46it/s]\n"
          ],
          "name": "stderr"
        }
      ]
    },
    {
      "cell_type": "code",
      "metadata": {
        "id": "gxWpAf4ftOSw"
      },
      "source": [
        "def py_normalform(text):\n",
        "    try:\n",
        "        nf = [pymorphy2_analyzer.parse(word)[0].normal_form for word in text.split()]\n",
        "        return \" \".join(nf)\n",
        "    except:\n",
        "        return \"\"\n",
        "\n",
        "def py_tag(text):\n",
        "          return [[word, pymorphy2_analyzer.parse(word)[0].tag]  for word in text.split()]\n"
      ],
      "execution_count": 5,
      "outputs": []
    },
    {
      "cell_type": "code",
      "metadata": {
        "id": "GaOhZp2MQqjg"
      },
      "source": [
        "import re\n",
        "regex = re.compile(\"[А-Яа-я.!?]+\")\n",
        "\n",
        "def words_only(text, regex=regex):\n",
        "    return \" \".join(regex.findall(text))\n",
        "\n",
        "regex_clear = re.compile(\"[А-Яа-я]+\")\n",
        "\n",
        "def words_only_clear(text, regex=regex_clear):\n",
        "    return \" \".join(regex.findall(text))\n"
      ],
      "execution_count": 6,
      "outputs": []
    },
    {
      "cell_type": "code",
      "metadata": {
        "colab": {
          "base_uri": "https://localhost:8080/"
        },
        "id": "IZ0G8xKDQqmj",
        "outputId": "29f5ba8e-3b6c-4b5e-ecf2-68a3ba8fe8a7"
      },
      "source": [
        "from nltk.corpus import stopwords\n",
        "nltk.download('stopwords')\n",
        "mystopwords = stopwords.words('russian') + ['это', 'наш' , 'тыс', 'млн', 'млрд', 'также',  'т', 'д']\n",
        "\n",
        "print(mystopwords)"
      ],
      "execution_count": 7,
      "outputs": [
        {
          "output_type": "stream",
          "text": [
            "[nltk_data] Downloading package stopwords to /root/nltk_data...\n",
            "[nltk_data]   Package stopwords is already up-to-date!\n",
            "['и', 'в', 'во', 'не', 'что', 'он', 'на', 'я', 'с', 'со', 'как', 'а', 'то', 'все', 'она', 'так', 'его', 'но', 'да', 'ты', 'к', 'у', 'же', 'вы', 'за', 'бы', 'по', 'только', 'ее', 'мне', 'было', 'вот', 'от', 'меня', 'еще', 'нет', 'о', 'из', 'ему', 'теперь', 'когда', 'даже', 'ну', 'вдруг', 'ли', 'если', 'уже', 'или', 'ни', 'быть', 'был', 'него', 'до', 'вас', 'нибудь', 'опять', 'уж', 'вам', 'ведь', 'там', 'потом', 'себя', 'ничего', 'ей', 'может', 'они', 'тут', 'где', 'есть', 'надо', 'ней', 'для', 'мы', 'тебя', 'их', 'чем', 'была', 'сам', 'чтоб', 'без', 'будто', 'чего', 'раз', 'тоже', 'себе', 'под', 'будет', 'ж', 'тогда', 'кто', 'этот', 'того', 'потому', 'этого', 'какой', 'совсем', 'ним', 'здесь', 'этом', 'один', 'почти', 'мой', 'тем', 'чтобы', 'нее', 'сейчас', 'были', 'куда', 'зачем', 'всех', 'никогда', 'можно', 'при', 'наконец', 'два', 'об', 'другой', 'хоть', 'после', 'над', 'больше', 'тот', 'через', 'эти', 'нас', 'про', 'всего', 'них', 'какая', 'много', 'разве', 'три', 'эту', 'моя', 'впрочем', 'хорошо', 'свою', 'этой', 'перед', 'иногда', 'лучше', 'чуть', 'том', 'нельзя', 'такой', 'им', 'более', 'всегда', 'конечно', 'всю', 'между', 'это', 'наш', 'тыс', 'млн', 'млрд', 'также', 'т', 'д']\n"
          ],
          "name": "stdout"
        }
      ]
    },
    {
      "cell_type": "code",
      "metadata": {
        "colab": {
          "base_uri": "https://localhost:8080/"
        },
        "id": "2g-909Yt7R7D",
        "outputId": "9ed3e912-17b6-4342-8054-fcb72c29b650"
      },
      "source": [
        "nltk.download('punkt')"
      ],
      "execution_count": 8,
      "outputs": [
        {
          "output_type": "stream",
          "text": [
            "[nltk_data] Downloading package punkt to /root/nltk_data...\n",
            "[nltk_data]   Package punkt is already up-to-date!\n"
          ],
          "name": "stdout"
        },
        {
          "output_type": "execute_result",
          "data": {
            "text/plain": [
              "True"
            ]
          },
          "metadata": {
            "tags": []
          },
          "execution_count": 8
        }
      ]
    },
    {
      "cell_type": "code",
      "metadata": {
        "colab": {
          "base_uri": "https://localhost:8080/",
          "height": 35
        },
        "id": "q3JpmqUBqayj",
        "outputId": "9e009f0a-387c-40fb-ad93-428f8d7e8f20"
      },
      "source": [
        "from nltk.tokenize import sent_tokenize\n",
        "from rusenttokenize import ru_sent_tokenize\n",
        "from nltk.tokenize import word_tokenize\n",
        "from string import punctuation\n",
        "punctuation"
      ],
      "execution_count": 9,
      "outputs": [
        {
          "output_type": "execute_result",
          "data": {
            "application/vnd.google.colaboratory.intrinsic+json": {
              "type": "string"
            },
            "text/plain": [
              "'!\"#$%&\\'()*+,-./:;<=>?@[\\\\]^_`{|}~'"
            ]
          },
          "metadata": {
            "tags": []
          },
          "execution_count": 9
        }
      ]
    },
    {
      "cell_type": "code",
      "metadata": {
        "id": "jclBe_6hQqpM"
      },
      "source": [
        "def remove_stopwords(text, mystopwords = mystopwords):\n",
        "    try:\n",
        "        return \" \".join([token for token in text.split() if not token in mystopwords])\n",
        "    except:\n",
        "        return \"\""
      ],
      "execution_count": 10,
      "outputs": []
    },
    {
      "cell_type": "code",
      "metadata": {
        "id": "kLxQ1VyLw80O"
      },
      "source": [
        "from pymorphy2 import MorphAnalyzer\n",
        "pymorphy2_analyzer = MorphAnalyzer()"
      ],
      "execution_count": 11,
      "outputs": []
    },
    {
      "cell_type": "markdown",
      "metadata": {
        "id": "vFq0p6ZBEpX2"
      },
      "source": [
        "Задаем количество отзывов для дальнейшего анализа"
      ]
    },
    {
      "cell_type": "code",
      "metadata": {
        "id": "B0Ehy4mjfXeA"
      },
      "source": [
        "num_responses = 100000\n",
        "n_chunk = 10000"
      ],
      "execution_count": 12,
      "outputs": []
    },
    {
      "cell_type": "code",
      "metadata": {
        "id": "s-PmptVCetXY",
        "colab": {
          "base_uri": "https://localhost:8080/"
        },
        "outputId": "19409f38-ec33-412f-8749-8610e21e134f"
      },
      "source": [
        "def chunks(l, n):\n",
        "    for i in range(0, len(l), n):\n",
        "        yield l[i:i + n]\n",
        "      \n",
        "\n",
        "chunked_list_ids=chunks(responses[0:num_responses],n_chunk)\n",
        "for list_temp in chunked_list_ids: \n",
        "  for row in tqdm(list_temp):\n",
        "    row.update(clear=py_normalform(remove_stopwords(words_only(row.get('text')))))\n"
      ],
      "execution_count": 13,
      "outputs": [
        {
          "output_type": "stream",
          "text": [
            "100%|██████████| 10000/10000 [04:15<00:00, 39.16it/s]\n",
            "100%|██████████| 10000/10000 [04:18<00:00, 38.66it/s]\n",
            "100%|██████████| 10000/10000 [04:19<00:00, 38.60it/s]\n",
            "100%|██████████| 10000/10000 [04:41<00:00, 35.55it/s]\n",
            "100%|██████████| 10000/10000 [04:26<00:00, 37.51it/s]\n",
            "100%|██████████| 10000/10000 [04:30<00:00, 36.91it/s]\n",
            "100%|██████████| 10000/10000 [04:36<00:00, 36.19it/s]\n",
            "100%|██████████| 10000/10000 [04:38<00:00, 35.86it/s]\n",
            "100%|██████████| 10000/10000 [04:47<00:00, 34.76it/s]\n",
            "100%|██████████| 10000/10000 [04:56<00:00, 33.70it/s]\n"
          ],
          "name": "stderr"
        }
      ]
    },
    {
      "cell_type": "code",
      "metadata": {
        "colab": {
          "base_uri": "https://localhost:8080/"
        },
        "id": "60AQ8CtSxBZg",
        "outputId": "a4061faa-2b8e-4484-e061-5a5ca68a7125"
      },
      "source": [
        "responses[0]"
      ],
      "execution_count": 14,
      "outputs": [
        {
          "output_type": "execute_result",
          "data": {
            "text/plain": [
              "{'author': 'uhnov1',\n",
              " 'bank_license': 'лицензия № 2562',\n",
              " 'bank_name': 'Бинбанк',\n",
              " 'city': 'г. Москва',\n",
              " 'clear': 'добрый день! я являться клиент банк поручитель кредитный договор являться какой либо другой лицо письменно оформить отношение банк повод урегулирование чей либо задолженности. начинать март год начать приходить бесконечный письмо ооо прить коллект адрес город москва уваровский переулок дом квартира угроза возбуждение уголовный дело отношение гражданин филиппов эдуард владимирович который уклоняться уплата взять кредит договор . . год договор . . года. с весь ответственность хотеть вы заверить вышеуказанный гражданин который вы разыскивать знак мой адрес зарегистрирован. какой образ вы удостовериться подлинность документ оформить имя кредитный договор малый мера понятно почему ваш милость должный переживать бояться свой имущество. письмо доставлять серьёзный неудобство нарушать мой гражданский право нарушать закон защита персональный данных. убедительно просить прекратить посылать адрес письмо угроза вопрос который иметь отношения. в случай отклонение мой претензия быть вынудить обратиться жалоба другой орган росспотребнадзор центральный банк служба финансовый омбудсмена. кроме подать заявление полиция заявление суд возмещение причинить моральный вреда. надеяться скорый решение мой вопроса.',\n",
              " 'datetime': '2015-06-08 12:50:54',\n",
              " 'num_comments': 0,\n",
              " 'rating_grade': None,\n",
              " 'rating_not_checked': False,\n",
              " 'text': 'Добрый день! Я не являюсь клиентом банка и поручителем по кредитному договору, а также не являюсь каким-либо другим лицом, письменно  оформившим отношения с банком по поводу урегулирования чьей-либо  задолженности.  Начиная с марта 2015 года начали приходить бесконечные письма из ООО \"Примо коллект\"на мой адрес: город Москва, Уваровский переулок, дом 10, квартира 111, с угрозами о возбуждении уголовного дела в отношении гражданина Филиппова Эдуарда Владимировича, который уклоняется от уплаты взятых им кредитов: договор № 81014 от 20.10.2013 года и договор № 2464946 от 09.10.2014 года. Со всей ответственностью\\xa0 хочу Вас заверить, что вышеуказанный гражданин, которого Вы разыскиваете, мне не знаком и никогда в моем адресе не был зарегистрирован. Каким образом Вы не удостоверившись в подлинности его документов оформили на его имя кредитный договор, мне по меньшей мере не понятно,\\xa0 и почему по Вашей милости я должна переживать и бояться за себе и свое имущество. Письма доставляют мне серьезные неудобства, нарушают мои гражданские права, а также нарушают закон о защите персональных данных. Убедительно прошу прекратить посылать на мой адрес письма с угрозами по вопросам, к которым я не имею отношения. В случае отклонения моей претензии буду вынуждена обратиться с жалобами в  другие органы: Росспотребнадзор, Центральный банк, Службу Финансового  омбудсмена. Кроме этого будет подано заявление в полицию и заявление в  суд возмещение причиненного мне морального вреда. Надеюсь на скорое решение моего вопроса.',\n",
              " 'title': 'Жалоба'}"
            ]
          },
          "metadata": {
            "tags": []
          },
          "execution_count": 14
        }
      ]
    },
    {
      "cell_type": "markdown",
      "metadata": {
        "id": "gmDveeBlKvod"
      },
      "source": [
        "Лемматизированные тексты разбиваем на предложения"
      ]
    },
    {
      "cell_type": "code",
      "metadata": {
        "colab": {
          "base_uri": "https://localhost:8080/"
        },
        "id": "ahFMhF6hqDEJ",
        "outputId": "c1d183e3-50f5-47de-c78e-873488689d95"
      },
      "source": [
        "chunked_list_ids=chunks(responses[0:num_responses],n_chunk)\n",
        "for list_temp in chunked_list_ids: \n",
        "  for row in tqdm(list_temp):\n",
        "    row.update(sent=sent_tokenize(row.get('clear')))\n"
      ],
      "execution_count": 15,
      "outputs": [
        {
          "output_type": "stream",
          "text": [
            "100%|██████████| 10000/10000 [00:05<00:00, 1834.71it/s]\n",
            "100%|██████████| 10000/10000 [00:05<00:00, 1831.77it/s]\n",
            "100%|██████████| 10000/10000 [00:05<00:00, 1804.15it/s]\n",
            "100%|██████████| 10000/10000 [00:05<00:00, 1718.37it/s]\n",
            "100%|██████████| 10000/10000 [00:05<00:00, 1790.65it/s]\n",
            "100%|██████████| 10000/10000 [00:05<00:00, 1744.43it/s]\n",
            "100%|██████████| 10000/10000 [00:05<00:00, 1695.20it/s]\n",
            "100%|██████████| 10000/10000 [00:05<00:00, 1668.45it/s]\n",
            "100%|██████████| 10000/10000 [00:06<00:00, 1602.37it/s]\n",
            "100%|██████████| 10000/10000 [00:06<00:00, 1520.47it/s]\n"
          ],
          "name": "stderr"
        }
      ]
    },
    {
      "cell_type": "code",
      "metadata": {
        "id": "CQxz171rkbpo"
      },
      "source": [
        "#chunked_list_ids=chunks(responses[0:10000],100)\n",
        "#for list_temp in chunked_list_ids: \n",
        "#  for row in tqdm(list_temp):\n",
        "#    row.setdefault('POS',[]).append(py_tag(row.get('clear')[0]))"
      ],
      "execution_count": 16,
      "outputs": []
    },
    {
      "cell_type": "code",
      "metadata": {
        "id": "13hzZAarQkek"
      },
      "source": [
        "df = pd.DataFrame(responses[0:num_responses])\n",
        "df['rating_grade'] = df['rating_grade'].fillna(0)\n",
        "df = df.drop(['bank_license','author','datetime','city','rating_not_checked','title',], 1)"
      ],
      "execution_count": 66,
      "outputs": []
    },
    {
      "cell_type": "code",
      "metadata": {
        "id": "yrqGceWNRE38"
      },
      "source": [
        "df.text = df.text.str.lower()\n",
        "df = df.assign(text_wo=lambda x: df.text.apply(words_only))\n",
        "df = df.assign(text_wosw=lambda x: df.text_wo.apply(remove_stopwords))\n",
        "\n",
        "#df.text = df.text.str.lower()\n",
        "#df.text = df.text.apply(words_only)"
      ],
      "execution_count": 67,
      "outputs": []
    },
    {
      "cell_type": "code",
      "metadata": {
        "id": "2-Cj4Wh0b4H8"
      },
      "source": [
        "corpus2 = [nltk.word_tokenize(sent) for sent in df.clear]"
      ],
      "execution_count": 68,
      "outputs": []
    },
    {
      "cell_type": "code",
      "metadata": {
        "colab": {
          "base_uri": "https://localhost:8080/"
        },
        "id": "8LbZoHtTcoo1",
        "outputId": "c92abfe4-c640-4382-98fa-b89eed31a49e"
      },
      "source": [
        "corpus2[23]"
      ],
      "execution_count": 69,
      "outputs": [
        {
          "output_type": "execute_result",
          "data": {
            "text/plain": [
              "['в',\n",
              " 'год',\n",
              " 'банк',\n",
              " 'втб',\n",
              " 'приобрести',\n",
              " 'серебряный',\n",
              " 'монета',\n",
              " 'проба',\n",
              " 'знак',\n",
              " 'зодиак',\n",
              " 'рыба',\n",
              " '.',\n",
              " 'возникнуть',\n",
              " 'необходимость',\n",
              " 'сдать',\n",
              " 'монета',\n",
              " 'обмен',\n",
              " 'деньги',\n",
              " '.',\n",
              " 'обратиться',\n",
              " 'банк',\n",
              " 'втб',\n",
              " 'отказать',\n",
              " 'связь',\n",
              " 'банк',\n",
              " 'прод',\n",
              " 'монета',\n",
              " 'покупать',\n",
              " 'назад',\n",
              " '.',\n",
              " 'обратиться',\n",
              " 'сбербанк',\n",
              " 'каталог',\n",
              " 'наслать',\n",
              " 'монету',\n",
              " '.',\n",
              " 'что',\n",
              " 'дальше',\n",
              " '?',\n",
              " '!']"
            ]
          },
          "metadata": {
            "tags": []
          },
          "execution_count": 69
        }
      ]
    },
    {
      "cell_type": "markdown",
      "metadata": {
        "id": "1bKnlwYf8rF1"
      },
      "source": [
        "### Построение модели\n",
        "\n"
      ]
    },
    {
      "cell_type": "code",
      "metadata": {
        "id": "5RDuo2FHv_n1"
      },
      "source": [
        "from gensim.test.utils import common_texts\n",
        "from gensim.models import Word2Vec\n",
        "import multiprocessing\n",
        "cores = multiprocessing.cpu_count() # Count the number of cores in a computer"
      ],
      "execution_count": 70,
      "outputs": []
    },
    {
      "cell_type": "code",
      "metadata": {
        "colab": {
          "base_uri": "https://localhost:8080/"
        },
        "id": "GxIENvI1-1-V",
        "outputId": "453cbf3c-c36a-4b93-94c7-54254b7435ca"
      },
      "source": [
        "model = Word2Vec()\n",
        "\n",
        "model.build_vocab(corpus2, progress_per=10)\n",
        "\n",
        "model.train(corpus2,total_examples=model.corpus_count,  epochs=30, report_delay=1)\n"
      ],
      "execution_count": 71,
      "outputs": [
        {
          "output_type": "execute_result",
          "data": {
            "text/plain": [
              "(424102589, 504407130)"
            ]
          },
          "metadata": {
            "tags": []
          },
          "execution_count": 71
        }
      ]
    },
    {
      "cell_type": "markdown",
      "metadata": {
        "id": "MqJbvW8CF2kV"
      },
      "source": [
        "- тест на определение ближайших слов\n",
        "- тест на аналогии (мужчина – король : женщина – королева)"
      ]
    },
    {
      "cell_type": "code",
      "metadata": {
        "colab": {
          "base_uri": "https://localhost:8080/"
        },
        "id": "gL7CQ2N7gf5r",
        "outputId": "534ba8d7-b0c8-4485-de4b-f9b0fc098750"
      },
      "source": [
        "model.wv.similarity('банк', 'деньги')  #  схожесть двух слов"
      ],
      "execution_count": 74,
      "outputs": [
        {
          "output_type": "execute_result",
          "data": {
            "text/plain": [
              "0.1176519"
            ]
          },
          "metadata": {
            "tags": []
          },
          "execution_count": 74
        }
      ]
    },
    {
      "cell_type": "code",
      "metadata": {
        "colab": {
          "base_uri": "https://localhost:8080/"
        },
        "id": "QoQl0yDcdc0W",
        "outputId": "3540992f-c61b-4f73-dc7c-ff4bfa237fe3"
      },
      "source": [
        "model.wv.most_similar(positive=[\"мужчина\"])    # близкие слова"
      ],
      "execution_count": 170,
      "outputs": [
        {
          "output_type": "execute_result",
          "data": {
            "text/plain": [
              "[('женщина', 0.8943132162094116),\n",
              " ('дама', 0.7677617073059082),\n",
              " ('парень', 0.7253227233886719),\n",
              " ('мужик', 0.7202972769737244),\n",
              " ('охранник', 0.7051090002059937),\n",
              " ('тётенька', 0.6886937618255615),\n",
              " ('посетительница', 0.6840378642082214),\n",
              " ('блондинка', 0.6755356788635254),\n",
              " ('девица', 0.6540517807006836),\n",
              " ('дяденька', 0.6533090472221375)]"
            ]
          },
          "metadata": {
            "tags": []
          },
          "execution_count": 170
        }
      ]
    },
    {
      "cell_type": "code",
      "metadata": {
        "colab": {
          "base_uri": "https://localhost:8080/"
        },
        "id": "vS3Krc45g_iE",
        "outputId": "aad9c1f8-0a54-4c7e-8a25-1484ae771a0c"
      },
      "source": [
        "model.wv.most_similar(negative=[\"мужчина\"])    # отдаленные слова"
      ],
      "execution_count": 171,
      "outputs": [
        {
          "output_type": "execute_result",
          "data": {
            "text/plain": [
              "[('пс', 0.42658278346061707),\n",
              " ('сохраняться', 0.38208332657814026),\n",
              " ('реализовать', 0.3791548013687134),\n",
              " ('доработать', 0.3573809564113617),\n",
              " ('использование', 0.34518536925315857),\n",
              " ('аннулироваться', 0.3447358310222626),\n",
              " ('компенсировать', 0.34270012378692627),\n",
              " ('изменить', 0.3423070013523102),\n",
              " ('скорректировать', 0.34158235788345337),\n",
              " ('подгрузить', 0.34090906381607056)]"
            ]
          },
          "metadata": {
            "tags": []
          },
          "execution_count": 171
        }
      ]
    },
    {
      "cell_type": "code",
      "metadata": {
        "colab": {
          "base_uri": "https://localhost:8080/"
        },
        "id": "pGXrSZvBkykb",
        "outputId": "728848f9-629e-41e3-c7d4-f57a732e94dd"
      },
      "source": [
        "reloaded_word_vectors.words_closer_than('сотрудник', 'думать')    #  все слова , которые ближе к \"сотруднику\",  чем слово \"думать\" к \"сотруднику\""
      ],
      "execution_count": 136,
      "outputs": [
        {
          "output_type": "execute_result",
          "data": {
            "text/plain": [
              "['.',\n",
              " 'банк',\n",
              " '!',\n",
              " 'карта',\n",
              " '?',\n",
              " 'я',\n",
              " 'мой',\n",
              " 'в',\n",
              " 'деньга',\n",
              " 'который',\n",
              " 'день',\n",
              " 'кредит',\n",
              " 'отделение',\n",
              " 'клиент',\n",
              " 'сказать',\n",
              " 'сумма',\n",
              " 'счёт',\n",
              " 'заявление',\n",
              " '...',\n",
              " 'свой',\n",
              " 'год',\n",
              " 'вопрос',\n",
              " 'время',\n",
              " 'кредитный',\n",
              " 'мочь',\n",
              " 'ваш',\n",
              " 'такой',\n",
              " 'номер',\n",
              " 'получить',\n",
              " 'быть',\n",
              " 'ответ',\n",
              " 'дать',\n",
              " 'и',\n",
              " 'договор',\n",
              " 'телефон',\n",
              " 'вклад',\n",
              " 'офис',\n",
              " 'звонить',\n",
              " 'на',\n",
              " 'платёж',\n",
              " 'написать',\n",
              " 'вы',\n",
              " 'какой',\n",
              " 'позвонить',\n",
              " 'очень',\n",
              " 'звонок',\n",
              " 'средство',\n",
              " 'г.',\n",
              " 'но',\n",
              " 'месяц',\n",
              " 'смс',\n",
              " 'банкомат',\n",
              " 'прийти',\n",
              " 'почему',\n",
              " 'а',\n",
              " 'один',\n",
              " 'решить',\n",
              " 'должный',\n",
              " 'проблема',\n",
              " 'другой',\n",
              " 'говорить',\n",
              " 'работа',\n",
              " 'обратиться',\n",
              " 'данный',\n",
              " 'документ',\n",
              " 'информация',\n",
              " 'хотеть',\n",
              " 'работать',\n",
              " 'ситуация',\n",
              " 'операция',\n",
              " 'человек',\n",
              " 'банка',\n",
              " 'срок',\n",
              " 'просить',\n",
              " 'рубль',\n",
              " 'сделать',\n",
              " 'сегодня',\n",
              " 'услуга',\n",
              " 'руб',\n",
              " 'заявка',\n",
              " 'это',\n",
              " 'просто',\n",
              " 'первый',\n",
              " 'являться',\n",
              " 'никакой',\n",
              " 'знать',\n",
              " 'сообщить',\n",
              " 'тот',\n",
              " 'новый',\n",
              " 'оператор',\n",
              " 'претензия',\n",
              " 'интернет',\n",
              " 'ждать',\n",
              " 'обслуживание',\n",
              " 'весь',\n",
              " 'сайт',\n",
              " 'девушка',\n",
              " 'ответить',\n",
              " 'очередь',\n",
              " 'сам',\n",
              " 'нужно',\n",
              " 'т.к',\n",
              " 'оформить',\n",
              " 'несколько',\n",
              " 'не',\n",
              " 'нет',\n",
              " 'писать',\n",
              " 'процент',\n",
              " 'денежный',\n",
              " 'с',\n",
              " 'стать',\n",
              " 'перевод',\n",
              " 'иметь',\n",
              " 'момент',\n",
              " 'обращение',\n",
              " 'течение',\n",
              " 'этот',\n",
              " 'задолженность',\n",
              " 'хотя',\n",
              " 'следующий',\n",
              " 'минута',\n",
              " 'мы',\n",
              " 'так',\n",
              " 'взять',\n",
              " 'условие',\n",
              " 'случай',\n",
              " 'пользоваться',\n",
              " 'центр',\n",
              " 'вообще',\n",
              " 'сразу',\n",
              " 'неделя',\n",
              " 'никто',\n",
              " 'адрес',\n",
              " 'служба',\n",
              " 'вс',\n",
              " 'комиссия',\n",
              " 'выдать',\n",
              " 'специалист',\n",
              " 'приходить',\n",
              " 'делать',\n",
              " 'указать',\n",
              " 'решение',\n",
              " 'час',\n",
              " 'по',\n",
              " 'добрый',\n",
              " 'принять',\n",
              " 'итог',\n",
              " 'при',\n",
              " 'как',\n",
              " 'пройти',\n",
              " 'оплата',\n",
              " 'отзыв',\n",
              " 'после',\n",
              " 'каждый',\n",
              " 'дело',\n",
              " 'открыть',\n",
              " 'система',\n",
              " 'узнать',\n",
              " 'смочь',\n",
              " 'менеджер',\n",
              " 'оплатить',\n",
              " 'снять',\n",
              " 'что',\n",
              " 'к',\n",
              " 'вернуть',\n",
              " 'погашение',\n",
              " 'просьба',\n",
              " 'у',\n",
              " 'пока',\n",
              " 'предложить',\n",
              " 'линия',\n",
              " 'отношение',\n",
              " 'дата',\n",
              " 'попросить',\n",
              " 'оказаться',\n",
              " 'два',\n",
              " 'идти',\n",
              " 'получение',\n",
              " 'слово',\n",
              " 'связь',\n",
              " 'последний',\n",
              " 'объяснить',\n",
              " 'спасибо',\n",
              " 'предоставить',\n",
              " 'история',\n",
              " 'раз',\n",
              " 'горячий',\n",
              " 'отправить',\n",
              " 'снова',\n",
              " 'либо',\n",
              " 'наш',\n",
              " 'прийтись',\n",
              " 'внести',\n",
              " 'нужный',\n",
              " 'самый',\n",
              " 'если',\n",
              " 'второй',\n",
              " 'банковский',\n",
              " 'рабочий',\n",
              " 'брать',\n",
              " 'платить',\n",
              " 'общий',\n",
              " 'сотрудница',\n",
              " 'находиться',\n",
              " 'письмо',\n",
              " 'данные',\n",
              " 'получать',\n",
              " 'москва',\n",
              " 'поддержка',\n",
              " 'обращаться',\n",
              " 'возможность',\n",
              " 'причина',\n",
              " 'закрыть',\n",
              " 'именно',\n",
              " 'альфа',\n",
              " 'страховка',\n",
              " 'лимит',\n",
              " 'администратор',\n",
              " 'долг',\n",
              " 'лицо',\n",
              " 'ну',\n",
              " 'паспорт',\n",
              " 'кто',\n",
              " 'понимать',\n",
              " 'ошибка',\n",
              " 'действие',\n",
              " 'полный',\n",
              " 'уточнить',\n",
              " 'отказ',\n",
              " 'сообщение',\n",
              " 'конец',\n",
              " 'разобраться',\n",
              " 'терминал',\n",
              " 'помочь',\n",
              " 'около',\n",
              " 'ещ',\n",
              " 'оформление',\n",
              " 'назад',\n",
              " 'рублей',\n",
              " 'касса',\n",
              " 'мобильный',\n",
              " 'друг',\n",
              " 'поэтому',\n",
              " 'всё',\n",
              " 'погасить',\n",
              " 'пытаться',\n",
              " 'отвечать',\n",
              " 'любой',\n",
              " 'справка',\n",
              " 'до',\n",
              " 'карту',\n",
              " 'рассмотрение',\n",
              " 'карты',\n",
              " 'хотеться',\n",
              " 'размер',\n",
              " 'списание',\n",
              " 'закрытие',\n",
              " 'оставить',\n",
              " 'право',\n",
              " 'место',\n",
              " 'онлайн',\n",
              " 'выписка',\n",
              " 'декабрь',\n",
              " 'дней',\n",
              " 'результат',\n",
              " 'хороший',\n",
              " 'видеть',\n",
              " 'здравствуйте',\n",
              " 'списать',\n",
              " 'остаться',\n",
              " 'дебетовый',\n",
              " 'заблокировать',\n",
              " 'давать',\n",
              " 'просрочка',\n",
              " 'приехать',\n",
              " 'деньги',\n",
              " 'перевести',\n",
              " 'через',\n",
              " 'возврат',\n",
              " 'сч',\n",
              " 'ул',\n",
              " 'считать',\n",
              " 'далее',\n",
              " 'ставка',\n",
              " 'число',\n",
              " 'открытие',\n",
              " 'втб',\n",
              " 'начать',\n",
              " 'снятие',\n",
              " 'пора',\n",
              " 'надеяться',\n",
              " 'когда',\n",
              " 'суд',\n",
              " 'однако',\n",
              " 'покупка',\n",
              " 'вот',\n",
              " 'подать',\n",
              " 'понять',\n",
              " 'операционист',\n",
              " 'личный',\n",
              " 'пойти',\n",
              " 'город',\n",
              " 'отдел',\n",
              " 'т.е',\n",
              " 'колл',\n",
              " 'копия',\n",
              " 'уважаемый',\n",
              " 'м',\n",
              " 'рф',\n",
              " 'р.',\n",
              " 'таки',\n",
              " 'сей',\n",
              " 'жалоба',\n",
              " 'поступить',\n",
              " 'спросить',\n",
              " 'отказаться',\n",
              " 'требовать',\n",
              " 'очередной',\n",
              " 'сторона',\n",
              " 'имя',\n",
              " 'предложение',\n",
              " 'электронный',\n",
              " 'начало',\n",
              " 'произойти',\n",
              " 'да',\n",
              " 'банке',\n",
              " 'обещать',\n",
              " 'видимо',\n",
              " 'сколько',\n",
              " 'быстро',\n",
              " 'дополнительный',\n",
              " 'указанный',\n",
              " 'разговор',\n",
              " 'чек',\n",
              " 'найти',\n",
              " 'страхование',\n",
              " 'выдача',\n",
              " 'необходимо',\n",
              " 'программа',\n",
              " 'представитель',\n",
              " 'зарплатный',\n",
              " 'досрочный',\n",
              " 'запрос',\n",
              " 'филиал',\n",
              " 'перезвонить',\n",
              " 'о',\n",
              " 'почта',\n",
              " 'остаток',\n",
              " 'март',\n",
              " 'провести',\n",
              " 'пожалуйста',\n",
              " 'код',\n",
              " 'оформлять',\n",
              " 'январь',\n",
              " 'тысяча',\n",
              " 'образ',\n",
              " 'положить',\n",
              " 'наличный',\n",
              " 'внимание',\n",
              " 'близкий',\n",
              " 'факт',\n",
              " 'россия',\n",
              " 'возможно',\n",
              " 'стоить',\n",
              " 'требование',\n",
              " 'прислать',\n",
              " 'проверить',\n",
              " 'карточка',\n",
              " 'долго',\n",
              " 'одобрить',\n",
              " 'магазин',\n",
              " 'от',\n",
              " 'порядок',\n",
              " 'технический',\n",
              " 'было',\n",
              " 'поступать',\n",
              " 'за',\n",
              " 'спрашивать',\n",
              " 'связаться',\n",
              " 'период',\n",
              " 'то',\n",
              " 'апрель',\n",
              " 'курс',\n",
              " 'работник',\n",
              " 'забрать',\n",
              " 'рука',\n",
              " 'большой',\n",
              " 'страховой',\n",
              " 'оплачивать',\n",
              " 'пара',\n",
              " 'сообщать',\n",
              " 'ноябрь',\n",
              " 'закон',\n",
              " 'предлагать',\n",
              " 'организация',\n",
              " 'разный',\n",
              " 'необходимый',\n",
              " 'больший',\n",
              " 'тариф',\n",
              " 'сервис',\n",
              " 'зайти',\n",
              " 'штраф',\n",
              " 'причём',\n",
              " 'уйти',\n",
              " 'плата',\n",
              " 'подключить',\n",
              " 'компания',\n",
              " 'сначала',\n",
              " 'повод',\n",
              " 'принимать',\n",
              " 'она',\n",
              " 'май',\n",
              " 'они',\n",
              " 'готовый',\n",
              " 'октябрь',\n",
              " 'часть',\n",
              " 'основание',\n",
              " 'некоторый',\n",
              " 'третий',\n",
              " 'попытка',\n",
              " 'для',\n",
              " 'подобный',\n",
              " 'заплатить',\n",
              " 'составить',\n",
              " 'кроме',\n",
              " 'февраль',\n",
              " 'вчера',\n",
              " 'д.',\n",
              " 'л',\n",
              " 'ежемесячный',\n",
              " 'снимать',\n",
              " 'возникнуть',\n",
              " 'маленький',\n",
              " 'форма',\n",
              " 'х',\n",
              " 'сожаление',\n",
              " 'давно',\n",
              " 'качество',\n",
              " 'отказать',\n",
              " 'года',\n",
              " 'помощь',\n",
              " 'передать',\n",
              " 'начаться',\n",
              " 'ранее',\n",
              " 'подписать',\n",
              " 'персональный',\n",
              " 'кассир',\n",
              " 'действительно',\n",
              " 'объяснять',\n",
              " 'вид',\n",
              " 'полностью',\n",
              " 'руководитель',\n",
              " 'оао',\n",
              " 'воспользоваться',\n",
              " 'цель',\n",
              " 'примерно',\n",
              " 'тыс',\n",
              " 'оказываться',\n",
              " 'сбой',\n",
              " 'продукт',\n",
              " 'получаться',\n",
              " 'далёкий',\n",
              " 'оценка',\n",
              " 'дом',\n",
              " 'руководство',\n",
              " 'ранний',\n",
              " 'туда',\n",
              " 'точно',\n",
              " 'посмотреть',\n",
              " 'естественно',\n",
              " 'закрытый',\n",
              " 'подтвердить',\n",
              " 'общение',\n",
              " 'сентябрь',\n",
              " 'заполнить',\n",
              " 'теперь',\n",
              " 'подойти',\n",
              " 'лично',\n",
              " 'сидеть',\n",
              " 'выясниться',\n",
              " 'депозит',\n",
              " 'он',\n",
              " 'вежливый',\n",
              " 'потратить',\n",
              " 'спустя',\n",
              " 'август',\n",
              " 'письменный',\n",
              " 'происходить',\n",
              " 'телефонный',\n",
              " 'русский',\n",
              " 'перевыпуск',\n",
              " 'текущий',\n",
              " 'постоянно',\n",
              " 'жизнь',\n",
              " 'кредита',\n",
              " 'дозвониться',\n",
              " 'рассмотреть',\n",
              " 'положительный',\n",
              " 'поскольку',\n",
              " 'выдавать',\n",
              " 'подождать',\n",
              " 'выяснить',\n",
              " 'годовой',\n",
              " 'квартира',\n",
              " 'иметься',\n",
              " 'безопасность',\n",
              " 'база',\n",
              " 'назвать',\n",
              " 'отсутствие',\n",
              " 'заказать',\n",
              " 'достаточно',\n",
              " 'начинать',\n",
              " 'баланс',\n",
              " 'пополнение',\n",
              " 'го',\n",
              " 'анкета',\n",
              " 'ожидание',\n",
              " 'т.д',\n",
              " 'действовать',\n",
              " 'завтра',\n",
              " 'поставить',\n",
              " 'купюра',\n",
              " 'контактный',\n",
              " 'лишь',\n",
              " 'кстати',\n",
              " 'также',\n",
              " 'рассказать',\n",
              " 'поздний',\n",
              " 'невозможно',\n",
              " 'вносить',\n",
              " 'банком',\n",
              " 'открывать',\n",
              " 'вроде',\n",
              " 'пункт',\n",
              " 'стандарт',\n",
              " 'согласно',\n",
              " 'просрочить',\n",
              " 'потребительский',\n",
              " 'вместо',\n",
              " 'якобы',\n",
              " 'общаться',\n",
              " 'понятно',\n",
              " 'старый',\n",
              " 'заранее',\n",
              " 'ва',\n",
              " 'подтверждение',\n",
              " 'вынудить',\n",
              " 'впечатление',\n",
              " 'появиться',\n",
              " 'сейчас',\n",
              " 'правило',\n",
              " 'июль',\n",
              " 'затем',\n",
              " 'платёжный',\n",
              " 'досрочно',\n",
              " 'фамилия',\n",
              " 'плюс',\n",
              " 'составлять',\n",
              " 'г',\n",
              " 'муж',\n",
              " 'утро',\n",
              " 'ипотека',\n",
              " 'пароль',\n",
              " 'бесплатный',\n",
              " 'начислить',\n",
              " 'сложиться',\n",
              " 'использование',\n",
              " 'смотреть',\n",
              " 'ладный',\n",
              " 'единственный',\n",
              " 'потерять',\n",
              " 'зачислить',\n",
              " 'подпись',\n",
              " 'ехать',\n",
              " 'вернуться',\n",
              " 'счет',\n",
              " 'пин',\n",
              " 'удобный',\n",
              " 'мало',\n",
              " 'финансовый',\n",
              " 'клиентов',\n",
              " 'уже',\n",
              " 'реквизит',\n",
              " 'валюта',\n",
              " 'заниматься',\n",
              " 'согласие',\n",
              " 'направить',\n",
              " 'равно',\n",
              " 'попасть',\n",
              " 'московский',\n",
              " 'желание',\n",
              " 'ткс',\n",
              " 'уважение',\n",
              " 'график',\n",
              " 'произвести',\n",
              " 'изменение',\n",
              " 'дальнейший',\n",
              " 'простой',\n",
              " 'акция',\n",
              " 'ситуации',\n",
              " 'р',\n",
              " 'есть',\n",
              " 'менее',\n",
              " 'вечером',\n",
              " 'проверка',\n",
              " 'поехать',\n",
              " 'июнь',\n",
              " 'мтс',\n",
              " 'искать',\n",
              " 'предоставление',\n",
              " 'никак',\n",
              " 'решать',\n",
              " 'процесс',\n",
              " 'посоветовать',\n",
              " 'небольшой',\n",
              " 'выбрать',\n",
              " 'подумать',\n",
              " 'проходить',\n",
              " 'правда',\n",
              " 'сб',\n",
              " 'управлять',\n",
              " 'минус',\n",
              " 'всякий',\n",
              " 'там',\n",
              " 'ипотечный',\n",
              " 'знакомый',\n",
              " 'выпустить',\n",
              " 'мо',\n",
              " 'настоящий',\n",
              " 'выйти',\n",
              " 'заявить',\n",
              " 'ожидать',\n",
              " 'расчётный',\n",
              " 'связный',\n",
              " 'совершить',\n",
              " 'цб',\n",
              " 'жена',\n",
              " 'молодой',\n",
              " 'внесение',\n",
              " 'официальный',\n",
              " 'отметить',\n",
              " 'сутки',\n",
              " 'срочно',\n",
              " 'приходиться',\n",
              " 'вкладчик',\n",
              " 'зачисление',\n",
              " 'трубка',\n",
              " 'собираться',\n",
              " 'мера',\n",
              " 'разбираться',\n",
              " 'дня',\n",
              " 'из',\n",
              " 'жить',\n",
              " 'евро',\n",
              " 'огромный',\n",
              " 'транзакция',\n",
              " 'удобно',\n",
              " 'мама',\n",
              " 'использовать',\n",
              " 'совершенно',\n",
              " 'наличие',\n",
              " 'отказываться',\n",
              " 'доп',\n",
              " 'потом',\n",
              " 'мол',\n",
              " 'пополнить',\n",
              " 'обязательство',\n",
              " 'процентный',\n",
              " 'заверить',\n",
              " 'зарплата',\n",
              " 'ставить',\n",
              " 'оставлять',\n",
              " 'понедельник',\n",
              " 'ооо',\n",
              " 'три',\n",
              " 'вариант',\n",
              " 'траст',\n",
              " 'наверное',\n",
              " 'выпуск',\n",
              " 'забыть',\n",
              " 'пакет',\n",
              " 'кабинет',\n",
              " 'остальной',\n",
              " 'отдать',\n",
              " 'стоять',\n",
              " 'сделка',\n",
              " 'зарегистрировать',\n",
              " 'собственный',\n",
              " 'домой',\n",
              " 'карте',\n",
              " 'консультант',\n",
              " 'например',\n",
              " 'состояние',\n",
              " 'читать',\n",
              " 'вывод',\n",
              " 'нормально',\n",
              " 'доллар',\n",
              " 'отправлять',\n",
              " 'хорошо',\n",
              " 'оставаться',\n",
              " 'ни',\n",
              " 'подавать',\n",
              " 'выплата',\n",
              " 'денег',\n",
              " 'получиться',\n",
              " 'услышать',\n",
              " 'продолжать',\n",
              " 'ввести',\n",
              " 'значит',\n",
              " 'крупный',\n",
              " 'процедура',\n",
              " 'разговаривать',\n",
              " 'ещё',\n",
              " 'киви',\n",
              " 'рекомендовать',\n",
              " 'ст',\n",
              " 'окно',\n",
              " 'обязать',\n",
              " 'пояснить',\n",
              " 'только',\n",
              " 'ребёнок',\n",
              " 'возникать',\n",
              " 'вовремя',\n",
              " 'обратно',\n",
              " 'немного',\n",
              " 'товар',\n",
              " 'закончиться',\n",
              " 'купить',\n",
              " 'сбербанка',\n",
              " 'выполнить',\n",
              " 'счета',\n",
              " 'кредитка',\n",
              " 'нарушение',\n",
              " 'помнить',\n",
              " 'вечер',\n",
              " 'средств',\n",
              " 'тратить',\n",
              " 'блокировка',\n",
              " 'заметить',\n",
              " 'высокий',\n",
              " 'бумага',\n",
              " 'необходимость',\n",
              " 'взыскание',\n",
              " 'тип',\n",
              " 'доход',\n",
              " 'плохой',\n",
              " 'откуда',\n",
              " 'попытаться',\n",
              " 'соответствие',\n",
              " 'контакт',\n",
              " 'центральный',\n",
              " 'доверенность',\n",
              " 'пользование',\n",
              " 'операционистка',\n",
              " 'или',\n",
              " 'интересный',\n",
              " 'квитанция',\n",
              " 'успеть',\n",
              " 'проверять',\n",
              " 'обслуживаться',\n",
              " 'отключить',\n",
              " 'честно',\n",
              " 'выше',\n",
              " 'казаться',\n",
              " 'вина',\n",
              " 'предыдущий',\n",
              " 'выходной',\n",
              " 'возможный',\n",
              " 'пять',\n",
              " 'удаться',\n",
              " 'доступ',\n",
              " 'несмотря',\n",
              " 'заёмщик',\n",
              " 'пр',\n",
              " 'соответствовать',\n",
              " 'быстрый',\n",
              " 'список',\n",
              " 'обслуживать',\n",
              " 'крайне',\n",
              " 'некий',\n",
              " 'объяснение',\n",
              " 'обычно',\n",
              " 'способ',\n",
              " 'повторно',\n",
              " 'себя',\n",
              " 'окончание',\n",
              " 'н',\n",
              " 'проводить',\n",
              " 'статус',\n",
              " 'подтверждать',\n",
              " 'утром',\n",
              " 'занять',\n",
              " 'минут',\n",
              " 'опыт',\n",
              " 'недавно',\n",
              " 'ходить',\n",
              " 'закрывать',\n",
              " 'количество',\n",
              " 'заключить',\n",
              " 'зачем',\n",
              " 'судебный',\n",
              " 'интересно',\n",
              " 'перевыпустить',\n",
              " 'исправить',\n",
              " 'переводить',\n",
              " 'оно',\n",
              " 'абсолютно',\n",
              " 'активировать',\n",
              " 'полиция',\n",
              " 'тут',\n",
              " 'постоянный',\n",
              " 'долгий',\n",
              " 'правильно',\n",
              " 'нормальный',\n",
              " 'минимальный',\n",
              " 'ч',\n",
              " 'приятно',\n",
              " 'хоум',\n",
              " 'предоставлять',\n",
              " 'мкб',\n",
              " 'прошлый',\n",
              " 'наличные',\n",
              " 'стоимость',\n",
              " 'попробовать',\n",
              " 'пусть',\n",
              " 'слышать',\n",
              " 'принести',\n",
              " 'узнавать',\n",
              " 'обязательно',\n",
              " 'прекратить',\n",
              " 'месяца',\n",
              " 'предупредить',\n",
              " 'полгода',\n",
              " 'главное',\n",
              " 'суббота',\n",
              " 'сегодняшний',\n",
              " 'вновь',\n",
              " 'согласиться',\n",
              " 'проведение',\n",
              " 'где',\n",
              " 'проспект',\n",
              " 'защита',\n",
              " 'подача',\n",
              " 'удивление',\n",
              " 'обратить',\n",
              " 'практически',\n",
              " 'иной',\n",
              " 'столкнуться',\n",
              " 'бывать',\n",
              " 'неоднократно',\n",
              " 'заходить',\n",
              " 'лишний',\n",
              " 'перечислить',\n",
              " 'обработка',\n",
              " 'запись',\n",
              " 'иначе',\n",
              " 'описать',\n",
              " 'желать',\n",
              " 'называть',\n",
              " 'открытый',\n",
              " 'п.',\n",
              " 'задать',\n",
              " 'супруг',\n",
              " 'улица',\n",
              " 'принцип',\n",
              " 'внутренний',\n",
              " 'мнение',\n",
              " 'проблемы',\n",
              " 'уровень',\n",
              " 'случиться',\n",
              " 'угроза',\n",
              " 'персонал',\n",
              " 'приезжать',\n",
              " 'оба',\n",
              " 'отп',\n",
              " 'приятный',\n",
              " 'довольный',\n",
              " 'иб',\n",
              " 'вход',\n",
              " 'валютный',\n",
              " 'начисление',\n",
              " 'поменять',\n",
              " 'б',\n",
              " 'получатель',\n",
              " 'обычный',\n",
              " 'петербург',\n",
              " 'успешно',\n",
              " 'санкт',\n",
              " 'подходить',\n",
              " 'взнос',\n",
              " 'клиента',\n",
              " 'скорее',\n",
              " 'непонятно',\n",
              " 'довольно',\n",
              " 'отдельный',\n",
              " 'озвучить',\n",
              " 'распечатать',\n",
              " 'лет',\n",
              " 'дождаться',\n",
              " 'конкретный',\n",
              " 'подсказать',\n",
              " 'неприятный',\n",
              " 'информирование',\n",
              " 'целое',\n",
              " 'сотрудничество',\n",
              " 'перестать',\n",
              " 'одобрение',\n",
              " 'выбор',\n",
              " 'регистрация',\n",
              " 'надо',\n",
              " 'сила',\n",
              " 'представиться',\n",
              " 'рядом',\n",
              " 'подарок',\n",
              " 'дверь',\n",
              " 'повторный',\n",
              " 'родственник',\n",
              " 'прокуратура',\n",
              " 'расчёт',\n",
              " 'висеть',\n",
              " 'уточнять',\n",
              " 'часто',\n",
              " 'оперативно',\n",
              " 'приём',\n",
              " 'реклама',\n",
              " 'послать',\n",
              " 'уведомить',\n",
              " 'минимум',\n",
              " 'зал',\n",
              " 'выплатить',\n",
              " 'компьютер',\n",
              " 'платежа',\n",
              " 'статья',\n",
              " 'неужели',\n",
              " 'менять',\n",
              " 'собственно',\n",
              " 'фио',\n",
              " 'п',\n",
              " 'показать',\n",
              " 'особенно',\n",
              " 'посещение',\n",
              " 'т.',\n",
              " 'смысл',\n",
              " 'план',\n",
              " 'заключение',\n",
              " 'подписывать',\n",
              " 'договора',\n",
              " 'бесплатно',\n",
              " 'автор',\n",
              " 'льготный',\n",
              " 'прочитать',\n",
              " 'консультация',\n",
              " 'приложение',\n",
              " 'установить',\n",
              " 'выгодный',\n",
              " 'пообещать',\n",
              " 'куча',\n",
              " 'извинение',\n",
              " 'учёт',\n",
              " 'кредиту',\n",
              " 'ничего',\n",
              " 'ситуацию',\n",
              " 'текст',\n",
              " 'коллега',\n",
              " 'должник',\n",
              " 'планировать',\n",
              " 'сотовый',\n",
              " 'судить',\n",
              " 'устраивать',\n",
              " 'вклада',\n",
              " 'визит',\n",
              " 'специально',\n",
              " 'сумму',\n",
              " 'дойти',\n",
              " 'конечно',\n",
              " 'зао',\n",
              " 'удалить',\n",
              " 'доступный',\n",
              " 'рассматривать',\n",
              " 'смена',\n",
              " 'основный',\n",
              " 'меня',\n",
              " 'встреча',\n",
              " 'изменить',\n",
              " 'совершать',\n",
              " 'банку',\n",
              " 'кредитование',\n",
              " 'уверить',\n",
              " 'тогда',\n",
              " 'бонус',\n",
              " 'пятница',\n",
              " 'сильно',\n",
              " 'итак',\n",
              " 'полтора',\n",
              " 'глаз',\n",
              " 'даже',\n",
              " 'вполне',\n",
              " 'опять',\n",
              " 'машина',\n",
              " 'копейка',\n",
              " ...]"
            ]
          },
          "metadata": {
            "tags": []
          },
          "execution_count": 136
        }
      ]
    },
    {
      "cell_type": "code",
      "metadata": {
        "id": "I_sqMIv0dpcH"
      },
      "source": [
        "vector = model.wv['день']  \n",
        "sims1 = model.wv.most_similar('сотрудник', topn=10)  "
      ],
      "execution_count": 75,
      "outputs": []
    },
    {
      "cell_type": "markdown",
      "metadata": {
        "id": "r8Zi3SwDFKT6"
      },
      "source": [
        "Для работы с веторами сохраняем модель, потом загружаем"
      ]
    },
    {
      "cell_type": "code",
      "metadata": {
        "id": "t0_Rtm6ddprA"
      },
      "source": [
        "from gensim.models import KeyedVectors\n",
        "from sklearn.metrics.pairwise import cosine_similarity\n",
        "\n",
        "word_vectors = model.wv\n",
        "word_vectors.save('vectors.kv')\n",
        "reloaded_word_vectors = KeyedVectors.load('vectors.kv')"
      ],
      "execution_count": 76,
      "outputs": []
    },
    {
      "cell_type": "markdown",
      "metadata": {
        "id": "-66pWMraFcSb"
      },
      "source": [
        "\n",
        "- тест на определение лишнего слова.\n"
      ]
    },
    {
      "cell_type": "code",
      "metadata": {
        "id": "pqcsczm1inl2"
      },
      "source": [
        "def odd_word_out(input_words):\n",
        "    '''The function accepts a list of word and returns the odd word.'''\n",
        "     \n",
        "    # Generate all word embeddings for the given list of words\n",
        "     \n",
        "    whole_word_vectors = [reloaded_word_vectors[i] for i in input_words]\n",
        "     \n",
        "    # average vector for all word vectors\n",
        "    mean_vector = np.mean(whole_word_vectors,axis=0)\n",
        "     \n",
        "    # Iterate over every word and find similarity\n",
        "    odd_word = None\n",
        "    minimum_similarity = 99999.0 # Can be any very high value\n",
        "     \n",
        "    for i in input_words:\n",
        "        similarity = cosine_similarity([reloaded_word_vectors[i]],[mean_vector])\n",
        "        if similarity < minimum_similarity:\n",
        "            minimum_similarity = similarity\n",
        "            odd_word = i\n",
        "     \n",
        "        print(\"cosine similarity score between %s and mean_vector is %.3f\"%(i,similarity))\n",
        "     \n",
        "    print(\"\\nЛишнее слово: \"+odd_word)"
      ],
      "execution_count": 168,
      "outputs": []
    },
    {
      "cell_type": "code",
      "metadata": {
        "colab": {
          "base_uri": "https://localhost:8080/"
        },
        "id": "BTqRAZ_ei7VM",
        "outputId": "f0955187-e703-4ed6-fdfe-9eba391dc2e0"
      },
      "source": [
        "input_1 = ['банк','деньги','день','банкомат','взять'] \n",
        "odd_word_out(input_1)"
      ],
      "execution_count": 169,
      "outputs": [
        {
          "output_type": "stream",
          "text": [
            "cosine similarity score between банк and mean_vector is 0.311\n",
            "cosine similarity score between деньги and mean_vector is 0.577\n",
            "cosine similarity score between день and mean_vector is 0.481\n",
            "cosine similarity score between банкомат and mean_vector is 0.600\n",
            "cosine similarity score between взять and mean_vector is 0.220\n",
            "\n",
            "Лишнее слово: взять\n"
          ],
          "name": "stdout"
        }
      ]
    },
    {
      "cell_type": "markdown",
      "metadata": {
        "id": "UFMBqzKRekhF"
      },
      "source": [
        "Поиск схожих отзывов по заданному предложению"
      ]
    },
    {
      "cell_type": "code",
      "metadata": {
        "id": "D_LHfPwEBn1z"
      },
      "source": [
        "from gensim.similarities import WmdSimilarity\n",
        "num_best = 10\n",
        "instance = WmdSimilarity(corpus2[500], model, num_best=10)  # num_best - количество схожих предложений"
      ],
      "execution_count": 118,
      "outputs": []
    },
    {
      "cell_type": "code",
      "metadata": {
        "id": "EhsRhrudB1Ml"
      },
      "source": [
        "sent = 'хороший банк спасибо сотрудникам'  # для поиска задаем любое предложение, не обязательно из рассматриваемого датасета\n",
        "query = sent\n",
        "sims = instance[query]  "
      ],
      "execution_count": 119,
      "outputs": []
    },
    {
      "cell_type": "code",
      "metadata": {
        "colab": {
          "base_uri": "https://localhost:8080/"
        },
        "id": "J8foxBMDCBz3",
        "outputId": "f85778e6-45f8-4ff8-87a2-8843c433b14e"
      },
      "source": [
        "print('искомое предложение: ',sent)\n",
        "\n",
        "for i in range(num_best):\n",
        "    print('sim = %.4f' % sims[i][1])\n",
        "    print(corpus2[sims[i][0]])\n"
      ],
      "execution_count": 120,
      "outputs": [
        {
          "output_type": "stream",
          "text": [
            "искомое предложение:  хороший банк спасибо сотрудникам\n",
            "sim = 0.7574\n",
            "['и', 'снова', 'добрый', 'вечер', '!', '.', '.', 'ссылка', 'предыдущий', 'отзыв', '.', 'пройти', 'месяц', 'кредитный', 'история', 'исправлена', '!', 'сначала', 'пол', 'год', 'убирать', 'задолженность', 'столько', 'ждать', 'исправить', 'историю', '?', '?', '?', 'не', 'серь', 'зно', '...', 'что', 'нужно', 'сделать', 'кто', 'обратиться', '?', '?', '?']\n",
            "sim = 0.7574\n",
            "['в', 'февраль', 'я', 'открыто', 'шесть', 'вклад', 'доллар', 'сша', 'евро', 'тинькофф', 'банк', 'далее', 'банк', 'тариф', 'тпд', '.', 'тпд', '.', 'действовать', 'момент', 'открытие', 'вклада', '.', 'ставка', 'весь', 'данные', 'депозит', 'установить', 'размер', 'годовой', 'доллар', 'сша', 'евро', '.', 'всё', 'депозит', 'момент', 'открытие', 'состояние', 'май', 'условие', 'договор', 'тариф', 'являться', 'пополняемыми', '.', 'май', 'год', 'веб', 'сайт', 'банк', '.', '.', 'опубликовать', 'новость', 'который', 'утверждаться', 'грядущий', 'июль', 'год', 'изменение', 'условие', 'данные', 'открытый', 'депозит', 'тариф', 'тпд', '.', 'дословно', 'с', 'июль', 'г.', 'быть', 'унифицировать', 'условие', 'пополнение', 'вклад', 'тариф', 'тпд', '.', 'к', 'весь', 'пополнение', 'вклад', 'зачислить', 'начинать', 'июль', 'г.', 'применяться', 'единый', 'ставка', 'вне', 'зависимость', 'срок', 'вклад', 'для', 'рублёвый', 'вклад', 'открытый', 'соответствие', 'тпд', '.', 'рубль', 'рф', 'применяться', 'ставка', 'годовой', 'для', 'валютный', 'вклад', 'открытый', 'соответствие', 'тпд', '.', 'доллар', 'сша', 'евро', 'применяться', 'ставка', 'годовых', '.', 'май', 'год', 'веб', 'сайт', 'банк', '.', '.', 'опубликовать', 'уточнение', 'новость', 'май', 'год', 'менять', 'суть', 'вводить', 'изменение', 'с', 'июль', 'г.', 'быть', 'унифицировать', 'условие', 'пополнение', 'вклад', 'открытый', 'либо', 'пролонгировать', 'период', '.', '.', '.', '.', 'включительно', 'вклад', 'который', 'повысить', 'процентный', 'ставка', 'связь', 'измениться', 'рыночный', 'условиями', '.', 'дать', 'изменение', 'вступать', 'сила', 'связь', 'планомерный', 'понижение', 'ключевой', 'ставка', 'постепенный', 'нормализация', 'ситуация', 'финансовый', 'рынок', 'соответствие', 'общий', 'рекомендация', 'цб', 'рф', 'снижение', 'ставка', 'вклад', 'физический', 'лиц', '.', 'к', 'весь', 'пополнение', 'данные', 'вклад', 'зачислить', 'начинать', 'июль', 'г.', 'применяться', 'единый', 'ставка', 'вне', 'зависимость', 'срок', 'вклад', 'для', 'рублёвый', 'вклад', 'применяться', 'ставка', 'годовой', 'для', 'валютный', 'вклад', 'применяться', 'ставка', 'годовой', 'кроме', 'вклад', 'срок', 'месяц', '.', 'после', 'уточнение', 'данные', 'изложить', 'новость', 'сотрудник', 'банк', 'сотрудник', 'подтвердить', 'июль', 'ввести', 'новый', 'редакция', 'тариф', 'тпд', '.', 'вклад', 'доллар', 'сша', 'евро', 'действовать', 'договор', 'пополнение', 'сумма', 'пополнение', 'применяться', 'ставка', 'годовой', 'вне', 'зависимость', 'действовать', 'ставка', 'договор', 'годовой', 'мо', 'м', 'случай', '.', 'считать', 'позиция', 'банк', 'нарушать', 'условие', 'заключить', 'я', 'банк', 'договор', 'вклад', 'интерпретация', 'операция', 'пополнение', 'вклад', 'волюнтаристской', '.', 'с', 'мой', 'точка', 'зрение', 'пополнение', 'вклад', 'являться', 'увеличение', 'сумма', 'действовать', 'вклад', 'изменение', 'остальной', 'условие', 'договор', 'вклада', '.', 'соответственно', 'сумма', 'вклад', 'вне', 'зависимость', 'зачислить', 'пополнить', 'должный', 'применяться', 'один', 'тот', 'ставка', 'вклад', 'который', 'зафиксировать', 'договоре', '.', 'изменение', 'вводить', 'банк', 'июль', 'год', 'являться', 'существенный', 'ухудшение', 'условие', 'вклад', 'фактический', 'понижение', 'ставка', 'вклад', 'средство', 'который', 'вносить', 'вклад', 'вид', 'пополнение', 'годовой', 'противоречить', 'ранее', 'озвучить', 'разрекламировать', 'действовать', 'условие', 'вкладов', '.', 'уменьшение', 'ставка', 'являться', 'нарушение', 'пункт', '.', 'общий', 'условие', 'открытие', 'обслуживание', 'закрытие', 'банковский', 'вклад', 'банк', '.', '.', '.', 'нарушение', 'пункт', 'статья', 'гк', 'рф', 'запрещать', 'односторонний', 'уменьшение', 'банк', 'ставка', 'действовать', 'вклад', 'физический', 'лиц', '.', 'учитывать', 'дать', 'изменение', 'быть', 'применимый', 'вкладчик', 'тинкофф', 'банк', 'заключить', 'договор', 'тариф', 'тпд', '.', 'являться', 'существенный', 'нарушение', 'интерес', 'вкладчик', 'физический', 'лицо', 'считать', 'данный', 'поведение', 'банк', 'неудовлетворительным', '.', 'обращать', 'ваш', 'внимание', 'дать', 'ситуация', 'похожий', 'ситуация', 'декабрь', 'год', 'который', 'привлечение', 'денежный', 'средство', 'банк', 'зао', 'метробанк', 'вклад', 'последующий', 'ухудшение', 'потребительский', 'свойство', 'этот', 'вклад', 'сравнение', 'первоначально', 'заявить', 'признать', 'незаконный', 'московский', 'управление', 'федеральный', 'антимонопольный', 'служба', 'российский', 'федерация', 'уфас', 'россия', '.', 'декабрь', 'год', 'совместный', 'комиссия', 'уфас', 'россия', 'мгту', 'банк', 'россия', 'признать', 'незаконный', 'приём', 'дополнительный', 'взнос', 'существующий', 'вклад', 'занизить', 'процент', 'нарушение', 'ч.', 'ст', '.', 'закон', 'о', 'защита', 'конкуренция', '.', 'комиссия', 'принять', 'решение', 'выдача', 'банк', 'предписание', 'прекращение', 'недобросовестный', 'конкуренция', 'устранение', 'последствие', 'нарушение', 'антимонопольный', 'законодательства', '.', '.', '.', '.']\n",
            "sim = 0.7574\n",
            "['добрый', 'день', '!', '!', '!', 'каждый', 'день', 'сам', 'утро', 'течение', 'день', 'мобильный', 'звонить', 'представитель', 'восточный', 'экспресс', 'банк', '.', 'звонить', 'интересоваться', 'должник', 'банк', 'который', 'указать', 'номер', 'качество', 'контакта', '.', 'этот', 'человек', 'родственник', 'поддерживать', 'отношение', '.', 'я', 'раз', 'обращаться', 'ваш', 'банк', 'какой', 'повод', 'брать', 'кредитов', '!', '!', '!', 'поручитель', 'являюсь', '!', '!', '!', 'не', 'объяснять', 'звонить', 'искать', 'заставлять', 'погасить', 'кредит', 'никто', 'быть', 'звонок', 'равно', 'продолжаются', '.', 'не', 'однократно', 'просить', 'удалить', 'телефон', 'база', 'ваш', 'заемщик', '.', 'получить', 'ответ', 'искать', 'должник', 'пусть', 'гасить', 'кредит', 'менять', 'контактный', 'номера', '.', 'считать', 'ваш', 'работа', 'проверять', 'информация', 'который', 'давать', 'ваш', 'заёмщик', 'получение', 'кредит', 'погоня', 'прибыль', 'давать', 'кредит', 'весь', 'подряд', 'человек', 'работа', 'хотеть', 'бегать', 'искать', 'заставлять', 'погашать', 'кредит', '.', 'просить', 'краткий', 'срок', 'удалить', 'номер', 'база', 'данные', 'ваш', 'банк', 'т.к', '.', 'согласие', 'давал', '!', '!', '!', 'иначе', 'быть', 'вынудить', 'обратиться', 'прокуратуру', '!', '!', '!']\n",
            "sim = 0.7574\n",
            "['получить', 'одобрение', 'потребительский', 'кредит', 'менеджер', 'сообщить', 'срок', 'действие', 'одобрение', 'июня', '.', 'посетить', 'банк', 'май', 'сообщить', 'банк', 'снизиться', '!', 'процентный', 'ставка', 'заявка', 'необходимо', 'подать', 'вновь', 'привезти', 'новый', 'справка', 'зп', 'старая', '?', '.', 'через', 'час', 'отделение', 'минута', 'получить', 'отказ', 'справка', 'смотреть', '.', 'смысл', 'манипуляция', 'клиент', 'непонятен', '.']\n",
            "sim = 0.7574\n",
            "['хотеться', 'поделиться', 'впечатление', 'работа', 'данные', 'банком', '.', 'собственно', 'впечатление', 'отрицательные', '...', 'клиент', 'банк', 'зарплатный', 'карта', 'оформить', 'кредитную', '.', 'в', 'время', 'пользование', 'карта', 'кредитный', 'протяжение', 'два', 'год', 'допускать', 'просрочка', 'настать', 'момент', 'возникнуть', 'проблема', 'работа', 'задержка', 'выплата', 'смена', 'место', 'работы', '...', 'снижение', 'уровень', 'зп', '...', 'итог', 'образоваться', 'просрочка', 'карта', 'т.р', '.', 'просрочки', '...', 'мой', 'просьба', 'возможность', 'уменьшение', 'платёж', 'реструктуризация', 'банк', 'время', 'отказывает', '.', 'я', 'понимать', 'логика', 'мочь', 'оплачивать', 'минимальный', 'платёж', 'т.р', '.', 'банк', 'идти', 'уменьшение', 'платёж', 'лишь', 'увеличивать', 'размер', 'сумма', 'просрочки', '.', 'я', 'готовый', 'мой', 'просрочка', 'добавить', 'основный', 'долг', 'увеличить', 'срок', 'кредитование', 'цель', 'уменьшение', 'сумма', 'платежа', '...', 'неужели', 'получать', 'пойти', 'встреча', 'клиенту', '...', 'общаться', 'сотрудник', 'банк', 'один', 'устал', '...', 'простой', 'ждать', 'суд', 'доверить', 'дело', 'хороший', 'кредитный', 'адвокату', '.']\n",
            "sim = 0.7574\n",
            "['при', 'открытие', 'карта', 'автокопилка', 'сотрудник', 'банк', 'утверждать', 'комиссия', 'обслуживание', 'карта', 'браться', 'сумма', 'остаток', 'счёт', 'карта', 'другой', 'счёт', 'банк', 'менее', 'руб', '.', 'при', 'уточняться', 'браться', 'именно', 'сумма', 'весь', 'счёт', 'банк', 'счет', '.', 'когда', 'срок', 'один', 'вклад', 'сумма', 'руб', '.', 'закончиться', 'пополнить', 'счёт', 'вклад', 'сумма', 'руб', '.', 'цель', 'закрытие', 'данный', 'вклад', 'карта', 'комиссия', 'обслуживание', '.', 'но', 'комиссия', 'равно', 'удержали', '.', 'звонок', 'контактный', 'центр', 'положительный', 'результат', 'дал', '.', 'там', 'сотрудник', 'говорить', 'комиссия', 'удержать', 'правильно', 'важно', 'каждый', 'день', 'месяц', 'сумма', 'счёт', 'руб', '.', 'каждый', 'день', 'один', 'счёт', 'сумма', 'руб', '.', 'они', 'трактовать', 'условие', 'тариф', 'какой', 'один', 'конкретный', 'счёт', 'этот', 'сумма', 'весь', 'месяц', 'должный', 'менее', 'руб', '.', 'но', 'почему', 'сотрудник', 'банк', 'говорить', 'уточнять', 'данный', 'информацию', '?', 'получаться', 'некомпетентный', 'сознательно', 'обманывают', '.', 'очень', 'неприятно', 'оказываться', 'ситуации', '.', 'и', 'использование', 'карта', 'перевод', 'свой', 'счёт', 'банк', 'вызывать', 'опасение', '.', 'так', 'мочь', 'какой', 'либо', 'комиссия', 'списать', 'сказать', 'неправильно', 'сотрудник', 'банк', 'понял', '.', 'возможно', 'банк', 'такой', 'политика', 'консультировать', 'неправильно', 'договаривать', 'умалчивать', 'комиссия', 'искажать', 'информация', 'применение', 'постоянно', 'менять', 'тарифный', 'план', 'вводить', 'какой', 'либо', 'новый', 'комиссии', '.']\n",
            "sim = 0.7574\n",
            "['являться', 'зарплатный', 'клиентом', '.', 'я', 'понять', 'банк', 'названивать', 'сообщать', 'одобрить', 'кредит', '.', 'ну', 'понадобиться', 'прийти', 'отделение', 'следующий', 'день', 'сообщить', 'отказе', '.', 'хотя', 'пара', 'год', 'назад', 'кредит', 'одобрить', 'выплата', 'проблема', 'было', '.', 'бред', 'то', '.', 'ещё', 'замечание', 'работа', 'смс', 'оповещения', '.', 'оно', 'просто', 'работает', '.']\n",
            "sim = 0.7574\n",
            "['ради', 'справедливость', 'сказать', 'свой', 'пара', 'слов', '.', 'банк', 'тиньковы', 'нравиться', 'всем', '.', 'и', 'сервис', 'безопасность', 'технологиями', '.', 'я', 'рекомендовать', 'многим', '.', 'я', 'цб', 'рассматривать', 'депозит', 'возможность', 'пополнение', 'единый', 'депозит', 'отдельный', 'депозит', 'тело', 'пополнение', 'капитализацию', '.', 'соответственно', 'изменение', 'процентный', 'ставка', 'заключить', 'депозит', 'незаконный', 'операция', '.', 'принимать', 'решение', 'вклад', 'рассматривать', 'разный', 'вариант', 'любой', 'случай', 'предполагать', 'ставка', 'открытый', 'депозит', 'остаться', 'неизменной', '.', 'с', 'точка', 'зрение', 'восприятие', 'считать', 'банк', 'причина', 'просто', 'плюнуть', 'лицо', '.', 'я', 'мочь', 'ожидать', 'такой', 'скажем', 'рс', 'ожидать', 'тб', '.', 'в', 'настоящий', 'момент', 'жду', '.', 'в', 'любой', 'случай', 'переставать', 'рассматривать', 'банк', 'основный', 'база', 'банковский', 'операция', 'сюда', 'переполз', '.']\n",
            "sim = 0.7141\n",
            "['клиент', 'банк', 'являться', 'давно', 'зарплата', 'получать', 'банк', 'открыть', 'управляемый', 'вклады', '.', 'всё', 'устраивало', '.', 'пока', 'столкнулся', '...', 'приходить', 'смс', 'срок', 'действие', 'мой', 'карта', 'заканчиваться', 'май', 'года', '.', 'позвонить', 'колл', 'центр', 'поинтересоваться', 'тариф', 'срок', 'изготовление', 'карты', '.', 'направить', 'близкий', 'отделение', '.', 'идти', 'отделение', 'плеханов', 'челябинск', 'банк', '.', '.', '.', 'сидеть', 'очередь', 'минут', '.', 'и', 'специалист', 'освободиться', 'присесть', 'сообщить', 'необходимо', 'перевыпустить', 'карту', '.', 'сидеть', 'минута', 'специалист', 'смотреть', 'монитор', 'говорить', 'мочь', 'прийти', 'завтра', '?', 'я', 'недоумении', '.', 'вроде', 'рабочий', 'день', 'закончиться', 'еще', '.', 'я', 'спрашивать', 'причина', '?', 'она', 'ответ', 'мочь', 'вы', 'подсказать', 'картам', '.', 'хорошо', '.', 'а', 'мочь', 'крайний', 'мера', 'рассказать', 'тариф', 'дебетовый', 'карты', '?', 'опять', 'смотреть', 'монитор', '.', 'проходить', 'пара', 'минут', '.', 'отвечает', '.', 'вы', 'подойти', 'вон', 'тот', 'специалист', 'специалист', 'занятый', 'другой', 'клиентом', '...', 'делать', 'нечего', 'ушел', '.', 'позвонить', 'телефон', 'убрир', 'спрашивать', 'удалённый', 'карта', 'вы', 'перевыпустить', 'вы', 'такой', 'специалист', 'работают', '.', 'на', 'сказать', 'таки', 'вы', 'нужно', 'прийти', 'отделение', 'заполнить', 'заявление', '.', 'ладный', 'тариф', 'карта', 'подробно', 'рассказали', '.', 'прийти', 'отделение', '.', '.', '.', 'видеть', 'знакомый', 'два', 'специалист', 'идти', 'сразу', 'нужный', 'специалисту', '.', 'озвучивать', 'проблему', '.', 'озвучивать', 'стоимость', 'перевыпуск', 'карта', 'руб', '.', 'отлично', 'такой', 'дорогой', 'карта', 'нужный', 'нужный', 'обычный', 'дорогой', 'именной', 'карта', '.', 'на', 'получать', 'ответ', 'такой', 'карта', 'нет', '!', 'и', 'карта', 'руб', '.', 'сидеть', 'думать', 'такой', 'дорогой', 'карта', '.', 'надо', 'значит', 'деньга', 'старый', 'карта', 'снять', '.', 'уйти', 'сказать', 'подумаю', '.', 'решить', 'таки', 'уточнить', 'колл', 'центр', 'убрир', 'картам', '.', 'и', 'случиться', 'чудо', 'оказываться', 'карта', 'руб', '.', 'выпуск', 'именной', 'который', 'мочь', 'сразу', 'получить', 'отделении', '.', 'возвращаться', 'отделение', 'говорить', 'специалист', 'нужный', 'карта', 'который', 'стоить', 'руб', '.', 'молча', 'оформлять', 'карту', '.', 'я', 'один', 'мочь', 'понять', 'определённый', 'способ', 'развод', 'клиент', 'данный', 'отделении', '?', 'или', 'такой', 'принцип', 'работать', 'весь', 'банк', '.', 'хотя', 'колл', 'центр', 'донести', 'информацию', '.']\n",
            "sim = 0.7141\n",
            "['добрый', 'день', '!', 'уважаемый', 'оао', 'альфа', 'банк', '!', 'писать', 'вы', 'считать', 'банк', 'являться', 'самый', 'нормальный', 'часть', 'обслуживание', 'физический', 'лицо', 'предоставлять', 'спектр', 'услуга', 'рынок', 'являться', 'ранее', 'сотрудник', 'банк', 'соответственно', 'клиентом', '.', 'ранее', 'я', 'банк', 'оформить', 'кредитный', 'продукта.просрочка', 'иметься', 'корректно', 'оплачивалось', '.', 'с', 'декабрь', 'год', 'остаться', 'работа', 'сократить', 'тд', 'написать', 'собственный', 'желание', 'работать', 'др', '.', 'банк', 'соответственно', 'начаться', 'проблема', 'оплата', 'мой', 'кредитов', '.', 'но', 'стараться', 'оплачивать', 'просрочками', '.', 'всегда', 'отвечать', 'звонок', 'отвечать', 'вопрос', 'сотрудников', '.', 'примерно', 'март', 'месяц', 'мой', 'финансовый', 'положение', 'ухудшиться', 'смочь', 'оплачивать', 'сообщаться', 'возможность', 'рефинансирование', 'спросить', 'сделать', 'сказать', 'справка', 'ндфл', 'одобрить', 'единственный', 'мочь', 'посоветовать', 'занять', 'деньга', 'обратиться', 'ломбард', 'продать', 'имущество', 'воспользоваться', 'микро', 'финансовый', 'организация', 'выдача', 'заём', 'этот', 'организация', 'работа', 'заём', 'выдавать', 'пенсионер', 'закладывать', 'ломбард', 'тот', 'время', 'продавать', 'соответственно', 'тоже', '.', 'всё', 'время', 'находиться', 'активный', 'поиск', 'работа', '.', '.', 'устроиться', 'работа', 'доход', 'равно', 'позволять', 'оплачивать', 'полный', 'объеме', '.', 'я', 'сходить', 'отделение', 'банк', 'кко', 'ермак', 'республика', 'проконсультироваться', 'поступить', 'дать', 'ситуация', 'сотрудник', 'назначенавстречить', 'май', 'год', 'заполнение', 'заявка', 'рефинансирование', 'предоставление', 'документ', 'мой', 'стороны', '.', 'при', 'май', 'внести', 'денежный', 'средство', 'счёт', 'полный', 'объеме', '.', 'внести', 'полный', 'объём', 'сотрудница', 'звонить', 'озвучить', 'обязательно', 'нужно', 'подтвердить', 'платёжеспособность', 'просрочка', 'длительный', 'мой', 'анкета', 'мочь', 'передать', 'коллекторский', 'агентство', '.', 'быть', 'договорённость', 'внесение', 'каждый', 'счёт', 'денежный', 'средств', '.', 'я', 'внести', 'сегодня', '.', '.', 'сотрудник', 'озвучить', 'решение', 'передача', 'мой', 'анкета', 'май', 'год', 'агентство', 'морган', '.', 'я', 'прекрасно', 'понимать', 'категория', 'лояльный', 'клиент', 'яперейти', 'категория', 'злостный', 'плательщик', 'неоднократно', 'фиксироваться', 'обещание', 'внести', 'платежи', '.', 'понимать', 'ответственность', 'совершенный', 'я', 'действие', 'хотеть', 'портить', 'отношение', 'банк', 'закон', 'поэтому', 'обращаться', 'вам', '.', 'я', 'вы', 'очень', 'просить', 'дать', 'шанс', 'исправить', 'ситуация', 'именно', 'не', 'передавать', 'коллекторский', 'агентство', 'моюанкету', '.', 'дать', 'возможность', 'воспользоваться', 'услугойрефинансирования', '.', 'заранее', 'огромный', 'спасибо', '.']\n"
          ],
          "name": "stdout"
        }
      ]
    },
    {
      "cell_type": "markdown",
      "metadata": {
        "id": "m5Bpj4ng_-4r"
      },
      "source": [
        "Посмотрим полученный словарь модели и корпуса"
      ]
    },
    {
      "cell_type": "code",
      "metadata": {
        "id": "cNeV2JmY_4-4"
      },
      "source": [
        "w2c = dict()\n",
        "for item in model.wv.vocab:\n",
        "    w2c[item]=model.wv.vocab[item].count\n",
        "\n",
        "\n",
        "w2cSorted=dict(sorted(w2c.items(), key=lambda x: x[1],reverse=True))"
      ],
      "execution_count": 82,
      "outputs": []
    },
    {
      "cell_type": "code",
      "metadata": {
        "colab": {
          "base_uri": "https://localhost:8080/",
          "height": 355
        },
        "id": "T4jKi6xN_5FM",
        "outputId": "b5c5f5a6-3c86-430a-cc82-02c982fbbe71"
      },
      "source": [
        "vocdf[10:20]"
      ],
      "execution_count": 131,
      "outputs": [
        {
          "output_type": "execute_result",
          "data": {
            "text/html": [
              "<div>\n",
              "<style scoped>\n",
              "    .dataframe tbody tr th:only-of-type {\n",
              "        vertical-align: middle;\n",
              "    }\n",
              "\n",
              "    .dataframe tbody tr th {\n",
              "        vertical-align: top;\n",
              "    }\n",
              "\n",
              "    .dataframe thead th {\n",
              "        text-align: right;\n",
              "    }\n",
              "</style>\n",
              "<table border=\"1\" class=\"dataframe\">\n",
              "  <thead>\n",
              "    <tr style=\"text-align: right;\">\n",
              "      <th></th>\n",
              "      <th>0</th>\n",
              "      <th>word</th>\n",
              "    </tr>\n",
              "  </thead>\n",
              "  <tbody>\n",
              "    <tr>\n",
              "      <th>10</th>\n",
              "      <td>95684</td>\n",
              "      <td>день</td>\n",
              "    </tr>\n",
              "    <tr>\n",
              "      <th>11</th>\n",
              "      <td>91750</td>\n",
              "      <td>кредит</td>\n",
              "    </tr>\n",
              "    <tr>\n",
              "      <th>12</th>\n",
              "      <td>87091</td>\n",
              "      <td>сотрудник</td>\n",
              "    </tr>\n",
              "    <tr>\n",
              "      <th>13</th>\n",
              "      <td>85174</td>\n",
              "      <td>отделение</td>\n",
              "    </tr>\n",
              "    <tr>\n",
              "      <th>14</th>\n",
              "      <td>71125</td>\n",
              "      <td>клиент</td>\n",
              "    </tr>\n",
              "    <tr>\n",
              "      <th>15</th>\n",
              "      <td>70577</td>\n",
              "      <td>сказать</td>\n",
              "    </tr>\n",
              "    <tr>\n",
              "      <th>16</th>\n",
              "      <td>69709</td>\n",
              "      <td>сумма</td>\n",
              "    </tr>\n",
              "    <tr>\n",
              "      <th>17</th>\n",
              "      <td>67595</td>\n",
              "      <td>счёт</td>\n",
              "    </tr>\n",
              "    <tr>\n",
              "      <th>18</th>\n",
              "      <td>66987</td>\n",
              "      <td>заявление</td>\n",
              "    </tr>\n",
              "    <tr>\n",
              "      <th>19</th>\n",
              "      <td>65187</td>\n",
              "      <td>...</td>\n",
              "    </tr>\n",
              "  </tbody>\n",
              "</table>\n",
              "</div>"
            ],
            "text/plain": [
              "        0       word\n",
              "10  95684       день\n",
              "11  91750     кредит\n",
              "12  87091  сотрудник\n",
              "13  85174  отделение\n",
              "14  71125     клиент\n",
              "15  70577    сказать\n",
              "16  69709      сумма\n",
              "17  67595       счёт\n",
              "18  66987  заявление\n",
              "19  65187        ..."
            ]
          },
          "metadata": {
            "tags": []
          },
          "execution_count": 131
        }
      ]
    },
    {
      "cell_type": "code",
      "metadata": {
        "id": "7zlAykoueaHD"
      },
      "source": [
        "vocdf = pd.DataFrame.from_dict(w2cSorted, orient='index')\n",
        "vocdf['word'] = vocdf.index\n"
      ],
      "execution_count": 84,
      "outputs": []
    },
    {
      "cell_type": "code",
      "metadata": {
        "id": "bYRgaRXBzBRz"
      },
      "source": [
        "vocdf = vocdf.reset_index(drop=True)"
      ],
      "execution_count": 85,
      "outputs": []
    },
    {
      "cell_type": "code",
      "metadata": {
        "id": "xldExite314E"
      },
      "source": [
        "words_all = [model[text] for text in vocdf.word]"
      ],
      "execution_count": 86,
      "outputs": []
    },
    {
      "cell_type": "code",
      "metadata": {
        "id": "OFkOs1sq4I4j"
      },
      "source": [
        "words_all_df = pd.DataFrame(words_all)"
      ],
      "execution_count": 87,
      "outputs": []
    },
    {
      "cell_type": "code",
      "metadata": {
        "id": "pR8fAm8g47_2"
      },
      "source": [
        "result = pd.concat([vocdf['word'], words_all_df], axis=1)"
      ],
      "execution_count": 88,
      "outputs": []
    },
    {
      "cell_type": "code",
      "metadata": {
        "colab": {
          "base_uri": "https://localhost:8080/"
        },
        "id": "W4yTs4wDx53_",
        "outputId": "35b4aa36-56f0-46f2-83f9-9840207d2d04"
      },
      "source": [
        "len(corpus2)"
      ],
      "execution_count": 89,
      "outputs": [
        {
          "output_type": "execute_result",
          "data": {
            "text/plain": [
              "100000"
            ]
          },
          "metadata": {
            "tags": []
          },
          "execution_count": 89
        }
      ]
    },
    {
      "cell_type": "markdown",
      "metadata": {
        "id": "Hq_mTVM9iIGL"
      },
      "source": [
        "\n",
        "\n",
        "Постройте несколько визуализаций:\n",
        "\n",
        "  - TSNE для топ-100 (или топ-500) слов и найдите осмысленные кластеры слов\n",
        "  - задайте координаты для нового пространства следующим образом: одна ось описывает отношение \"плохо – хорошо\", вторая – \"медленно – быстро\" и найдите координаты названий банков в этих координатах. Более формально: берем вектор слова \"хорошо\", вычитаем из него вектор слова \"плохо\", получаем новый вектор, который описывает разницу между хорошими и плохими словами. Берем вектор слова \"сбербанк\" и умножаем его на этот новый вектор – получаем координату по первой оси. Аналогично – для второй оси. Две координаты уже можно нарисовать на плоскости."
      ]
    },
    {
      "cell_type": "code",
      "metadata": {
        "id": "nXcgzVjvv_tl"
      },
      "source": [
        "from sklearn.decomposition import IncrementalPCA    # inital reduction\n",
        "from sklearn.manifold import TSNE                   # final reduction\n",
        "import numpy as np                                  # array handling\n",
        "\n",
        "\n",
        "def reduce_dimensions(n):\n",
        "    num_dimensions = 3  # final num dimensions (2D, 3D, etc)\n",
        "\n",
        "    # extract the words & their vectors, as numpy arrays\n",
        "    vectors = np.asarray(words_all_df[:n])\n",
        "    labels = np.asarray(vocdf[:n])  # fixed-width numpy strings\n",
        "\n",
        "    # reduce using t-SNE\n",
        "    tsne = TSNE(n_components=num_dimensions, random_state=0, perplexity=6, learning_rate=0.9,  angle=0.5)\n",
        "    vectors = tsne.fit_transform(vectors)\n",
        "\n",
        "    x_vals = [v[0] for v in vectors]\n",
        "    y_vals = [v[1] for v in vectors]\n",
        "    return x_vals, y_vals, labels\n",
        "\n",
        "x_vals, y_vals, labels = reduce_dimensions(300)\n"
      ],
      "execution_count": 166,
      "outputs": []
    },
    {
      "cell_type": "code",
      "metadata": {
        "colab": {
          "base_uri": "https://localhost:8080/",
          "height": 700
        },
        "id": "mLgw8Gg5v_vc",
        "outputId": "e52e7b8f-e054-410b-e8d9-57a731a9b0c3"
      },
      "source": [
        "import matplotlib.pyplot as plt\n",
        "import random\n",
        "\n",
        "random.seed(0)\n",
        "\n",
        "plt.figure(figsize=(12, 12))\n",
        "plt.scatter(x_vals, y_vals)\n",
        "\n",
        "\n",
        "indices = list(range(len(labels)))\n",
        "selected_indices = random.sample(indices, 100)\n",
        "for i in selected_indices:\n",
        "        plt.annotate(labels[i,1], (x_vals[i], y_vals[i]))"
      ],
      "execution_count": 167,
      "outputs": [
        {
          "output_type": "display_data",
          "data": {
            "image/png": "[encoded data removed]",
            "text/plain": [
              "<Figure size 864x864 with 1 Axes>"
            ]
          },
          "metadata": {
            "tags": [],
            "needs_background": "light"
          }
        }
      ]
    },
    {
      "cell_type": "markdown",
      "metadata": {
        "id": "3nHKi_HRD6qJ"
      },
      "source": [
        "Хорошо видно внизу кластер \"**сотрудница-девушка-менеджер-специалист**\" , слева \"**разобраться-объяснить**\", справа **\"дней-неделя-месяц\"**"
      ]
    },
    {
      "cell_type": "code",
      "metadata": {
        "id": "4WQt4I8xCNJ1"
      },
      "source": [
        "def tsnescatterplot(model, word, list_names):\n",
        "    \"\"\" Plot in seaborn the results from the t-SNE dimensionality reduction algorithm of the vectors of a query word,\n",
        "    its list of most similar words, and a list of words.\n",
        "    \"\"\"\n",
        "    arrays = np.empty((0, 100), dtype='f')\n",
        "    word_labels = [word]\n",
        "    color_list  = ['red']\n",
        "\n",
        "    # adds the vector of the query word\n",
        "    arrays = np.append(arrays, model.wv.__getitem__([word]), axis=0)\n",
        "    \n",
        "    # gets list of most similar words\n",
        "    close_words = model.wv.most_similar([word])\n",
        "    \n",
        "    # adds the vector for each of the closest words to the array\n",
        "    for wrd_score in close_words:\n",
        "        wrd_vector = model.wv.__getitem__([wrd_score[0]])\n",
        "        word_labels.append(wrd_score[0])\n",
        "        color_list.append('blue')\n",
        "        arrays = np.append(arrays, wrd_vector, axis=0)\n",
        "    \n",
        "    # adds the vector for each of the words from list_names to the array\n",
        "    for wrd in list_names:\n",
        "        wrd_vector = model.wv.__getitem__([wrd])\n",
        "        word_labels.append(wrd)\n",
        "        color_list.append('green')\n",
        "        arrays = np.append(arrays, wrd_vector, axis=0)\n",
        "        \n",
        "    # Reduces the dimensionality from 300 to 50 dimensions with PCA\n",
        "    reduc = PCA(n_components=10).fit_transform(arrays)\n",
        "    \n",
        "    # Finds t-SNE coordinates for 2 dimensions\n",
        "    np.set_printoptions(suppress=True)\n",
        "    \n",
        "    Y = TSNE(n_components=2, random_state=0, perplexity=15).fit_transform(reduc)\n",
        "    \n",
        "    # Sets everything up to plot\n",
        "    df = pd.DataFrame({'x': [x for x in Y[:, 0]],\n",
        "                       'y': [y for y in Y[:, 1]],\n",
        "                       'words': word_labels,\n",
        "                       'color': color_list})\n",
        "    \n",
        "    fig, _ = plt.subplots()\n",
        "    fig.set_size_inches(9, 9)\n",
        "    \n",
        "    # Basic plot\n",
        "    p1 = sns.regplot(data=df,\n",
        "                     x=\"x\",\n",
        "                     y=\"y\",\n",
        "                     fit_reg=False,\n",
        "                     marker=\"o\",\n",
        "                     scatter_kws={'s': 40,\n",
        "                                  'facecolors': df['color']\n",
        "                                 }\n",
        "                    )\n",
        "    \n",
        "    # Adds annotations one by one with a loop\n",
        "    for line in range(0, df.shape[0]):\n",
        "         p1.text(df[\"x\"][line],\n",
        "                 df['y'][line],\n",
        "                 '  ' + df[\"words\"][line].title(),\n",
        "                 horizontalalignment='left',\n",
        "                 verticalalignment='bottom', size='medium',\n",
        "                 color=df['color'][line],\n",
        "                 weight='normal'\n",
        "                ).set_size(15)\n",
        "\n",
        "    \n",
        "    plt.xlim(Y[:, 0].min()-50, Y[:, 0].max()+50)\n",
        "    plt.ylim(Y[:, 1].min()-50, Y[:, 1].max()+50)\n",
        "            \n",
        "    plt.title('t-SNE visualization for {}'.format(word.title()))"
      ],
      "execution_count": 92,
      "outputs": []
    },
    {
      "cell_type": "code",
      "metadata": {
        "colab": {
          "base_uri": "https://localhost:8080/",
          "height": 567
        },
        "id": "TyfKiOxUC6lI",
        "outputId": "4b40f92b-6201-4125-d0ec-1d936a0f42b3"
      },
      "source": [
        "tsnescatterplot(model, 'заем', ['счастье', 'деньги', 'отдых', 'выходной', 'дети', 'семья', 'карта', 'добрый'])"
      ],
      "execution_count": 163,
      "outputs": [
        {
          "output_type": "display_data",
          "data": {
            "image/png": "[encoded data removed]",
            "text/plain": [
              "<Figure size 648x648 with 1 Axes>"
            ]
          },
          "metadata": {
            "tags": [],
            "needs_background": "light"
          }
        }
      ]
    },
    {
      "cell_type": "code",
      "metadata": {
        "colab": {
          "base_uri": "https://localhost:8080/",
          "height": 567
        },
        "id": "ms_21YstCNP7",
        "outputId": "1b83cf6d-682d-4151-8340-7a6aea8500f3"
      },
      "source": [
        "tsnescatterplot(model, 'деньги', ['кредит', 'банк', 'сотрудник', 'взять', 'день', 'я', 'карта', 'добрый'])"
      ],
      "execution_count": 93,
      "outputs": [
        {
          "output_type": "display_data",
          "data": {
            "image/png": "[encoded data removed]",
            "text/plain": [
              "<Figure size 648x648 with 1 Axes>"
            ]
          },
          "metadata": {
            "tags": [],
            "needs_background": "light"
          }
        }
      ]
    },
    {
      "cell_type": "markdown",
      "metadata": {
        "id": "JT6LmHa9DRzC"
      },
      "source": [
        "На картинке выше модель подобрала 10 наиболее **близких** слов (синий цвет) к заданному (красный цвет) и для сравнения уровня близости показываем нашу подборку слов (зеленый цвет).\n",
        "\n",
        "Здесь зеленым выведены слова наиболее **отдаленные** от выбранного (красным), а синим близкие:"
      ]
    },
    {
      "cell_type": "code",
      "metadata": {
        "colab": {
          "base_uri": "https://localhost:8080/",
          "height": 567
        },
        "id": "t_1w9QqSCNU3",
        "outputId": "7ad8165b-5c68-4388-e534-cc1d1d1e2797"
      },
      "source": [
        "tsnescatterplot(model, 'сбербанк', [i[0] for i in model.wv.most_similar(negative=[\"сбербанк\"])])"
      ],
      "execution_count": 94,
      "outputs": [
        {
          "output_type": "display_data",
          "data": {
            "image/png": "[encoded data removed]",
            "text/plain": [
              "<Figure size 648x648 with 1 Axes>"
            ]
          },
          "metadata": {
            "tags": [],
            "needs_background": "light"
          }
        }
      ]
    },
    {
      "cell_type": "code",
      "metadata": {
        "id": "fjNYXV50J7_R",
        "colab": {
          "base_uri": "https://localhost:8080/",
          "height": 466
        },
        "outputId": "e077fd7c-240c-49a7-abd9-78da9e014c0b"
      },
      "source": [
        "result = result.set_index('word')\n",
        "result"
      ],
      "execution_count": 95,
      "outputs": [
        {
          "output_type": "execute_result",
          "data": {
            "text/html": [
              "<div>\n",
              "<style scoped>\n",
              "    .dataframe tbody tr th:only-of-type {\n",
              "        vertical-align: middle;\n",
              "    }\n",
              "\n",
              "    .dataframe tbody tr th {\n",
              "        vertical-align: top;\n",
              "    }\n",
              "\n",
              "    .dataframe thead th {\n",
              "        text-align: right;\n",
              "    }\n",
              "</style>\n",
              "<table border=\"1\" class=\"dataframe\">\n",
              "  <thead>\n",
              "    <tr style=\"text-align: right;\">\n",
              "      <th></th>\n",
              "      <th>0</th>\n",
              "      <th>1</th>\n",
              "      <th>2</th>\n",
              "      <th>3</th>\n",
              "      <th>4</th>\n",
              "      <th>5</th>\n",
              "      <th>6</th>\n",
              "      <th>7</th>\n",
              "      <th>8</th>\n",
              "      <th>9</th>\n",
              "      <th>10</th>\n",
              "      <th>11</th>\n",
              "      <th>12</th>\n",
              "      <th>13</th>\n",
              "      <th>14</th>\n",
              "      <th>15</th>\n",
              "      <th>16</th>\n",
              "      <th>17</th>\n",
              "      <th>18</th>\n",
              "      <th>19</th>\n",
              "      <th>20</th>\n",
              "      <th>21</th>\n",
              "      <th>22</th>\n",
              "      <th>23</th>\n",
              "      <th>24</th>\n",
              "      <th>25</th>\n",
              "      <th>26</th>\n",
              "      <th>27</th>\n",
              "      <th>28</th>\n",
              "      <th>29</th>\n",
              "      <th>30</th>\n",
              "      <th>31</th>\n",
              "      <th>32</th>\n",
              "      <th>33</th>\n",
              "      <th>34</th>\n",
              "      <th>35</th>\n",
              "      <th>36</th>\n",
              "      <th>37</th>\n",
              "      <th>38</th>\n",
              "      <th>39</th>\n",
              "      <th>...</th>\n",
              "      <th>60</th>\n",
              "      <th>61</th>\n",
              "      <th>62</th>\n",
              "      <th>63</th>\n",
              "      <th>64</th>\n",
              "      <th>65</th>\n",
              "      <th>66</th>\n",
              "      <th>67</th>\n",
              "      <th>68</th>\n",
              "      <th>69</th>\n",
              "      <th>70</th>\n",
              "      <th>71</th>\n",
              "      <th>72</th>\n",
              "      <th>73</th>\n",
              "      <th>74</th>\n",
              "      <th>75</th>\n",
              "      <th>76</th>\n",
              "      <th>77</th>\n",
              "      <th>78</th>\n",
              "      <th>79</th>\n",
              "      <th>80</th>\n",
              "      <th>81</th>\n",
              "      <th>82</th>\n",
              "      <th>83</th>\n",
              "      <th>84</th>\n",
              "      <th>85</th>\n",
              "      <th>86</th>\n",
              "      <th>87</th>\n",
              "      <th>88</th>\n",
              "      <th>89</th>\n",
              "      <th>90</th>\n",
              "      <th>91</th>\n",
              "      <th>92</th>\n",
              "      <th>93</th>\n",
              "      <th>94</th>\n",
              "      <th>95</th>\n",
              "      <th>96</th>\n",
              "      <th>97</th>\n",
              "      <th>98</th>\n",
              "      <th>99</th>\n",
              "    </tr>\n",
              "    <tr>\n",
              "      <th>word</th>\n",
              "      <th></th>\n",
              "      <th></th>\n",
              "      <th></th>\n",
              "      <th></th>\n",
              "      <th></th>\n",
              "      <th></th>\n",
              "      <th></th>\n",
              "      <th></th>\n",
              "      <th></th>\n",
              "      <th></th>\n",
              "      <th></th>\n",
              "      <th></th>\n",
              "      <th></th>\n",
              "      <th></th>\n",
              "      <th></th>\n",
              "      <th></th>\n",
              "      <th></th>\n",
              "      <th></th>\n",
              "      <th></th>\n",
              "      <th></th>\n",
              "      <th></th>\n",
              "      <th></th>\n",
              "      <th></th>\n",
              "      <th></th>\n",
              "      <th></th>\n",
              "      <th></th>\n",
              "      <th></th>\n",
              "      <th></th>\n",
              "      <th></th>\n",
              "      <th></th>\n",
              "      <th></th>\n",
              "      <th></th>\n",
              "      <th></th>\n",
              "      <th></th>\n",
              "      <th></th>\n",
              "      <th></th>\n",
              "      <th></th>\n",
              "      <th></th>\n",
              "      <th></th>\n",
              "      <th></th>\n",
              "      <th></th>\n",
              "      <th></th>\n",
              "      <th></th>\n",
              "      <th></th>\n",
              "      <th></th>\n",
              "      <th></th>\n",
              "      <th></th>\n",
              "      <th></th>\n",
              "      <th></th>\n",
              "      <th></th>\n",
              "      <th></th>\n",
              "      <th></th>\n",
              "      <th></th>\n",
              "      <th></th>\n",
              "      <th></th>\n",
              "      <th></th>\n",
              "      <th></th>\n",
              "      <th></th>\n",
              "      <th></th>\n",
              "      <th></th>\n",
              "      <th></th>\n",
              "      <th></th>\n",
              "      <th></th>\n",
              "      <th></th>\n",
              "      <th></th>\n",
              "      <th></th>\n",
              "      <th></th>\n",
              "      <th></th>\n",
              "      <th></th>\n",
              "      <th></th>\n",
              "      <th></th>\n",
              "      <th></th>\n",
              "      <th></th>\n",
              "      <th></th>\n",
              "      <th></th>\n",
              "      <th></th>\n",
              "      <th></th>\n",
              "      <th></th>\n",
              "      <th></th>\n",
              "      <th></th>\n",
              "      <th></th>\n",
              "    </tr>\n",
              "  </thead>\n",
              "  <tbody>\n",
              "    <tr>\n",
              "      <th>.</th>\n",
              "      <td>0.146588</td>\n",
              "      <td>-0.072885</td>\n",
              "      <td>-0.012787</td>\n",
              "      <td>-0.069309</td>\n",
              "      <td>0.007689</td>\n",
              "      <td>-0.068595</td>\n",
              "      <td>0.058654</td>\n",
              "      <td>-0.110600</td>\n",
              "      <td>0.095369</td>\n",
              "      <td>-0.097948</td>\n",
              "      <td>0.070809</td>\n",
              "      <td>0.028021</td>\n",
              "      <td>0.127409</td>\n",
              "      <td>-0.051145</td>\n",
              "      <td>0.099135</td>\n",
              "      <td>0.078114</td>\n",
              "      <td>-0.004043</td>\n",
              "      <td>-0.219593</td>\n",
              "      <td>0.045580</td>\n",
              "      <td>-0.066946</td>\n",
              "      <td>0.063469</td>\n",
              "      <td>-0.121290</td>\n",
              "      <td>0.136537</td>\n",
              "      <td>-0.056336</td>\n",
              "      <td>-0.087450</td>\n",
              "      <td>-0.030101</td>\n",
              "      <td>-0.043464</td>\n",
              "      <td>0.006469</td>\n",
              "      <td>0.111733</td>\n",
              "      <td>-0.027525</td>\n",
              "      <td>-0.161516</td>\n",
              "      <td>-0.025128</td>\n",
              "      <td>-0.140279</td>\n",
              "      <td>-0.018173</td>\n",
              "      <td>0.097011</td>\n",
              "      <td>-0.140563</td>\n",
              "      <td>0.050694</td>\n",
              "      <td>0.059228</td>\n",
              "      <td>0.017297</td>\n",
              "      <td>0.074351</td>\n",
              "      <td>...</td>\n",
              "      <td>-0.260779</td>\n",
              "      <td>-0.137912</td>\n",
              "      <td>0.068988</td>\n",
              "      <td>0.108588</td>\n",
              "      <td>-0.166903</td>\n",
              "      <td>0.224077</td>\n",
              "      <td>-0.167496</td>\n",
              "      <td>-0.014894</td>\n",
              "      <td>-0.224167</td>\n",
              "      <td>-0.109443</td>\n",
              "      <td>-0.110975</td>\n",
              "      <td>-0.005622</td>\n",
              "      <td>-0.106189</td>\n",
              "      <td>-0.120131</td>\n",
              "      <td>0.183558</td>\n",
              "      <td>-0.079896</td>\n",
              "      <td>0.017143</td>\n",
              "      <td>-0.024433</td>\n",
              "      <td>0.056322</td>\n",
              "      <td>-0.076144</td>\n",
              "      <td>-0.063037</td>\n",
              "      <td>-0.012135</td>\n",
              "      <td>0.076756</td>\n",
              "      <td>0.073079</td>\n",
              "      <td>-0.022070</td>\n",
              "      <td>0.082707</td>\n",
              "      <td>-0.084587</td>\n",
              "      <td>-0.044789</td>\n",
              "      <td>0.078664</td>\n",
              "      <td>0.062148</td>\n",
              "      <td>0.038050</td>\n",
              "      <td>-0.037210</td>\n",
              "      <td>0.039464</td>\n",
              "      <td>-0.056785</td>\n",
              "      <td>0.021764</td>\n",
              "      <td>-0.048579</td>\n",
              "      <td>0.026215</td>\n",
              "      <td>-0.078571</td>\n",
              "      <td>0.025745</td>\n",
              "      <td>0.027773</td>\n",
              "    </tr>\n",
              "    <tr>\n",
              "      <th>банк</th>\n",
              "      <td>-0.055658</td>\n",
              "      <td>0.185689</td>\n",
              "      <td>-0.005111</td>\n",
              "      <td>0.065515</td>\n",
              "      <td>0.049189</td>\n",
              "      <td>-0.017405</td>\n",
              "      <td>0.059149</td>\n",
              "      <td>-0.193651</td>\n",
              "      <td>0.015410</td>\n",
              "      <td>-0.032104</td>\n",
              "      <td>-0.143600</td>\n",
              "      <td>0.256856</td>\n",
              "      <td>-0.053310</td>\n",
              "      <td>0.090864</td>\n",
              "      <td>-0.017329</td>\n",
              "      <td>-0.086721</td>\n",
              "      <td>0.087401</td>\n",
              "      <td>-0.140041</td>\n",
              "      <td>0.043217</td>\n",
              "      <td>0.096971</td>\n",
              "      <td>0.147788</td>\n",
              "      <td>-0.034350</td>\n",
              "      <td>0.002973</td>\n",
              "      <td>-0.072182</td>\n",
              "      <td>-0.297146</td>\n",
              "      <td>0.135104</td>\n",
              "      <td>0.104876</td>\n",
              "      <td>-0.116527</td>\n",
              "      <td>-0.125100</td>\n",
              "      <td>0.166082</td>\n",
              "      <td>0.044175</td>\n",
              "      <td>0.091179</td>\n",
              "      <td>0.094903</td>\n",
              "      <td>0.052939</td>\n",
              "      <td>-0.087983</td>\n",
              "      <td>0.034082</td>\n",
              "      <td>0.056801</td>\n",
              "      <td>-0.104434</td>\n",
              "      <td>0.145419</td>\n",
              "      <td>-0.083905</td>\n",
              "      <td>...</td>\n",
              "      <td>-0.145335</td>\n",
              "      <td>-0.075928</td>\n",
              "      <td>0.050831</td>\n",
              "      <td>-0.011091</td>\n",
              "      <td>-0.000943</td>\n",
              "      <td>-0.103102</td>\n",
              "      <td>0.075584</td>\n",
              "      <td>0.059692</td>\n",
              "      <td>-0.023784</td>\n",
              "      <td>0.022794</td>\n",
              "      <td>-0.109131</td>\n",
              "      <td>-0.134161</td>\n",
              "      <td>0.033041</td>\n",
              "      <td>-0.012221</td>\n",
              "      <td>0.139010</td>\n",
              "      <td>-0.100179</td>\n",
              "      <td>0.152910</td>\n",
              "      <td>-0.046825</td>\n",
              "      <td>-0.005352</td>\n",
              "      <td>-0.011775</td>\n",
              "      <td>-0.106126</td>\n",
              "      <td>0.039960</td>\n",
              "      <td>0.109166</td>\n",
              "      <td>-0.149699</td>\n",
              "      <td>0.011426</td>\n",
              "      <td>-0.020095</td>\n",
              "      <td>0.107998</td>\n",
              "      <td>-0.104461</td>\n",
              "      <td>0.029549</td>\n",
              "      <td>0.031654</td>\n",
              "      <td>-0.036511</td>\n",
              "      <td>0.010156</td>\n",
              "      <td>-0.094499</td>\n",
              "      <td>0.066775</td>\n",
              "      <td>-0.170173</td>\n",
              "      <td>0.202370</td>\n",
              "      <td>0.083309</td>\n",
              "      <td>0.160987</td>\n",
              "      <td>0.028668</td>\n",
              "      <td>-0.047651</td>\n",
              "    </tr>\n",
              "    <tr>\n",
              "      <th>!</th>\n",
              "      <td>0.044886</td>\n",
              "      <td>-0.066071</td>\n",
              "      <td>0.131806</td>\n",
              "      <td>-0.074232</td>\n",
              "      <td>0.142548</td>\n",
              "      <td>0.042839</td>\n",
              "      <td>0.136339</td>\n",
              "      <td>-0.090141</td>\n",
              "      <td>0.090962</td>\n",
              "      <td>0.144388</td>\n",
              "      <td>0.045760</td>\n",
              "      <td>0.035962</td>\n",
              "      <td>-0.044117</td>\n",
              "      <td>-0.066768</td>\n",
              "      <td>0.091715</td>\n",
              "      <td>0.229243</td>\n",
              "      <td>-0.063636</td>\n",
              "      <td>-0.180251</td>\n",
              "      <td>-0.002385</td>\n",
              "      <td>0.013998</td>\n",
              "      <td>-0.037700</td>\n",
              "      <td>-0.031225</td>\n",
              "      <td>0.055930</td>\n",
              "      <td>0.030447</td>\n",
              "      <td>-0.070881</td>\n",
              "      <td>-0.087135</td>\n",
              "      <td>-0.005530</td>\n",
              "      <td>-0.079528</td>\n",
              "      <td>-0.068810</td>\n",
              "      <td>0.045877</td>\n",
              "      <td>-0.180821</td>\n",
              "      <td>0.011905</td>\n",
              "      <td>-0.024716</td>\n",
              "      <td>0.147009</td>\n",
              "      <td>-0.079447</td>\n",
              "      <td>-0.019461</td>\n",
              "      <td>-0.058637</td>\n",
              "      <td>0.043494</td>\n",
              "      <td>-0.068557</td>\n",
              "      <td>0.066587</td>\n",
              "      <td>...</td>\n",
              "      <td>-0.145606</td>\n",
              "      <td>0.029518</td>\n",
              "      <td>0.041925</td>\n",
              "      <td>-0.018074</td>\n",
              "      <td>-0.048481</td>\n",
              "      <td>0.154243</td>\n",
              "      <td>-0.015990</td>\n",
              "      <td>-0.079122</td>\n",
              "      <td>-0.186354</td>\n",
              "      <td>-0.046940</td>\n",
              "      <td>-0.005067</td>\n",
              "      <td>-0.084164</td>\n",
              "      <td>0.020724</td>\n",
              "      <td>-0.025648</td>\n",
              "      <td>0.019193</td>\n",
              "      <td>-0.152414</td>\n",
              "      <td>-0.047702</td>\n",
              "      <td>0.034595</td>\n",
              "      <td>-0.123320</td>\n",
              "      <td>-0.021602</td>\n",
              "      <td>0.004380</td>\n",
              "      <td>0.151589</td>\n",
              "      <td>0.070678</td>\n",
              "      <td>0.108479</td>\n",
              "      <td>-0.260573</td>\n",
              "      <td>-0.120272</td>\n",
              "      <td>0.014621</td>\n",
              "      <td>-0.044468</td>\n",
              "      <td>-0.074518</td>\n",
              "      <td>0.124348</td>\n",
              "      <td>-0.010284</td>\n",
              "      <td>0.069950</td>\n",
              "      <td>0.064253</td>\n",
              "      <td>-0.042752</td>\n",
              "      <td>0.105859</td>\n",
              "      <td>-0.137802</td>\n",
              "      <td>0.028831</td>\n",
              "      <td>0.081194</td>\n",
              "      <td>-0.064037</td>\n",
              "      <td>0.027222</td>\n",
              "    </tr>\n",
              "    <tr>\n",
              "      <th>карта</th>\n",
              "      <td>-0.159630</td>\n",
              "      <td>-0.008255</td>\n",
              "      <td>-0.112533</td>\n",
              "      <td>0.044126</td>\n",
              "      <td>-0.100482</td>\n",
              "      <td>0.043030</td>\n",
              "      <td>0.146449</td>\n",
              "      <td>-0.221877</td>\n",
              "      <td>-0.137862</td>\n",
              "      <td>-0.243143</td>\n",
              "      <td>0.023720</td>\n",
              "      <td>-0.022136</td>\n",
              "      <td>0.029237</td>\n",
              "      <td>-0.086745</td>\n",
              "      <td>-0.157222</td>\n",
              "      <td>-0.059171</td>\n",
              "      <td>-0.049085</td>\n",
              "      <td>0.028522</td>\n",
              "      <td>0.004704</td>\n",
              "      <td>-0.129063</td>\n",
              "      <td>0.007182</td>\n",
              "      <td>0.151872</td>\n",
              "      <td>0.232324</td>\n",
              "      <td>0.082689</td>\n",
              "      <td>-0.070905</td>\n",
              "      <td>0.005186</td>\n",
              "      <td>0.151652</td>\n",
              "      <td>-0.023559</td>\n",
              "      <td>0.108400</td>\n",
              "      <td>-0.089836</td>\n",
              "      <td>-0.128430</td>\n",
              "      <td>0.198635</td>\n",
              "      <td>0.029184</td>\n",
              "      <td>-0.215834</td>\n",
              "      <td>-0.135186</td>\n",
              "      <td>-0.003183</td>\n",
              "      <td>0.002446</td>\n",
              "      <td>0.016381</td>\n",
              "      <td>-0.019279</td>\n",
              "      <td>-0.048036</td>\n",
              "      <td>...</td>\n",
              "      <td>0.042968</td>\n",
              "      <td>-0.006216</td>\n",
              "      <td>-0.106699</td>\n",
              "      <td>0.209241</td>\n",
              "      <td>0.041806</td>\n",
              "      <td>-0.011062</td>\n",
              "      <td>-0.071111</td>\n",
              "      <td>0.166229</td>\n",
              "      <td>-0.055471</td>\n",
              "      <td>-0.007912</td>\n",
              "      <td>-0.111377</td>\n",
              "      <td>0.065664</td>\n",
              "      <td>-0.036182</td>\n",
              "      <td>0.059734</td>\n",
              "      <td>-0.114115</td>\n",
              "      <td>-0.084849</td>\n",
              "      <td>-0.080323</td>\n",
              "      <td>-0.075758</td>\n",
              "      <td>0.097908</td>\n",
              "      <td>-0.067439</td>\n",
              "      <td>0.020113</td>\n",
              "      <td>0.026156</td>\n",
              "      <td>0.081094</td>\n",
              "      <td>0.140001</td>\n",
              "      <td>0.150179</td>\n",
              "      <td>-0.040378</td>\n",
              "      <td>-0.051712</td>\n",
              "      <td>0.028795</td>\n",
              "      <td>-0.028548</td>\n",
              "      <td>0.101190</td>\n",
              "      <td>-0.077787</td>\n",
              "      <td>-0.066181</td>\n",
              "      <td>0.003211</td>\n",
              "      <td>-0.137477</td>\n",
              "      <td>0.067828</td>\n",
              "      <td>0.073554</td>\n",
              "      <td>-0.130044</td>\n",
              "      <td>0.001809</td>\n",
              "      <td>0.002102</td>\n",
              "      <td>0.127274</td>\n",
              "    </tr>\n",
              "    <tr>\n",
              "      <th>?</th>\n",
              "      <td>-0.058839</td>\n",
              "      <td>-0.047917</td>\n",
              "      <td>0.015478</td>\n",
              "      <td>-0.021128</td>\n",
              "      <td>0.141657</td>\n",
              "      <td>0.053596</td>\n",
              "      <td>0.211287</td>\n",
              "      <td>0.031188</td>\n",
              "      <td>0.054986</td>\n",
              "      <td>-0.122224</td>\n",
              "      <td>0.195326</td>\n",
              "      <td>0.010462</td>\n",
              "      <td>0.055777</td>\n",
              "      <td>-0.007521</td>\n",
              "      <td>0.155394</td>\n",
              "      <td>0.166441</td>\n",
              "      <td>-0.133137</td>\n",
              "      <td>-0.144280</td>\n",
              "      <td>-0.023639</td>\n",
              "      <td>0.041163</td>\n",
              "      <td>0.062885</td>\n",
              "      <td>-0.030279</td>\n",
              "      <td>0.102106</td>\n",
              "      <td>-0.111304</td>\n",
              "      <td>-0.061570</td>\n",
              "      <td>-0.065212</td>\n",
              "      <td>0.083129</td>\n",
              "      <td>-0.134321</td>\n",
              "      <td>-0.150609</td>\n",
              "      <td>0.037829</td>\n",
              "      <td>-0.256839</td>\n",
              "      <td>-0.100558</td>\n",
              "      <td>-0.040557</td>\n",
              "      <td>0.169352</td>\n",
              "      <td>-0.140417</td>\n",
              "      <td>-0.007312</td>\n",
              "      <td>-0.065121</td>\n",
              "      <td>0.069750</td>\n",
              "      <td>0.006792</td>\n",
              "      <td>0.025386</td>\n",
              "      <td>...</td>\n",
              "      <td>-0.129820</td>\n",
              "      <td>-0.035991</td>\n",
              "      <td>0.114686</td>\n",
              "      <td>0.012226</td>\n",
              "      <td>0.065723</td>\n",
              "      <td>0.010254</td>\n",
              "      <td>-0.090930</td>\n",
              "      <td>-0.112310</td>\n",
              "      <td>-0.142905</td>\n",
              "      <td>0.059005</td>\n",
              "      <td>0.098959</td>\n",
              "      <td>-0.017258</td>\n",
              "      <td>0.014226</td>\n",
              "      <td>-0.028033</td>\n",
              "      <td>-0.095503</td>\n",
              "      <td>-0.147900</td>\n",
              "      <td>0.098268</td>\n",
              "      <td>0.063118</td>\n",
              "      <td>-0.029688</td>\n",
              "      <td>0.005511</td>\n",
              "      <td>-0.010909</td>\n",
              "      <td>0.128906</td>\n",
              "      <td>-0.038855</td>\n",
              "      <td>-0.021707</td>\n",
              "      <td>-0.303878</td>\n",
              "      <td>-0.067451</td>\n",
              "      <td>-0.025630</td>\n",
              "      <td>0.000060</td>\n",
              "      <td>-0.090684</td>\n",
              "      <td>0.150997</td>\n",
              "      <td>-0.053453</td>\n",
              "      <td>0.097891</td>\n",
              "      <td>0.146935</td>\n",
              "      <td>-0.032636</td>\n",
              "      <td>0.229173</td>\n",
              "      <td>-0.121901</td>\n",
              "      <td>0.086259</td>\n",
              "      <td>0.029156</td>\n",
              "      <td>-0.059132</td>\n",
              "      <td>-0.026797</td>\n",
              "    </tr>\n",
              "    <tr>\n",
              "      <th>...</th>\n",
              "      <td>...</td>\n",
              "      <td>...</td>\n",
              "      <td>...</td>\n",
              "      <td>...</td>\n",
              "      <td>...</td>\n",
              "      <td>...</td>\n",
              "      <td>...</td>\n",
              "      <td>...</td>\n",
              "      <td>...</td>\n",
              "      <td>...</td>\n",
              "      <td>...</td>\n",
              "      <td>...</td>\n",
              "      <td>...</td>\n",
              "      <td>...</td>\n",
              "      <td>...</td>\n",
              "      <td>...</td>\n",
              "      <td>...</td>\n",
              "      <td>...</td>\n",
              "      <td>...</td>\n",
              "      <td>...</td>\n",
              "      <td>...</td>\n",
              "      <td>...</td>\n",
              "      <td>...</td>\n",
              "      <td>...</td>\n",
              "      <td>...</td>\n",
              "      <td>...</td>\n",
              "      <td>...</td>\n",
              "      <td>...</td>\n",
              "      <td>...</td>\n",
              "      <td>...</td>\n",
              "      <td>...</td>\n",
              "      <td>...</td>\n",
              "      <td>...</td>\n",
              "      <td>...</td>\n",
              "      <td>...</td>\n",
              "      <td>...</td>\n",
              "      <td>...</td>\n",
              "      <td>...</td>\n",
              "      <td>...</td>\n",
              "      <td>...</td>\n",
              "      <td>...</td>\n",
              "      <td>...</td>\n",
              "      <td>...</td>\n",
              "      <td>...</td>\n",
              "      <td>...</td>\n",
              "      <td>...</td>\n",
              "      <td>...</td>\n",
              "      <td>...</td>\n",
              "      <td>...</td>\n",
              "      <td>...</td>\n",
              "      <td>...</td>\n",
              "      <td>...</td>\n",
              "      <td>...</td>\n",
              "      <td>...</td>\n",
              "      <td>...</td>\n",
              "      <td>...</td>\n",
              "      <td>...</td>\n",
              "      <td>...</td>\n",
              "      <td>...</td>\n",
              "      <td>...</td>\n",
              "      <td>...</td>\n",
              "      <td>...</td>\n",
              "      <td>...</td>\n",
              "      <td>...</td>\n",
              "      <td>...</td>\n",
              "      <td>...</td>\n",
              "      <td>...</td>\n",
              "      <td>...</td>\n",
              "      <td>...</td>\n",
              "      <td>...</td>\n",
              "      <td>...</td>\n",
              "      <td>...</td>\n",
              "      <td>...</td>\n",
              "      <td>...</td>\n",
              "      <td>...</td>\n",
              "      <td>...</td>\n",
              "      <td>...</td>\n",
              "      <td>...</td>\n",
              "      <td>...</td>\n",
              "      <td>...</td>\n",
              "      <td>...</td>\n",
              "    </tr>\n",
              "    <tr>\n",
              "      <th>афк</th>\n",
              "      <td>0.068739</td>\n",
              "      <td>0.018568</td>\n",
              "      <td>-0.042927</td>\n",
              "      <td>-0.055274</td>\n",
              "      <td>0.101288</td>\n",
              "      <td>-0.010456</td>\n",
              "      <td>-0.000858</td>\n",
              "      <td>-0.058536</td>\n",
              "      <td>0.031704</td>\n",
              "      <td>0.196140</td>\n",
              "      <td>0.003124</td>\n",
              "      <td>-0.159660</td>\n",
              "      <td>-0.071754</td>\n",
              "      <td>0.012534</td>\n",
              "      <td>0.125623</td>\n",
              "      <td>-0.044580</td>\n",
              "      <td>-0.037139</td>\n",
              "      <td>-0.114295</td>\n",
              "      <td>-0.056102</td>\n",
              "      <td>-0.089807</td>\n",
              "      <td>0.024029</td>\n",
              "      <td>-0.184948</td>\n",
              "      <td>0.106617</td>\n",
              "      <td>-0.048733</td>\n",
              "      <td>0.061571</td>\n",
              "      <td>0.065994</td>\n",
              "      <td>-0.069347</td>\n",
              "      <td>-0.158306</td>\n",
              "      <td>-0.177270</td>\n",
              "      <td>0.065401</td>\n",
              "      <td>0.134281</td>\n",
              "      <td>0.121934</td>\n",
              "      <td>-0.023710</td>\n",
              "      <td>0.133172</td>\n",
              "      <td>-0.062695</td>\n",
              "      <td>-0.061803</td>\n",
              "      <td>-0.061500</td>\n",
              "      <td>0.018975</td>\n",
              "      <td>0.018755</td>\n",
              "      <td>0.070056</td>\n",
              "      <td>...</td>\n",
              "      <td>0.056322</td>\n",
              "      <td>0.174710</td>\n",
              "      <td>-0.128239</td>\n",
              "      <td>0.152992</td>\n",
              "      <td>-0.077746</td>\n",
              "      <td>-0.030851</td>\n",
              "      <td>0.190016</td>\n",
              "      <td>-0.015342</td>\n",
              "      <td>0.007796</td>\n",
              "      <td>0.044688</td>\n",
              "      <td>-0.098211</td>\n",
              "      <td>-0.036965</td>\n",
              "      <td>0.150407</td>\n",
              "      <td>-0.062857</td>\n",
              "      <td>0.060147</td>\n",
              "      <td>0.016328</td>\n",
              "      <td>0.050341</td>\n",
              "      <td>-0.069748</td>\n",
              "      <td>-0.128314</td>\n",
              "      <td>0.167049</td>\n",
              "      <td>0.174258</td>\n",
              "      <td>0.083709</td>\n",
              "      <td>-0.076385</td>\n",
              "      <td>0.081976</td>\n",
              "      <td>0.123585</td>\n",
              "      <td>-0.045429</td>\n",
              "      <td>0.104770</td>\n",
              "      <td>-0.087863</td>\n",
              "      <td>-0.026963</td>\n",
              "      <td>0.038467</td>\n",
              "      <td>-0.031200</td>\n",
              "      <td>0.071705</td>\n",
              "      <td>-0.047958</td>\n",
              "      <td>0.141072</td>\n",
              "      <td>-0.262348</td>\n",
              "      <td>0.039733</td>\n",
              "      <td>-0.144538</td>\n",
              "      <td>0.198337</td>\n",
              "      <td>0.048712</td>\n",
              "      <td>-0.098086</td>\n",
              "    </tr>\n",
              "    <tr>\n",
              "      <th>люкшина</th>\n",
              "      <td>0.194852</td>\n",
              "      <td>-0.173990</td>\n",
              "      <td>0.105019</td>\n",
              "      <td>-0.161980</td>\n",
              "      <td>-0.237677</td>\n",
              "      <td>0.139822</td>\n",
              "      <td>0.046173</td>\n",
              "      <td>0.054539</td>\n",
              "      <td>0.049449</td>\n",
              "      <td>0.045063</td>\n",
              "      <td>-0.001999</td>\n",
              "      <td>0.055906</td>\n",
              "      <td>0.039453</td>\n",
              "      <td>0.094319</td>\n",
              "      <td>0.093744</td>\n",
              "      <td>-0.066665</td>\n",
              "      <td>-0.259724</td>\n",
              "      <td>0.007542</td>\n",
              "      <td>0.033319</td>\n",
              "      <td>-0.013906</td>\n",
              "      <td>-0.159240</td>\n",
              "      <td>0.054466</td>\n",
              "      <td>-0.036274</td>\n",
              "      <td>0.077006</td>\n",
              "      <td>0.114334</td>\n",
              "      <td>0.193734</td>\n",
              "      <td>0.046065</td>\n",
              "      <td>0.153350</td>\n",
              "      <td>-0.087912</td>\n",
              "      <td>0.040557</td>\n",
              "      <td>-0.069618</td>\n",
              "      <td>-0.104219</td>\n",
              "      <td>-0.070036</td>\n",
              "      <td>-0.010156</td>\n",
              "      <td>0.071942</td>\n",
              "      <td>-0.100394</td>\n",
              "      <td>-0.088954</td>\n",
              "      <td>0.038766</td>\n",
              "      <td>-0.007598</td>\n",
              "      <td>-0.036244</td>\n",
              "      <td>...</td>\n",
              "      <td>-0.003404</td>\n",
              "      <td>-0.057331</td>\n",
              "      <td>0.207902</td>\n",
              "      <td>-0.068074</td>\n",
              "      <td>-0.124318</td>\n",
              "      <td>0.026726</td>\n",
              "      <td>-0.039033</td>\n",
              "      <td>-0.087994</td>\n",
              "      <td>0.033127</td>\n",
              "      <td>0.021643</td>\n",
              "      <td>-0.057600</td>\n",
              "      <td>-0.174034</td>\n",
              "      <td>0.265938</td>\n",
              "      <td>-0.022984</td>\n",
              "      <td>-0.167202</td>\n",
              "      <td>0.044838</td>\n",
              "      <td>0.188088</td>\n",
              "      <td>-0.081208</td>\n",
              "      <td>-0.081168</td>\n",
              "      <td>-0.077225</td>\n",
              "      <td>-0.061231</td>\n",
              "      <td>0.010157</td>\n",
              "      <td>-0.081429</td>\n",
              "      <td>0.037267</td>\n",
              "      <td>-0.081569</td>\n",
              "      <td>0.039459</td>\n",
              "      <td>0.031078</td>\n",
              "      <td>-0.131394</td>\n",
              "      <td>0.133233</td>\n",
              "      <td>-0.027158</td>\n",
              "      <td>-0.086311</td>\n",
              "      <td>-0.145311</td>\n",
              "      <td>0.053357</td>\n",
              "      <td>0.126448</td>\n",
              "      <td>-0.050732</td>\n",
              "      <td>-0.217293</td>\n",
              "      <td>-0.172534</td>\n",
              "      <td>0.077996</td>\n",
              "      <td>0.001738</td>\n",
              "      <td>-0.104931</td>\n",
              "    </tr>\n",
              "    <tr>\n",
              "      <th>делгир</th>\n",
              "      <td>0.130685</td>\n",
              "      <td>-0.027187</td>\n",
              "      <td>-0.003790</td>\n",
              "      <td>-0.060197</td>\n",
              "      <td>-0.076534</td>\n",
              "      <td>0.022487</td>\n",
              "      <td>0.048437</td>\n",
              "      <td>-0.045326</td>\n",
              "      <td>-0.087186</td>\n",
              "      <td>-0.054476</td>\n",
              "      <td>0.012066</td>\n",
              "      <td>-0.127280</td>\n",
              "      <td>0.133851</td>\n",
              "      <td>-0.018224</td>\n",
              "      <td>-0.032934</td>\n",
              "      <td>-0.089939</td>\n",
              "      <td>0.008351</td>\n",
              "      <td>-0.181958</td>\n",
              "      <td>0.008651</td>\n",
              "      <td>0.005656</td>\n",
              "      <td>-0.057007</td>\n",
              "      <td>0.160589</td>\n",
              "      <td>-0.189561</td>\n",
              "      <td>0.023250</td>\n",
              "      <td>-0.066265</td>\n",
              "      <td>0.036652</td>\n",
              "      <td>0.056512</td>\n",
              "      <td>0.044503</td>\n",
              "      <td>0.038035</td>\n",
              "      <td>0.076271</td>\n",
              "      <td>-0.004870</td>\n",
              "      <td>-0.044088</td>\n",
              "      <td>0.089562</td>\n",
              "      <td>0.105572</td>\n",
              "      <td>-0.065790</td>\n",
              "      <td>-0.007118</td>\n",
              "      <td>0.040940</td>\n",
              "      <td>0.064227</td>\n",
              "      <td>-0.052891</td>\n",
              "      <td>0.046248</td>\n",
              "      <td>...</td>\n",
              "      <td>-0.163006</td>\n",
              "      <td>0.105194</td>\n",
              "      <td>0.000925</td>\n",
              "      <td>-0.008973</td>\n",
              "      <td>-0.084584</td>\n",
              "      <td>0.044883</td>\n",
              "      <td>0.001863</td>\n",
              "      <td>-0.187462</td>\n",
              "      <td>0.121503</td>\n",
              "      <td>0.070234</td>\n",
              "      <td>0.141754</td>\n",
              "      <td>-0.230142</td>\n",
              "      <td>0.141263</td>\n",
              "      <td>0.276657</td>\n",
              "      <td>-0.124728</td>\n",
              "      <td>0.211714</td>\n",
              "      <td>0.085902</td>\n",
              "      <td>-0.044327</td>\n",
              "      <td>-0.168712</td>\n",
              "      <td>-0.036690</td>\n",
              "      <td>-0.142973</td>\n",
              "      <td>-0.057573</td>\n",
              "      <td>0.080314</td>\n",
              "      <td>-0.050915</td>\n",
              "      <td>-0.047862</td>\n",
              "      <td>0.087672</td>\n",
              "      <td>0.039672</td>\n",
              "      <td>-0.096964</td>\n",
              "      <td>0.132468</td>\n",
              "      <td>-0.115171</td>\n",
              "      <td>-0.066640</td>\n",
              "      <td>0.009823</td>\n",
              "      <td>-0.156163</td>\n",
              "      <td>0.031428</td>\n",
              "      <td>0.110352</td>\n",
              "      <td>-0.196797</td>\n",
              "      <td>-0.084640</td>\n",
              "      <td>-0.007787</td>\n",
              "      <td>0.132765</td>\n",
              "      <td>-0.039061</td>\n",
              "    </tr>\n",
              "    <tr>\n",
              "      <th>зен</th>\n",
              "      <td>0.160060</td>\n",
              "      <td>-0.104173</td>\n",
              "      <td>-0.072918</td>\n",
              "      <td>0.006210</td>\n",
              "      <td>-0.049574</td>\n",
              "      <td>0.053380</td>\n",
              "      <td>-0.098382</td>\n",
              "      <td>0.169202</td>\n",
              "      <td>0.038992</td>\n",
              "      <td>0.045087</td>\n",
              "      <td>0.054845</td>\n",
              "      <td>-0.068973</td>\n",
              "      <td>0.073549</td>\n",
              "      <td>0.019447</td>\n",
              "      <td>0.023527</td>\n",
              "      <td>-0.034789</td>\n",
              "      <td>-0.091510</td>\n",
              "      <td>0.090594</td>\n",
              "      <td>-0.163885</td>\n",
              "      <td>0.101461</td>\n",
              "      <td>-0.186970</td>\n",
              "      <td>0.110991</td>\n",
              "      <td>-0.022405</td>\n",
              "      <td>-0.003948</td>\n",
              "      <td>-0.032546</td>\n",
              "      <td>0.133474</td>\n",
              "      <td>-0.077166</td>\n",
              "      <td>0.031377</td>\n",
              "      <td>-0.170614</td>\n",
              "      <td>-0.020213</td>\n",
              "      <td>0.003889</td>\n",
              "      <td>-0.094451</td>\n",
              "      <td>-0.003435</td>\n",
              "      <td>-0.075698</td>\n",
              "      <td>0.046071</td>\n",
              "      <td>-0.096811</td>\n",
              "      <td>0.083204</td>\n",
              "      <td>-0.005290</td>\n",
              "      <td>0.049484</td>\n",
              "      <td>-0.021334</td>\n",
              "      <td>...</td>\n",
              "      <td>-0.036296</td>\n",
              "      <td>-0.021477</td>\n",
              "      <td>0.047848</td>\n",
              "      <td>0.190733</td>\n",
              "      <td>0.163259</td>\n",
              "      <td>0.002960</td>\n",
              "      <td>-0.122056</td>\n",
              "      <td>-0.053404</td>\n",
              "      <td>0.128368</td>\n",
              "      <td>0.001790</td>\n",
              "      <td>0.043915</td>\n",
              "      <td>-0.101847</td>\n",
              "      <td>0.043066</td>\n",
              "      <td>0.052894</td>\n",
              "      <td>-0.016746</td>\n",
              "      <td>0.234752</td>\n",
              "      <td>0.097992</td>\n",
              "      <td>-0.082861</td>\n",
              "      <td>-0.288096</td>\n",
              "      <td>-0.071665</td>\n",
              "      <td>-0.035202</td>\n",
              "      <td>-0.012849</td>\n",
              "      <td>-0.100263</td>\n",
              "      <td>-0.024156</td>\n",
              "      <td>0.088129</td>\n",
              "      <td>0.037071</td>\n",
              "      <td>0.020821</td>\n",
              "      <td>-0.231800</td>\n",
              "      <td>-0.076993</td>\n",
              "      <td>-0.049770</td>\n",
              "      <td>0.304599</td>\n",
              "      <td>-0.090523</td>\n",
              "      <td>0.001295</td>\n",
              "      <td>0.004755</td>\n",
              "      <td>-0.057519</td>\n",
              "      <td>-0.000151</td>\n",
              "      <td>-0.136319</td>\n",
              "      <td>-0.026047</td>\n",
              "      <td>-0.030500</td>\n",
              "      <td>-0.050926</td>\n",
              "    </tr>\n",
              "    <tr>\n",
              "      <th>к.а.в</th>\n",
              "      <td>0.205534</td>\n",
              "      <td>0.145171</td>\n",
              "      <td>-0.128681</td>\n",
              "      <td>0.042014</td>\n",
              "      <td>-0.117494</td>\n",
              "      <td>0.141388</td>\n",
              "      <td>0.044289</td>\n",
              "      <td>0.158823</td>\n",
              "      <td>0.014511</td>\n",
              "      <td>0.115249</td>\n",
              "      <td>-0.029765</td>\n",
              "      <td>-0.006062</td>\n",
              "      <td>0.060190</td>\n",
              "      <td>0.126742</td>\n",
              "      <td>0.025926</td>\n",
              "      <td>-0.124068</td>\n",
              "      <td>-0.004386</td>\n",
              "      <td>-0.055924</td>\n",
              "      <td>0.237234</td>\n",
              "      <td>0.008017</td>\n",
              "      <td>0.036948</td>\n",
              "      <td>-0.102468</td>\n",
              "      <td>0.026078</td>\n",
              "      <td>-0.040926</td>\n",
              "      <td>0.094696</td>\n",
              "      <td>-0.008125</td>\n",
              "      <td>0.017941</td>\n",
              "      <td>-0.137757</td>\n",
              "      <td>-0.175006</td>\n",
              "      <td>0.157894</td>\n",
              "      <td>0.035251</td>\n",
              "      <td>-0.032987</td>\n",
              "      <td>-0.076336</td>\n",
              "      <td>-0.055901</td>\n",
              "      <td>0.122118</td>\n",
              "      <td>0.122088</td>\n",
              "      <td>0.027582</td>\n",
              "      <td>-0.126211</td>\n",
              "      <td>0.127002</td>\n",
              "      <td>0.057418</td>\n",
              "      <td>...</td>\n",
              "      <td>-0.023635</td>\n",
              "      <td>-0.031326</td>\n",
              "      <td>0.008017</td>\n",
              "      <td>-0.080078</td>\n",
              "      <td>0.016550</td>\n",
              "      <td>-0.134855</td>\n",
              "      <td>0.052404</td>\n",
              "      <td>0.061114</td>\n",
              "      <td>0.013011</td>\n",
              "      <td>-0.117623</td>\n",
              "      <td>-0.109173</td>\n",
              "      <td>0.003422</td>\n",
              "      <td>0.139983</td>\n",
              "      <td>-0.064416</td>\n",
              "      <td>0.020793</td>\n",
              "      <td>0.192531</td>\n",
              "      <td>-0.110052</td>\n",
              "      <td>0.020502</td>\n",
              "      <td>0.027203</td>\n",
              "      <td>0.027829</td>\n",
              "      <td>-0.108986</td>\n",
              "      <td>-0.134180</td>\n",
              "      <td>0.074353</td>\n",
              "      <td>0.092170</td>\n",
              "      <td>-0.010933</td>\n",
              "      <td>0.145746</td>\n",
              "      <td>0.061897</td>\n",
              "      <td>-0.199953</td>\n",
              "      <td>-0.027631</td>\n",
              "      <td>-0.029400</td>\n",
              "      <td>-0.097851</td>\n",
              "      <td>-0.036744</td>\n",
              "      <td>-0.026562</td>\n",
              "      <td>0.070417</td>\n",
              "      <td>-0.006024</td>\n",
              "      <td>-0.049079</td>\n",
              "      <td>-0.023759</td>\n",
              "      <td>0.152387</td>\n",
              "      <td>-0.004359</td>\n",
              "      <td>0.100692</td>\n",
              "    </tr>\n",
              "  </tbody>\n",
              "</table>\n",
              "<p>40311 rows × 100 columns</p>\n",
              "</div>"
            ],
            "text/plain": [
              "               0         1         2   ...        97        98        99\n",
              "word                                   ...                              \n",
              ".        0.146588 -0.072885 -0.012787  ... -0.078571  0.025745  0.027773\n",
              "банк    -0.055658  0.185689 -0.005111  ...  0.160987  0.028668 -0.047651\n",
              "!        0.044886 -0.066071  0.131806  ...  0.081194 -0.064037  0.027222\n",
              "карта   -0.159630 -0.008255 -0.112533  ...  0.001809  0.002102  0.127274\n",
              "?       -0.058839 -0.047917  0.015478  ...  0.029156 -0.059132 -0.026797\n",
              "...           ...       ...       ...  ...       ...       ...       ...\n",
              "афк      0.068739  0.018568 -0.042927  ...  0.198337  0.048712 -0.098086\n",
              "люкшина  0.194852 -0.173990  0.105019  ...  0.077996  0.001738 -0.104931\n",
              "делгир   0.130685 -0.027187 -0.003790  ... -0.007787  0.132765 -0.039061\n",
              "зен      0.160060 -0.104173 -0.072918  ... -0.026047 -0.030500 -0.050926\n",
              "к.а.в    0.205534  0.145171 -0.128681  ...  0.152387 -0.004359  0.100692\n",
              "\n",
              "[40311 rows x 100 columns]"
            ]
          },
          "metadata": {
            "tags": []
          },
          "execution_count": 95
        }
      ]
    },
    {
      "cell_type": "code",
      "metadata": {
        "id": "reI8DKQ3CNXY"
      },
      "source": [
        "def most_similar(result, word, n=5, exceptions=[]):\n",
        "    \"\"\"Return the n most similar words\"\"\"\n",
        "    return result.loc[~result.index.isin(exceptions)].dot(word).sort_values(ascending=False).head(n)\n",
        "\n",
        "def op(operation, n=1):\n",
        "    \"\"\"Compute the vector addition \"w1 - w2 + w3\" and return the n most similar words\n",
        "        equation: w1 - w2 + w3 = w4\n",
        "        analogy: (w2 is to w3) as (w1 is to w4)\n",
        "    \"\"\"\n",
        "    w1, w2, w3 = operation.split()[::2]\n",
        "    vec = result.loc[w1] - result.loc[w2] + result.loc[w3]\n",
        "   \n",
        "    topn =  most_similar(\n",
        "        result, vec, \n",
        "        exceptions=[w1, w2, w3],\n",
        "        n=n+3\n",
        "    )\n",
        "    analogy = \"%s   относится к   %s как %s   относится к    %s\" % (w2, w3, w1, \"?\")\n",
        "    top_res = [\"%s = %s (%.2f)\" % (analogy, topn.index[i], topn[i]) for i in range(n)]\n",
        "    print(\"\\n\".join(top_res))\n"
      ],
      "execution_count": 96,
      "outputs": []
    },
    {
      "cell_type": "markdown",
      "metadata": {
        "id": "CLoGfjwcHT7q"
      },
      "source": [
        "**Отношения** между словами:"
      ]
    },
    {
      "cell_type": "code",
      "metadata": {
        "colab": {
          "base_uri": "https://localhost:8080/"
        },
        "id": "j-e1hkmuMsdY",
        "outputId": "2a044b5b-0884-41e0-bfa8-8867ca1dc95b"
      },
      "source": [
        "op(\"банк - деньги + сотрудник\")\n",
        "op(\"банк - отказать + система\")\n",
        "op(\"сбербанк - быстро + деньги\")\n",
        "op(\"я - банк + деньги\")"
      ],
      "execution_count": 97,
      "outputs": [
        {
          "output_type": "stream",
          "text": [
            "деньги   относится к   сотрудник как банк   относится к    ? = специалист (0.71)\n",
            "отказать   относится к   система как банк   относится к    ? = банкинг (1.09)\n",
            "быстро   относится к   деньги как сбербанк   относится к    ? = сбербанка (1.03)\n",
            "банк   относится к   деньги как я   относится к    ? = она (0.87)\n"
          ],
          "name": "stdout"
        }
      ]
    },
    {
      "cell_type": "code",
      "metadata": {
        "colab": {
          "base_uri": "https://localhost:8080/"
        },
        "id": "R64gMlDBAYfS",
        "outputId": "c19af75a-9144-4df8-8abf-40f4ae3acd24"
      },
      "source": [
        "op(\"он - она + женщина\")\n",
        "op(\"ленивый - пенсия - бедность\")\n",
        "op(\"авто - красный + розовый\")"
      ],
      "execution_count": 160,
      "outputs": [
        {
          "output_type": "stream",
          "text": [
            "она   относится к   женщина как он   относится к    ? = мужчина (0.96)\n",
            "пенсия   относится к   бедность как ленивый   относится к    ? = пофигистичный (1.16)\n",
            "красный   относится к   розовый как авто   относится к    ? = машина (0.94)\n"
          ],
          "name": "stdout"
        }
      ]
    },
    {
      "cell_type": "markdown",
      "metadata": {
        "id": "K9hz-ZoCHEeQ"
      },
      "source": [
        "### хорошо-плохо\n",
        " - задайте координаты для нового пространства следующим образом: одна ось описывает отношение \"плохо – хорошо\", вторая – \"медленно – быстро\" и найдите координаты названий банков в этих координатах. Более формально: берем вектор слова \"хорошо\", вычитаем из него вектор слова \"плохо\", получаем новый вектор, который описывает разницу между хорошими и плохими словами. Берем вектор слова \"сбербанк\" и умножаем его на этот новый вектор – получаем координату по первой оси. Аналогично – для второй оси. Две координаты уже можно нарисовать на плоскости."
      ]
    },
    {
      "cell_type": "code",
      "metadata": {
        "id": "NUdtoRIyUhZj"
      },
      "source": [
        "def word2viz_plot(result, words, x_op, y_op, labels=None):\n",
        "\n",
        "    dfs = result.iloc[result.index.isin(words)]\n",
        "    x2, x1 = x_op.split(\" - \")\n",
        "    y2, y1 = y_op.split(\" - \")\n",
        "    x_label = \"%s --------> %s\" % (x1, x2)\n",
        "    y_label = \"%s --------> %s\" % (y1, y2)\n",
        "    \n",
        "    word_labels = dfs.index if labels is None else labels\n",
        "    #print(word_labels)\n",
        "    dfs[\"x\"] = dfs.iloc[:,:100].dot(result.loc[x2] - result.loc[x1])\n",
        "    dfs[\"y\"] = dfs.iloc[:,:100].dot(result.loc[y2] - result.loc[y1])\n",
        "\n",
        "    fig = plt.figure(figsize=(12,6))\n",
        "    ax = fig.add_subplot(1,1,1)\n",
        "\n",
        "    for i in range(len(dfs)):\n",
        "        x, y, text = dfs.iloc[i][\"x\"], dfs.iloc[i][\"y\"], word_labels[i]\n",
        "        ax.scatter(x, y, alpha=0.9, cmap='rainbow')\n",
        "        ax.text(x, y, text, alpha=0.9)\n",
        "\n",
        "    ax.set_xlabel(x_label)\n",
        "    ax.set_ylabel(y_label)\n",
        "\n",
        "    plt.show()"
      ],
      "execution_count": 98,
      "outputs": []
    },
    {
      "cell_type": "code",
      "metadata": {
        "colab": {
          "base_uri": "https://localhost:8080/",
          "height": 388
        },
        "id": "Cl8a_MPLfNmi",
        "outputId": "088b9b12-ee2e-4621-a8a1-e0280a21c98a"
      },
      "source": [
        "nd_list = [\"очередь\",\"деньги\", \"кредит\", \"кредитка\", \"заем\", \"смс\", \"обращение\", \"помощь\"]\n",
        "\n",
        "word2viz_plot(result, nd_list, \"хорошо - плохо\", \"быстро - медленно\")"
      ],
      "execution_count": 123,
      "outputs": [
        {
          "output_type": "display_data",
          "data": {
            "image/png": "[encoded data removed]",
            "text/plain": [
              "<Figure size 864x432 with 1 Axes>"
            ]
          },
          "metadata": {
            "tags": [],
            "needs_background": "light"
          }
        }
      ]
    },
    {
      "cell_type": "code",
      "metadata": {
        "colab": {
          "base_uri": "https://localhost:8080/",
          "height": 388
        },
        "id": "cKJvZ7YBUv4e",
        "outputId": "c5502c15-6a70-4c2b-e0ad-6907a89c45b5"
      },
      "source": [
        "word2viz_plot(result, [ \"сбербанк\", \"восточный\", \"втб\", \"ситибанк\", \"промсвязь\",\"райффазенбанк\",\"тинькоф\"], \"хорошо - плохо\", \"быстро - медленно\")\n"
      ],
      "execution_count": 125,
      "outputs": [
        {
          "output_type": "display_data",
          "data": {
            "image/png": "[encoded data removed]",
            "text/plain": [
              "<Figure size 864x432 with 1 Axes>"
            ]
          },
          "metadata": {
            "tags": [],
            "needs_background": "light"
          }
        }
      ]
    },
    {
      "cell_type": "markdown",
      "metadata": {
        "id": "D9WKpA6nWfAf"
      },
      "source": [
        "- тот же пример разбор вручную по шагам"
      ]
    },
    {
      "cell_type": "code",
      "metadata": {
        "colab": {
          "base_uri": "https://localhost:8080/"
        },
        "id": "L6Sh9Sx-HGPW",
        "outputId": "ea9b58ae-a1e6-4714-a61b-427fa28a80e0"
      },
      "source": [
        "v1 = result.loc[\"плохо\"]  - result.loc[\"хорошо\"]\n",
        "v2 = result.loc[\"медленно\"] - result.loc[\"быстро\"] \n",
        "v1"
      ],
      "execution_count": 197,
      "outputs": [
        {
          "output_type": "execute_result",
          "data": {
            "text/plain": [
              "0    -0.077887\n",
              "1     0.146772\n",
              "2    -0.149899\n",
              "3     0.067040\n",
              "4     0.029036\n",
              "        ...   \n",
              "95    0.012704\n",
              "96    0.050443\n",
              "97    0.050736\n",
              "98    0.025479\n",
              "99   -0.061139\n",
              "Length: 100, dtype: float64"
            ]
          },
          "metadata": {
            "tags": []
          },
          "execution_count": 197
        }
      ]
    },
    {
      "cell_type": "code",
      "metadata": {
        "id": "X8FyK6AAOlNZ"
      },
      "source": [
        "wx = result.loc[\"сбербанк\"].dot(v2)\n",
        "wy = result.loc[\"сбербанк\"].dot(v1)\n",
        "\n",
        "wx1 = result.loc[\"промсвязьбанк\"].dot(v2)\n",
        "wy1 = result.loc[\"промсвязьбанк\"].dot(v1)"
      ],
      "execution_count": 201,
      "outputs": []
    },
    {
      "cell_type": "code",
      "metadata": {
        "colab": {
          "base_uri": "https://localhost:8080/"
        },
        "id": "UejFg_QkWPCB",
        "outputId": "2e639159-1344-49d2-d300-6f7cb0ca65df"
      },
      "source": [
        "wy"
      ],
      "execution_count": 203,
      "outputs": [
        {
          "output_type": "execute_result",
          "data": {
            "text/plain": [
              "0.009894963483350483"
            ]
          },
          "metadata": {
            "tags": []
          },
          "execution_count": 203
        }
      ]
    },
    {
      "cell_type": "code",
      "metadata": {
        "colab": {
          "base_uri": "https://localhost:8080/"
        },
        "id": "N4Oaf2qIIdvJ",
        "outputId": "6fbc8c73-5fa1-4fed-b6ba-0f768581918a"
      },
      "source": [
        "wx"
      ],
      "execution_count": 204,
      "outputs": [
        {
          "output_type": "execute_result",
          "data": {
            "text/plain": [
              "-0.011340718793205529"
            ]
          },
          "metadata": {
            "tags": []
          },
          "execution_count": 204
        }
      ]
    },
    {
      "cell_type": "code",
      "metadata": {
        "colab": {
          "base_uri": "https://localhost:8080/",
          "height": 279
        },
        "id": "q7BlabZHOlh1",
        "outputId": "c19ddf67-6ce8-4156-90f3-7d118f560538"
      },
      "source": [
        "import numpy as np\n",
        "import matplotlib.pyplot as plt\n",
        "x = wx\n",
        "y = wy\n",
        "fig, ax = plt.subplots()\n",
        "ax.scatter(x, y, alpha=0.9)\n",
        "ax.text(x, y, 'сбербанк', alpha=0.9)\n",
        "ax.grid()\n",
        "x = wx1\n",
        "y = wy1\n",
        "ax.scatter(x, y, alpha=0.9)\n",
        "ax.text(x, y, 'промсвязьбанк', alpha=0.9)\n",
        "ax.set_xlabel('плохо --> хорошо')   \n",
        "ax.set_ylabel('медленно --> быстро')\n",
        "plt.show()"
      ],
      "execution_count": 202,
      "outputs": [
        {
          "output_type": "display_data",
          "data": {
            "image/png": "[encoded data removed]",
            "text/plain": [
              "<Figure size 432x288 with 1 Axes>"
            ]
          },
          "metadata": {
            "tags": [],
            "needs_background": "light"
          }
        }
      ]
    },
    {
      "cell_type": "code",
      "metadata": {
        "id": "RoVgFlApQVSH"
      },
      "source": [
        ""
      ],
      "execution_count": null,
      "outputs": []
    }
  ]
}