{
  "nbformat": 4,
  "nbformat_minor": 0,
  "metadata": {
    "kernelspec": {
      "display_name": "Python 3",
      "language": "python",
      "name": "python3"
    },
    "language_info": {
      "codemirror_mode": {
        "name": "ipython",
        "version": 3
      },
      "file_extension": ".py",
      "mimetype": "text/x-python",
      "name": "python",
      "nbconvert_exporter": "python",
      "pygments_lexer": "ipython3",
      "version": "3.7.4"
    },
    "colab": {
      "name": "LI_14_Movies_Surprise.ipynb",
      "provenance": [],
      "collapsed_sections": []
    }
  },
  "cells": [
    {
      "cell_type": "markdown",
      "metadata": {
        "id": "zMrNdx8EDw-H"
      },
      "source": [
        "# ДЗ Коллаборативная фильтрация"
      ]
    },
    {
      "cell_type": "markdown",
      "metadata": {
        "id": "526ZBYqTDw-I"
      },
      "source": [
        "ПАКЕТ SURPRISE\n",
        "\n",
        "используйте данные MovieLens 1M\n",
        "можно использовать любые модели из пакета\n",
        "получите RMSE на тестовом сете 0.87 и ниже\n",
        "\n",
        "Комментарий преподавателя :\n",
        "В ДЗ на датасет 1М может не хватить RAM. Можно сделать на 100K. Качество RMSE предлагаю считать на основе CrossValidation (5 фолдов), а не отложенном датасете."
      ]
    },
    {
      "cell_type": "code",
      "metadata": {
        "id": "kCK4Dz9WD37b",
        "outputId": "314fbe81-0daa-49d2-fb57-3116c5cb9e46",
        "colab": {
          "base_uri": "https://localhost:8080/"
        }
      },
      "source": [
        "! pip install scikit-surprise"
      ],
      "execution_count": 2,
      "outputs": [
        {
          "output_type": "stream",
          "text": [
            "Collecting scikit-surprise\n",
            "\u001b[?25l  Downloading https://files.pythonhosted.org/packages/97/37/5d334adaf5ddd65da99fc65f6507e0e4599d092ba048f4302fe8775619e8/scikit-surprise-1.1.1.tar.gz (11.8MB)\n",
            "\u001b[K     |████████████████████████████████| 11.8MB 351kB/s \n",
            "\u001b[?25hRequirement already satisfied: joblib>=0.11 in /usr/local/lib/python3.6/dist-packages (from scikit-surprise) (0.17.0)\n",
            "Requirement already satisfied: numpy>=1.11.2 in /usr/local/lib/python3.6/dist-packages (from scikit-surprise) (1.18.5)\n",
            "Requirement already satisfied: scipy>=1.0.0 in /usr/local/lib/python3.6/dist-packages (from scikit-surprise) (1.4.1)\n",
            "Requirement already satisfied: six>=1.10.0 in /usr/local/lib/python3.6/dist-packages (from scikit-surprise) (1.15.0)\n",
            "Building wheels for collected packages: scikit-surprise\n",
            "  Building wheel for scikit-surprise (setup.py) ... \u001b[?25l\u001b[?25hdone\n",
            "  Created wheel for scikit-surprise: filename=scikit_surprise-1.1.1-cp36-cp36m-linux_x86_64.whl size=1670920 sha256=46caae234372e5abd2046772f80dda084fa1117d0c6a42cecdb780d0c9f6cb68\n",
            "  Stored in directory: /root/.cache/pip/wheels/78/9c/3d/41b419c9d2aff5b6e2b4c0fc8d25c538202834058f9ed110d0\n",
            "Successfully built scikit-surprise\n",
            "Installing collected packages: scikit-surprise\n",
            "Successfully installed scikit-surprise-1.1.1\n"
          ],
          "name": "stdout"
        }
      ]
    },
    {
      "cell_type": "code",
      "metadata": {
        "id": "C0C66VLuDw-J"
      },
      "source": [
        "import pandas as pd\n",
        "import numpy as np\n",
        "\n",
        "from tqdm.notebook import tqdm\n",
        "\n",
        "from surprise.model_selection import cross_validate\n",
        "from surprise.model_selection import KFold\n",
        "from surprise import NormalPredictor\n",
        "from surprise import BaselineOnly\n",
        "from surprise import KNNBasic\n",
        "from surprise import KNNWithMeans\n",
        "from surprise import KNNBaseline\n",
        "from surprise import KNNWithZScore\n",
        "from surprise import SVD\n",
        "from surprise import SVDpp\n",
        "from surprise import NMF\n",
        "from surprise import SlopeOne\n",
        "from surprise import CoClustering\n",
        "from surprise import Dataset\n",
        "from surprise import accuracy\n",
        "from surprise import Reader\n",
        "from surprise.model_selection import train_test_split"
      ],
      "execution_count": 3,
      "outputs": []
    },
    {
      "cell_type": "code",
      "metadata": {
        "id": "AmRGkD7bDw-M"
      },
      "source": [
        "# read and preprocess the movie data\n",
        "movies = pd.read_table('movies.dat', sep='::', names=['movie_id', 'movie_name', 'tag'], engine='python')\n",
        "\n",
        "\n",
        "# read the ratings data and merge it with movie data\n",
        "ratings = pd.read_table(\"ratings.dat\", sep=\"::\",\n",
        "                           names=[\"user_id\", \"movie_id\", \"rating\", \"timestamp\"], engine='python')\n",
        "movies_with_ratings = pd.merge(ratings, movies, on=\"movie_id\")\n",
        "\n"
      ],
      "execution_count": 7,
      "outputs": []
    },
    {
      "cell_type": "code",
      "metadata": {
        "id": "b2YetqFvDw-O",
        "outputId": "58739f7e-30bd-4b01-cefa-28ad51e05565",
        "colab": {
          "base_uri": "https://localhost:8080/"
        }
      },
      "source": [
        "ratings['user_id'].value_counts().head(5)"
      ],
      "execution_count": 11,
      "outputs": [
        {
          "output_type": "execute_result",
          "data": {
            "text/plain": [
              "4169    2314\n",
              "1680    1850\n",
              "4277    1743\n",
              "1941    1595\n",
              "1181    1521\n",
              "Name: user_id, dtype: int64"
            ]
          },
          "metadata": {
            "tags": []
          },
          "execution_count": 11
        }
      ]
    },
    {
      "cell_type": "code",
      "metadata": {
        "id": "NiocMMCvDw-U"
      },
      "source": [
        "movies_with_ratings.dropna(inplace=True)"
      ],
      "execution_count": 12,
      "outputs": []
    },
    {
      "cell_type": "code",
      "metadata": {
        "id": "AtunLQaNDw-X",
        "outputId": "5c1a61d5-106c-4db9-a418-ba9ec6015fb0",
        "colab": {
          "base_uri": "https://localhost:8080/",
          "height": 410
        }
      },
      "source": [
        "movies_with_ratings"
      ],
      "execution_count": 13,
      "outputs": [
        {
          "output_type": "execute_result",
          "data": {
            "text/html": [
              "<div>\n",
              "<style scoped>\n",
              "    .dataframe tbody tr th:only-of-type {\n",
              "        vertical-align: middle;\n",
              "    }\n",
              "\n",
              "    .dataframe tbody tr th {\n",
              "        vertical-align: top;\n",
              "    }\n",
              "\n",
              "    .dataframe thead th {\n",
              "        text-align: right;\n",
              "    }\n",
              "</style>\n",
              "<table border=\"1\" class=\"dataframe\">\n",
              "  <thead>\n",
              "    <tr style=\"text-align: right;\">\n",
              "      <th></th>\n",
              "      <th>user_id</th>\n",
              "      <th>movie_id</th>\n",
              "      <th>rating</th>\n",
              "      <th>timestamp</th>\n",
              "      <th>movie_name</th>\n",
              "      <th>tag</th>\n",
              "    </tr>\n",
              "  </thead>\n",
              "  <tbody>\n",
              "    <tr>\n",
              "      <th>0</th>\n",
              "      <td>1</td>\n",
              "      <td>1193</td>\n",
              "      <td>5</td>\n",
              "      <td>978300760</td>\n",
              "      <td>One Flew Over the Cuckoo's Nest (1975)</td>\n",
              "      <td>Drama</td>\n",
              "    </tr>\n",
              "    <tr>\n",
              "      <th>1</th>\n",
              "      <td>2</td>\n",
              "      <td>1193</td>\n",
              "      <td>5</td>\n",
              "      <td>978298413</td>\n",
              "      <td>One Flew Over the Cuckoo's Nest (1975)</td>\n",
              "      <td>Drama</td>\n",
              "    </tr>\n",
              "    <tr>\n",
              "      <th>2</th>\n",
              "      <td>12</td>\n",
              "      <td>1193</td>\n",
              "      <td>4</td>\n",
              "      <td>978220179</td>\n",
              "      <td>One Flew Over the Cuckoo's Nest (1975)</td>\n",
              "      <td>Drama</td>\n",
              "    </tr>\n",
              "    <tr>\n",
              "      <th>3</th>\n",
              "      <td>15</td>\n",
              "      <td>1193</td>\n",
              "      <td>4</td>\n",
              "      <td>978199279</td>\n",
              "      <td>One Flew Over the Cuckoo's Nest (1975)</td>\n",
              "      <td>Drama</td>\n",
              "    </tr>\n",
              "    <tr>\n",
              "      <th>4</th>\n",
              "      <td>17</td>\n",
              "      <td>1193</td>\n",
              "      <td>5</td>\n",
              "      <td>978158471</td>\n",
              "      <td>One Flew Over the Cuckoo's Nest (1975)</td>\n",
              "      <td>Drama</td>\n",
              "    </tr>\n",
              "    <tr>\n",
              "      <th>...</th>\n",
              "      <td>...</td>\n",
              "      <td>...</td>\n",
              "      <td>...</td>\n",
              "      <td>...</td>\n",
              "      <td>...</td>\n",
              "      <td>...</td>\n",
              "    </tr>\n",
              "    <tr>\n",
              "      <th>1000204</th>\n",
              "      <td>5949</td>\n",
              "      <td>2198</td>\n",
              "      <td>5</td>\n",
              "      <td>958846401</td>\n",
              "      <td>Modulations (1998)</td>\n",
              "      <td>Documentary</td>\n",
              "    </tr>\n",
              "    <tr>\n",
              "      <th>1000205</th>\n",
              "      <td>5675</td>\n",
              "      <td>2703</td>\n",
              "      <td>3</td>\n",
              "      <td>976029116</td>\n",
              "      <td>Broken Vessels (1998)</td>\n",
              "      <td>Drama</td>\n",
              "    </tr>\n",
              "    <tr>\n",
              "      <th>1000206</th>\n",
              "      <td>5780</td>\n",
              "      <td>2845</td>\n",
              "      <td>1</td>\n",
              "      <td>958153068</td>\n",
              "      <td>White Boys (1999)</td>\n",
              "      <td>Drama</td>\n",
              "    </tr>\n",
              "    <tr>\n",
              "      <th>1000207</th>\n",
              "      <td>5851</td>\n",
              "      <td>3607</td>\n",
              "      <td>5</td>\n",
              "      <td>957756608</td>\n",
              "      <td>One Little Indian (1973)</td>\n",
              "      <td>Comedy|Drama|Western</td>\n",
              "    </tr>\n",
              "    <tr>\n",
              "      <th>1000208</th>\n",
              "      <td>5938</td>\n",
              "      <td>2909</td>\n",
              "      <td>4</td>\n",
              "      <td>957273353</td>\n",
              "      <td>Five Wives, Three Secretaries and Me (1998)</td>\n",
              "      <td>Documentary</td>\n",
              "    </tr>\n",
              "  </tbody>\n",
              "</table>\n",
              "<p>1000209 rows × 6 columns</p>\n",
              "</div>"
            ],
            "text/plain": [
              "         user_id  ...                   tag\n",
              "0              1  ...                 Drama\n",
              "1              2  ...                 Drama\n",
              "2             12  ...                 Drama\n",
              "3             15  ...                 Drama\n",
              "4             17  ...                 Drama\n",
              "...          ...  ...                   ...\n",
              "1000204     5949  ...           Documentary\n",
              "1000205     5675  ...                 Drama\n",
              "1000206     5780  ...                 Drama\n",
              "1000207     5851  ...  Comedy|Drama|Western\n",
              "1000208     5938  ...           Documentary\n",
              "\n",
              "[1000209 rows x 6 columns]"
            ]
          },
          "metadata": {
            "tags": []
          },
          "execution_count": 13
        }
      ]
    },
    {
      "cell_type": "markdown",
      "metadata": {
        "id": "GGCf6C-NDw-d"
      },
      "source": [
        "Датасет для surprise"
      ]
    },
    {
      "cell_type": "code",
      "metadata": {
        "id": "r8PhGwi2Dw-e"
      },
      "source": [
        "dataset = pd.DataFrame({\n",
        "    'uid': movies_with_ratings.user_id,\n",
        "    'iid': movies_with_ratings.movie_name,\n",
        "    'rating': movies_with_ratings.rating\n",
        "})"
      ],
      "execution_count": 16,
      "outputs": []
    },
    {
      "cell_type": "code",
      "metadata": {
        "id": "pP89j_QUDw-g"
      },
      "source": [
        "reader = Reader(rating_scale=(0.5, 5.0))\n",
        "data = Dataset.load_from_df(dataset, reader)"
      ],
      "execution_count": 17,
      "outputs": []
    },
    {
      "cell_type": "code",
      "metadata": {
        "id": "G2f1DxvNDw-i"
      },
      "source": [
        "trainset, testset = train_test_split(data, test_size=.15)"
      ],
      "execution_count": 18,
      "outputs": []
    },
    {
      "cell_type": "markdown",
      "metadata": {
        "id": "DWyzpht2yh4M"
      },
      "source": [
        "Item-based модель "
      ]
    },
    {
      "cell_type": "code",
      "metadata": {
        "id": "Eevd72bUNlVj",
        "outputId": "bf174b5e-fdb6-4846-b51b-53667f6011d1",
        "colab": {
          "base_uri": "https://localhost:8080/"
        }
      },
      "source": [
        "bsl_options = {'method': 'sgd',  'learning_rate': .0005, 'reg': .09 }\n",
        "sim_options = {'name': 'pearson_baseline','user_based': False}  #'name': ['msd', 'cosine','pearson_baseline' pearson]\n",
        "\n",
        "model_item = KNNBasic(k =10, bsl_options = bsl_options , sim_options = sim_options)\n",
        "model_item.fit(trainset)\n",
        "test_pred_i = model_item.test(testset)    \n",
        "rez.append(['KNNBasic',  accuracy.rmse(test_pred_i),accuracy.mae(test_pred_i),bsl_options] )"
      ],
      "execution_count": 80,
      "outputs": [
        {
          "output_type": "stream",
          "text": [
            "Estimating biases using sgd...\n",
            "Computing the pearson_baseline similarity matrix...\n",
            "Done computing similarity matrix.\n",
            "RMSE: 0.9164\n",
            "MAE:  0.7134\n"
          ],
          "name": "stdout"
        }
      ]
    },
    {
      "cell_type": "markdown",
      "metadata": {
        "id": "wrKoEI0EDw-k"
      },
      "source": [
        "User-based модель"
      ]
    },
    {
      "cell_type": "code",
      "metadata": {
        "id": "iExftYKbPx4s"
      },
      "source": [
        "rez = []"
      ],
      "execution_count": 39,
      "outputs": []
    },
    {
      "cell_type": "code",
      "metadata": {
        "id": "vP125pqmDw-2"
      },
      "source": [
        "bsl_options = {'method': 'als', 'n_epochs': 50}\n",
        "sim_options = {'name': 'pearson_baseline','user_based': True}  #'name': ['msd', 'cosine','pearson_baseline' pearson]\n",
        "\n",
        "model = KNNBasic(k =50, bsl_options = bsl_options , sim_options = sim_options)\n",
        "model.fit(trainset)\n",
        "test_pred = model.test(testset)    \n",
        "rez.append(['KNNBasic',  accuracy.rmse(test_pred),accuracy.mae(test_pred),bsl_options] )\n",
        "\n",
        "bsl_options = {'method': 'als', 'n_epochs': 50}\n",
        "sim_options = {'name': 'cosine','user_based': True}  #'name': ['msd', 'cosine','pearson_baseline' pearson]\n",
        "model = KNNBaseline(k =50, bsl_options = bsl_options , sim_options = sim_options)\n",
        "model.fit(trainset)\n",
        "test_pred = model.test(testset)    \n",
        "rez.append(['KNNBaseline',   accuracy.rmse(test_pred),accuracy.mae(test_pred),bsl_options] )\n",
        "\n",
        "bsl_options = {'method': 'sgd',  'learning_rate': .0005, 'reg': 1.5 }\n",
        "test_pred = {}\n",
        "model = KNNWithMeans(k =50, bsl_options = bsl_options , sim_options = sim_options)\n",
        "model.fit(trainset)\n",
        "test_pred = model.test(testset)    \n",
        "rez.append(['KNNWithMeans',   accuracy.rmse(test_pred),accuracy.mae(test_pred),bsl_options] )\n",
        "\n",
        "model = KNNBaseline(k =50, bsl_options = bsl_options , sim_options = sim_options)\n",
        "model.fit(trainset)\n",
        "test_pred = model.test(testset)    \n",
        "rez.append(['KNNBaseline',   accuracy.rmse(test_pred),accuracy.mae(test_pred),bsl_options] )\n",
        "\n",
        "model = KNNWithZScore(k =50, bsl_options = bsl_options , sim_options = sim_options)\n",
        "model.fit(trainset)\n",
        "test_pred = model.test(testset)    \n",
        "rez.append(['KNNWithZScore',   accuracy.rmse(test_pred),accuracy.mae(test_pred),bsl_options] )"
      ],
      "execution_count": null,
      "outputs": []
    },
    {
      "cell_type": "code",
      "metadata": {
        "id": "lZwiChbgDw-6"
      },
      "source": [
        "bsl_options = {'method': 'als', 'n_epochs': 20, 'reg_u': .1,  'reg_i': 0.9 }  \n",
        "sim_options = {'name': 'pearson_baseline'}\n",
        "\n",
        "model = BaselineOnly(bsl_options = bsl_options )\n",
        "model.fit(trainset)\n",
        "test_pred_b = model.test(testset)    \n",
        "rez.append(['BaselineOnly',  accuracy.rmse(test_pred_b),accuracy.mae(test_pred_b),bsl_options] )\n",
        "\n",
        "\n",
        "bsl_options = {'method': 'sgd',  'learning_rate': .0005 }\n",
        "model = BaselineOnly(bsl_options = bsl_options )\n",
        "model.fit(trainset)\n",
        "test_pred = model.test(testset)    \n",
        "rez.append(['BaselineOnly',  accuracy.rmse(test_pred),accuracy.mae(test_pred),bsl_options] )"
      ],
      "execution_count": null,
      "outputs": []
    },
    {
      "cell_type": "code",
      "metadata": {
        "id": "y2lpaEqMDw-8"
      },
      "source": [
        "bsl_options = 'n_factors = 50, n_epochs =20, biased = True '\n",
        "\n",
        "model = NMF(n_factors = 50, n_epochs =20, biased = True )\n",
        "model.fit(trainset)\n",
        "test_pred = model.test(testset)    \n",
        "rez.append(['NMF',  accuracy.rmse(test_pred),accuracy.mae(test_pred),bsl_options] )"
      ],
      "execution_count": null,
      "outputs": []
    },
    {
      "cell_type": "code",
      "metadata": {
        "id": "mt906__kDw--"
      },
      "source": [
        "bsl_options = '-'\n",
        "\n",
        "model = SlopeOne()\n",
        "model.fit(trainset)\n",
        "test_pred = model.test(testset)    \n",
        "rez.append(['SlopeOne',  accuracy.rmse(test_pred),accuracy.mae(test_pred),bsl_options] )"
      ],
      "execution_count": null,
      "outputs": []
    },
    {
      "cell_type": "code",
      "metadata": {
        "id": "BEnxi1PmDw_A"
      },
      "source": [
        "bsl_options = 'n_cltr_u = 100, n_cltr_i = 100 ,n_epochs =5,  random_state=42'\n",
        "\n",
        "model = CoClustering(n_cltr_u = 100, n_cltr_i = 100 ,n_epochs =5,  random_state=42)\n",
        "model.fit(trainset)\n",
        "test_pred = model.test(testset)    \n",
        "rez.append(['CoClustering',  accuracy.rmse(test_pred),accuracy.mae(test_pred),bsl_options] )\n"
      ],
      "execution_count": null,
      "outputs": []
    },
    {
      "cell_type": "code",
      "metadata": {
        "id": "NG3fPI0RDw_C"
      },
      "source": [
        "bsl_options = '-'\n",
        "\n",
        "model = NormalPredictor()\n",
        "model.fit(trainset)\n",
        "test_pred = model.test(testset)    \n",
        "rez.append(['NormalPredictor',  accuracy.rmse(test_pred),accuracy.mae(test_pred),bsl_options] )"
      ],
      "execution_count": null,
      "outputs": []
    },
    {
      "cell_type": "code",
      "metadata": {
        "id": "bovc5NZzbvj2",
        "outputId": "16909094-b148-439d-d20b-f18c1892872a",
        "colab": {
          "base_uri": "https://localhost:8080/"
        }
      },
      "source": [
        "bsl_options = {'method': 'sgd',  'learning_rate': .005, 'reg': .09 }\n",
        "sim_options = {'name': 'pearson_baseline','user_based': True}  #'name': ['msd', 'cosine','pearson_baseline' pearson]\n",
        "model = KNNBaseline(k =50, bsl_options = bsl_options , sim_options = sim_options)\n",
        "model.fit(trainset)\n",
        "test_pred_knn = model.test(testset)   \n",
        "\n",
        "rez.append(['KNNBaseline',   accuracy.rmse(test_pred_knn),accuracy.mae(test_pred_knn),bsl_options] )\n",
        "\n"
      ],
      "execution_count": 60,
      "outputs": [
        {
          "output_type": "stream",
          "text": [
            "Estimating biases using sgd...\n",
            "Computing the pearson_baseline similarity matrix...\n",
            "Done computing similarity matrix.\n",
            "RMSE: 0.8680\n",
            "MAE:  0.6790\n"
          ],
          "name": "stdout"
        }
      ]
    },
    {
      "cell_type": "code",
      "metadata": {
        "id": "T6QlFw3YDw_H"
      },
      "source": [
        "rez_tab = pd.DataFrame(rez)\n",
        "rez_tab.columns = ['Model', 'RMSE', 'MAE', 'Params'] "
      ],
      "execution_count": 61,
      "outputs": []
    },
    {
      "cell_type": "code",
      "metadata": {
        "id": "cRb3f9OFDw_L",
        "outputId": "99195208-1e37-45cc-d212-36510395a46e",
        "colab": {
          "base_uri": "https://localhost:8080/",
          "height": 593
        }
      },
      "source": [
        "pd.set_option('max_colwidth', 100)\n",
        "rez_tab.sort_values('RMSE')"
      ],
      "execution_count": 62,
      "outputs": [
        {
          "output_type": "execute_result",
          "data": {
            "text/html": [
              "<div>\n",
              "<style scoped>\n",
              "    .dataframe tbody tr th:only-of-type {\n",
              "        vertical-align: middle;\n",
              "    }\n",
              "\n",
              "    .dataframe tbody tr th {\n",
              "        vertical-align: top;\n",
              "    }\n",
              "\n",
              "    .dataframe thead th {\n",
              "        text-align: right;\n",
              "    }\n",
              "</style>\n",
              "<table border=\"1\" class=\"dataframe\">\n",
              "  <thead>\n",
              "    <tr style=\"text-align: right;\">\n",
              "      <th></th>\n",
              "      <th>Model</th>\n",
              "      <th>RMSE</th>\n",
              "      <th>MAE</th>\n",
              "      <th>Params</th>\n",
              "    </tr>\n",
              "  </thead>\n",
              "  <tbody>\n",
              "    <tr>\n",
              "      <th>17</th>\n",
              "      <td>KNNBaseline</td>\n",
              "      <td>0.867976</td>\n",
              "      <td>0.678954</td>\n",
              "      <td>{'method': 'sgd', 'learning_rate': 0.005, 'reg': 0.09}</td>\n",
              "    </tr>\n",
              "    <tr>\n",
              "      <th>3</th>\n",
              "      <td>KNNBaseline</td>\n",
              "      <td>0.884387</td>\n",
              "      <td>0.694571</td>\n",
              "      <td>{'method': 'sgd', 'learning_rate': 0.0005, 'reg': 1.5}</td>\n",
              "    </tr>\n",
              "    <tr>\n",
              "      <th>5</th>\n",
              "      <td>KNNBaseline</td>\n",
              "      <td>0.884387</td>\n",
              "      <td>0.694571</td>\n",
              "      <td>{'method': 'sgd', 'learning_rate': 0.0005, 'reg': 1.5}</td>\n",
              "    </tr>\n",
              "    <tr>\n",
              "      <th>6</th>\n",
              "      <td>KNNWithZScore</td>\n",
              "      <td>0.893203</td>\n",
              "      <td>0.690148</td>\n",
              "      <td>{'method': 'sgd', 'learning_rate': 0.0005, 'reg': 1.5}</td>\n",
              "    </tr>\n",
              "    <tr>\n",
              "      <th>4</th>\n",
              "      <td>KNNWithMeans</td>\n",
              "      <td>0.897171</td>\n",
              "      <td>0.695509</td>\n",
              "      <td>{'method': 'sgd', 'learning_rate': 0.0005, 'reg': 1.5}</td>\n",
              "    </tr>\n",
              "    <tr>\n",
              "      <th>1</th>\n",
              "      <td>KNNBaseline</td>\n",
              "      <td>0.897510</td>\n",
              "      <td>0.709236</td>\n",
              "      <td>{'method': 'als', 'n_epochs': 50}</td>\n",
              "    </tr>\n",
              "    <tr>\n",
              "      <th>15</th>\n",
              "      <td>SVD</td>\n",
              "      <td>0.902207</td>\n",
              "      <td>0.713755</td>\n",
              "      <td>n_factors = 20, n_epochs =20, reg_pu = 0.1, reg_qi = 0.1, biased = True</td>\n",
              "    </tr>\n",
              "    <tr>\n",
              "      <th>12</th>\n",
              "      <td>SlopeOne</td>\n",
              "      <td>0.906469</td>\n",
              "      <td>0.714120</td>\n",
              "      <td>-</td>\n",
              "    </tr>\n",
              "    <tr>\n",
              "      <th>11</th>\n",
              "      <td>SlopeOne</td>\n",
              "      <td>0.906469</td>\n",
              "      <td>0.714120</td>\n",
              "      <td>-</td>\n",
              "    </tr>\n",
              "    <tr>\n",
              "      <th>7</th>\n",
              "      <td>BaselineOnly</td>\n",
              "      <td>0.908023</td>\n",
              "      <td>0.716432</td>\n",
              "      <td>{'method': 'als', 'n_epochs': 20, 'reg_u': 0.1, 'reg_i': 0.9}</td>\n",
              "    </tr>\n",
              "    <tr>\n",
              "      <th>8</th>\n",
              "      <td>BaselineOnly</td>\n",
              "      <td>0.908275</td>\n",
              "      <td>0.718069</td>\n",
              "      <td>{'method': 'als', 'n_epochs': 15, 'reg_u': 12, 'reg_i': 5}</td>\n",
              "    </tr>\n",
              "    <tr>\n",
              "      <th>16</th>\n",
              "      <td>KNNBaseline</td>\n",
              "      <td>0.909257</td>\n",
              "      <td>0.718973</td>\n",
              "      <td>{'method': 'sgd', 'learning_rate': 0.0005, 'reg': 0.5}</td>\n",
              "    </tr>\n",
              "    <tr>\n",
              "      <th>9</th>\n",
              "      <td>BaselineOnly</td>\n",
              "      <td>0.921643</td>\n",
              "      <td>0.731103</td>\n",
              "      <td>{'method': 'sgd', 'learning_rate': 0.0005}</td>\n",
              "    </tr>\n",
              "    <tr>\n",
              "      <th>2</th>\n",
              "      <td>KNNBaseline</td>\n",
              "      <td>0.924856</td>\n",
              "      <td>0.731433</td>\n",
              "      <td>{'method': 'sgd', 'learning_rate': 0.0005, 'reg': 1.5}</td>\n",
              "    </tr>\n",
              "    <tr>\n",
              "      <th>0</th>\n",
              "      <td>KNNBasic</td>\n",
              "      <td>0.926383</td>\n",
              "      <td>0.737020</td>\n",
              "      <td>{'method': 'als', 'n_epochs': 50}</td>\n",
              "    </tr>\n",
              "    <tr>\n",
              "      <th>13</th>\n",
              "      <td>CoClustering</td>\n",
              "      <td>0.942993</td>\n",
              "      <td>0.737101</td>\n",
              "      <td>n_cltr_u = 100, n_cltr_i = 100 ,n_epochs =5,  random_state=42</td>\n",
              "    </tr>\n",
              "    <tr>\n",
              "      <th>10</th>\n",
              "      <td>NMF</td>\n",
              "      <td>1.099246</td>\n",
              "      <td>0.830893</td>\n",
              "      <td>n_factors = 50, n_epochs =20, biased = True</td>\n",
              "    </tr>\n",
              "    <tr>\n",
              "      <th>14</th>\n",
              "      <td>NormalPredictor</td>\n",
              "      <td>1.513375</td>\n",
              "      <td>1.211844</td>\n",
              "      <td>-</td>\n",
              "    </tr>\n",
              "  </tbody>\n",
              "</table>\n",
              "</div>"
            ],
            "text/plain": [
              "              Model  ...                                                                    Params\n",
              "17      KNNBaseline  ...                    {'method': 'sgd', 'learning_rate': 0.005, 'reg': 0.09}\n",
              "3       KNNBaseline  ...                    {'method': 'sgd', 'learning_rate': 0.0005, 'reg': 1.5}\n",
              "5       KNNBaseline  ...                    {'method': 'sgd', 'learning_rate': 0.0005, 'reg': 1.5}\n",
              "6     KNNWithZScore  ...                    {'method': 'sgd', 'learning_rate': 0.0005, 'reg': 1.5}\n",
              "4      KNNWithMeans  ...                    {'method': 'sgd', 'learning_rate': 0.0005, 'reg': 1.5}\n",
              "1       KNNBaseline  ...                                         {'method': 'als', 'n_epochs': 50}\n",
              "15              SVD  ...  n_factors = 20, n_epochs =20, reg_pu = 0.1, reg_qi = 0.1, biased = True \n",
              "12         SlopeOne  ...                                                                         -\n",
              "11         SlopeOne  ...                                                                         -\n",
              "7      BaselineOnly  ...             {'method': 'als', 'n_epochs': 20, 'reg_u': 0.1, 'reg_i': 0.9}\n",
              "8      BaselineOnly  ...                {'method': 'als', 'n_epochs': 15, 'reg_u': 12, 'reg_i': 5}\n",
              "16      KNNBaseline  ...                    {'method': 'sgd', 'learning_rate': 0.0005, 'reg': 0.5}\n",
              "9      BaselineOnly  ...                                {'method': 'sgd', 'learning_rate': 0.0005}\n",
              "2       KNNBaseline  ...                    {'method': 'sgd', 'learning_rate': 0.0005, 'reg': 1.5}\n",
              "0          KNNBasic  ...                                         {'method': 'als', 'n_epochs': 50}\n",
              "13     CoClustering  ...             n_cltr_u = 100, n_cltr_i = 100 ,n_epochs =5,  random_state=42\n",
              "10              NMF  ...                              n_factors = 50, n_epochs =20, biased = True \n",
              "14  NormalPredictor  ...                                                                         -\n",
              "\n",
              "[18 rows x 4 columns]"
            ]
          },
          "metadata": {
            "tags": []
          },
          "execution_count": 62
        }
      ]
    },
    {
      "cell_type": "markdown",
      "metadata": {
        "id": "1iqTKr5bxpP1"
      },
      "source": [
        " 0.867976  -  наилучший вариант  для модели KNNBaseline  с параметрами 'method': 'sgd', 'learning_rate': 0.005, 'reg': 0.09"
      ]
    },
    {
      "cell_type": "markdown",
      "metadata": {
        "id": "WhAle6rjxpx_"
      },
      "source": [
        "Проверка предсказанной оценки на примерах:"
      ]
    },
    {
      "cell_type": "code",
      "metadata": {
        "id": "UJfFLBVNbdKe",
        "outputId": "adaec387-a900-4d1b-877f-03062a66c449",
        "colab": {
          "base_uri": "https://localhost:8080/"
        }
      },
      "source": [
        "model.predict(uid=472, iid='Silence of the Lambs, The (1991)')"
      ],
      "execution_count": 72,
      "outputs": [
        {
          "output_type": "execute_result",
          "data": {
            "text/plain": [
              "Prediction(uid=472, iid='Silence of the Lambs, The (1991)', r_ui=None, est=4.804837615984431, details={'actual_k': 50, 'was_impossible': False})"
            ]
          },
          "metadata": {
            "tags": []
          },
          "execution_count": 72
        }
      ]
    },
    {
      "cell_type": "code",
      "metadata": {
        "id": "CCCo6TnMt-20",
        "outputId": "ae9b8467-bd52-4b33-af7b-641f0985aaef",
        "colab": {
          "base_uri": "https://localhost:8080/",
          "height": 78
        }
      },
      "source": [
        "movies_with_ratings.query('movie_name == \\'Silence of the Lambs, The (1991)\\' and user_id == 472')"
      ],
      "execution_count": 66,
      "outputs": [
        {
          "output_type": "execute_result",
          "data": {
            "text/html": [
              "<div>\n",
              "<style scoped>\n",
              "    .dataframe tbody tr th:only-of-type {\n",
              "        vertical-align: middle;\n",
              "    }\n",
              "\n",
              "    .dataframe tbody tr th {\n",
              "        vertical-align: top;\n",
              "    }\n",
              "\n",
              "    .dataframe thead th {\n",
              "        text-align: right;\n",
              "    }\n",
              "</style>\n",
              "<table border=\"1\" class=\"dataframe\">\n",
              "  <thead>\n",
              "    <tr style=\"text-align: right;\">\n",
              "      <th></th>\n",
              "      <th>user_id</th>\n",
              "      <th>movie_id</th>\n",
              "      <th>rating</th>\n",
              "      <th>timestamp</th>\n",
              "      <th>movie_name</th>\n",
              "      <th>tag</th>\n",
              "    </tr>\n",
              "  </thead>\n",
              "  <tbody>\n",
              "    <tr>\n",
              "      <th>136107</th>\n",
              "      <td>472</td>\n",
              "      <td>593</td>\n",
              "      <td>5</td>\n",
              "      <td>976222262</td>\n",
              "      <td>Silence of the Lambs, The (1991)</td>\n",
              "      <td>Drama|Thriller</td>\n",
              "    </tr>\n",
              "  </tbody>\n",
              "</table>\n",
              "</div>"
            ],
            "text/plain": [
              "        user_id  movie_id  ...                        movie_name             tag\n",
              "136107      472       593  ...  Silence of the Lambs, The (1991)  Drama|Thriller\n",
              "\n",
              "[1 rows x 6 columns]"
            ]
          },
          "metadata": {
            "tags": []
          },
          "execution_count": 66
        }
      ]
    },
    {
      "cell_type": "code",
      "metadata": {
        "id": "O8JVbATyxcHc",
        "outputId": "d08cb98d-7e14-48c1-a4a7-b66103e01b80",
        "colab": {
          "base_uri": "https://localhost:8080/"
        }
      },
      "source": [
        "model.predict(uid=3, iid='Silence of the Lambs, The (1991)')"
      ],
      "execution_count": 70,
      "outputs": [
        {
          "output_type": "execute_result",
          "data": {
            "text/plain": [
              "Prediction(uid=3, iid='Silence of the Lambs, The (1991)', r_ui=None, est=3.6687458351371522, details={'actual_k': 50, 'was_impossible': False})"
            ]
          },
          "metadata": {
            "tags": []
          },
          "execution_count": 70
        }
      ]
    },
    {
      "cell_type": "code",
      "metadata": {
        "id": "JMwFgjkmxG5Y",
        "outputId": "922ce4c4-c8a3-454e-e5a6-e6c24f4d7e64",
        "colab": {
          "base_uri": "https://localhost:8080/",
          "height": 78
        }
      },
      "source": [
        "movies_with_ratings.query('movie_name == \\'Silence of the Lambs, The (1991)\\' and user_id == 3')"
      ],
      "execution_count": 71,
      "outputs": [
        {
          "output_type": "execute_result",
          "data": {
            "text/html": [
              "<div>\n",
              "<style scoped>\n",
              "    .dataframe tbody tr th:only-of-type {\n",
              "        vertical-align: middle;\n",
              "    }\n",
              "\n",
              "    .dataframe tbody tr th {\n",
              "        vertical-align: top;\n",
              "    }\n",
              "\n",
              "    .dataframe thead th {\n",
              "        text-align: right;\n",
              "    }\n",
              "</style>\n",
              "<table border=\"1\" class=\"dataframe\">\n",
              "  <thead>\n",
              "    <tr style=\"text-align: right;\">\n",
              "      <th></th>\n",
              "      <th>user_id</th>\n",
              "      <th>movie_id</th>\n",
              "      <th>rating</th>\n",
              "      <th>timestamp</th>\n",
              "      <th>movie_name</th>\n",
              "      <th>tag</th>\n",
              "    </tr>\n",
              "  </thead>\n",
              "  <tbody>\n",
              "    <tr>\n",
              "      <th>135922</th>\n",
              "      <td>3</td>\n",
              "      <td>593</td>\n",
              "      <td>3</td>\n",
              "      <td>978297018</td>\n",
              "      <td>Silence of the Lambs, The (1991)</td>\n",
              "      <td>Drama|Thriller</td>\n",
              "    </tr>\n",
              "  </tbody>\n",
              "</table>\n",
              "</div>"
            ],
            "text/plain": [
              "        user_id  movie_id  ...                        movie_name             tag\n",
              "135922        3       593  ...  Silence of the Lambs, The (1991)  Drama|Thriller\n",
              "\n",
              "[1 rows x 6 columns]"
            ]
          },
          "metadata": {
            "tags": []
          },
          "execution_count": 71
        }
      ]
    },
    {
      "cell_type": "markdown",
      "metadata": {
        "id": "qg1mtMp_y90t"
      },
      "source": [
        "Для сравнения item-based и user-based моделей:"
      ]
    },
    {
      "cell_type": "code",
      "metadata": {
        "id": "d_1t2d4qxfaA",
        "outputId": "38bc4424-c460-45ca-edad-c4ea71549900",
        "colab": {
          "base_uri": "https://localhost:8080/"
        }
      },
      "source": [
        "print(\"Оценка user-based:\", model.predict(uid=2, iid='Manhattan (1979)').est )   "
      ],
      "execution_count": 82,
      "outputs": [
        {
          "output_type": "stream",
          "text": [
            "Оценка user-based: 3.478024836487156\n"
          ],
          "name": "stdout"
        }
      ]
    },
    {
      "cell_type": "code",
      "metadata": {
        "id": "h55PQd90yvMk",
        "outputId": "a210de3b-4051-4bce-f344-f5d5b0744440",
        "colab": {
          "base_uri": "https://localhost:8080/"
        }
      },
      "source": [
        "print(\"Оценка item-based:\", model_item.predict(uid=2, iid='Manhattan (1979)').est)"
      ],
      "execution_count": 81,
      "outputs": [
        {
          "output_type": "stream",
          "text": [
            "Оценка item-based: 3.238521187752126\n"
          ],
          "name": "stdout"
        }
      ]
    },
    {
      "cell_type": "code",
      "metadata": {
        "id": "FXGsUVmrzGLl",
        "outputId": "2d05b8db-a385-4640-8818-f3c06c7081f5",
        "colab": {
          "base_uri": "https://localhost:8080/",
          "height": 78
        }
      },
      "source": [
        "movies_with_ratings.query('movie_name == \\'Manhattan (1979)\\' and user_id == 2')"
      ],
      "execution_count": 76,
      "outputs": [
        {
          "output_type": "execute_result",
          "data": {
            "text/html": [
              "<div>\n",
              "<style scoped>\n",
              "    .dataframe tbody tr th:only-of-type {\n",
              "        vertical-align: middle;\n",
              "    }\n",
              "\n",
              "    .dataframe tbody tr th {\n",
              "        vertical-align: top;\n",
              "    }\n",
              "\n",
              "    .dataframe thead th {\n",
              "        text-align: right;\n",
              "    }\n",
              "</style>\n",
              "<table border=\"1\" class=\"dataframe\">\n",
              "  <thead>\n",
              "    <tr style=\"text-align: right;\">\n",
              "      <th></th>\n",
              "      <th>user_id</th>\n",
              "      <th>movie_id</th>\n",
              "      <th>rating</th>\n",
              "      <th>timestamp</th>\n",
              "      <th>movie_name</th>\n",
              "      <th>tag</th>\n",
              "    </tr>\n",
              "  </thead>\n",
              "  <tbody>\n",
              "    <tr>\n",
              "      <th>177108</th>\n",
              "      <td>2</td>\n",
              "      <td>1244</td>\n",
              "      <td>3</td>\n",
              "      <td>978299143</td>\n",
              "      <td>Manhattan (1979)</td>\n",
              "      <td>Comedy|Drama|Romance</td>\n",
              "    </tr>\n",
              "  </tbody>\n",
              "</table>\n",
              "</div>"
            ],
            "text/plain": [
              "        user_id  movie_id  ...        movie_name                   tag\n",
              "177108        2      1244  ...  Manhattan (1979)  Comedy|Drama|Romance\n",
              "\n",
              "[1 rows x 6 columns]"
            ]
          },
          "metadata": {
            "tags": []
          },
          "execution_count": 76
        }
      ]
    },
    {
      "cell_type": "code",
      "metadata": {
        "id": "ucWvgx691QO6",
        "outputId": "41e5ac7d-8c74-464a-cb4d-c688b1fdc6be",
        "colab": {
          "base_uri": "https://localhost:8080/"
        }
      },
      "source": [
        "print(\"Оценка user-based:\", model.predict(uid=2, iid='Driving Miss Daisy (1989)').est)"
      ],
      "execution_count": 83,
      "outputs": [
        {
          "output_type": "stream",
          "text": [
            "Оценка user-based: 4.425529309536123\n"
          ],
          "name": "stdout"
        }
      ]
    },
    {
      "cell_type": "code",
      "metadata": {
        "id": "gJx3gt1d1J-t",
        "outputId": "19692fe2-7bce-49f8-b32e-4fabb3377a19",
        "colab": {
          "base_uri": "https://localhost:8080/"
        }
      },
      "source": [
        "print(\"Оценка item-based:\",model_item.predict(uid=2, iid='Driving Miss Daisy (1989)').est)"
      ],
      "execution_count": 84,
      "outputs": [
        {
          "output_type": "stream",
          "text": [
            "Оценка item-based: 4.746453887907432\n"
          ],
          "name": "stdout"
        }
      ]
    },
    {
      "cell_type": "code",
      "metadata": {
        "id": "G_JoGHFEy4Gn",
        "outputId": "5cde828c-ccb1-4998-cbe7-217c686e8a52",
        "colab": {
          "base_uri": "https://localhost:8080/",
          "height": 78
        }
      },
      "source": [
        "movies_with_ratings.query('movie_name == \\'Driving Miss Daisy (1989)\\' and user_id == 2')"
      ],
      "execution_count": 75,
      "outputs": [
        {
          "output_type": "execute_result",
          "data": {
            "text/html": [
              "<div>\n",
              "<style scoped>\n",
              "    .dataframe tbody tr th:only-of-type {\n",
              "        vertical-align: middle;\n",
              "    }\n",
              "\n",
              "    .dataframe tbody tr th {\n",
              "        vertical-align: top;\n",
              "    }\n",
              "\n",
              "    .dataframe thead th {\n",
              "        text-align: right;\n",
              "    }\n",
              "</style>\n",
              "<table border=\"1\" class=\"dataframe\">\n",
              "  <thead>\n",
              "    <tr style=\"text-align: right;\">\n",
              "      <th></th>\n",
              "      <th>user_id</th>\n",
              "      <th>movie_id</th>\n",
              "      <th>rating</th>\n",
              "      <th>timestamp</th>\n",
              "      <th>movie_name</th>\n",
              "      <th>tag</th>\n",
              "    </tr>\n",
              "  </thead>\n",
              "  <tbody>\n",
              "    <tr>\n",
              "      <th>45034</th>\n",
              "      <td>2</td>\n",
              "      <td>1962</td>\n",
              "      <td>5</td>\n",
              "      <td>978298813</td>\n",
              "      <td>Driving Miss Daisy (1989)</td>\n",
              "      <td>Drama</td>\n",
              "    </tr>\n",
              "  </tbody>\n",
              "</table>\n",
              "</div>"
            ],
            "text/plain": [
              "       user_id  movie_id  rating  timestamp                 movie_name    tag\n",
              "45034        2      1962       5  978298813  Driving Miss Daisy (1989)  Drama"
            ]
          },
          "metadata": {
            "tags": []
          },
          "execution_count": 75
        }
      ]
    }
  ]
}